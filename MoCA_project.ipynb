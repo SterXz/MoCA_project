{
  "nbformat": 4,
  "nbformat_minor": 0,
  "metadata": {
    "colab": {
      "provenance": [],
      "collapsed_sections": [
        "JXavG2Laf30a",
        "SC0kzyMSos_w",
        "4O9LJ_iVAd-4",
        "qOcUmbp6LOmd",
        "Hn7evQYgbOGf"
      ]
    },
    "kernelspec": {
      "name": "python3",
      "display_name": "Python 3"
    },
    "language_info": {
      "name": "python"
    },
    "gpuClass": "standard",
    "widgets": {
      "application/vnd.jupyter.widget-state+json": {
        "0053c2680e914ba28d1a0dfecbfd038b": {
          "model_module": "@jupyter-widgets/controls",
          "model_name": "HBoxModel",
          "model_module_version": "1.5.0",
          "state": {
            "_dom_classes": [],
            "_model_module": "@jupyter-widgets/controls",
            "_model_module_version": "1.5.0",
            "_model_name": "HBoxModel",
            "_view_count": null,
            "_view_module": "@jupyter-widgets/controls",
            "_view_module_version": "1.5.0",
            "_view_name": "HBoxView",
            "box_style": "",
            "children": [
              "IPY_MODEL_68a0ed3e0f6f403cbb272acbab65942c",
              "IPY_MODEL_d86d7b7083b14cb28e0399bb6f87586c",
              "IPY_MODEL_9efc85be039849dd8d44f8899f617fc8"
            ],
            "layout": "IPY_MODEL_8b589e249b4f47d7be80b432dc238e5e"
          }
        },
        "68a0ed3e0f6f403cbb272acbab65942c": {
          "model_module": "@jupyter-widgets/controls",
          "model_name": "HTMLModel",
          "model_module_version": "1.5.0",
          "state": {
            "_dom_classes": [],
            "_model_module": "@jupyter-widgets/controls",
            "_model_module_version": "1.5.0",
            "_model_name": "HTMLModel",
            "_view_count": null,
            "_view_module": "@jupyter-widgets/controls",
            "_view_module_version": "1.5.0",
            "_view_name": "HTMLView",
            "description": "",
            "description_tooltip": null,
            "layout": "IPY_MODEL_ee38a02210454f66b4d95005dedea538",
            "placeholder": "​",
            "style": "IPY_MODEL_136eddf6f9154e26809283e5ccc8acc5",
            "value": "Downloading: 100%"
          }
        },
        "d86d7b7083b14cb28e0399bb6f87586c": {
          "model_module": "@jupyter-widgets/controls",
          "model_name": "FloatProgressModel",
          "model_module_version": "1.5.0",
          "state": {
            "_dom_classes": [],
            "_model_module": "@jupyter-widgets/controls",
            "_model_module_version": "1.5.0",
            "_model_name": "FloatProgressModel",
            "_view_count": null,
            "_view_module": "@jupyter-widgets/controls",
            "_view_module_version": "1.5.0",
            "_view_name": "ProgressView",
            "bar_style": "success",
            "description": "",
            "description_tooltip": null,
            "layout": "IPY_MODEL_68521f0e36c94ff6b88b7272d735fe15",
            "max": 715,
            "min": 0,
            "orientation": "horizontal",
            "style": "IPY_MODEL_18fd26f99bd544c9be269edca79bb0a6",
            "value": 715
          }
        },
        "9efc85be039849dd8d44f8899f617fc8": {
          "model_module": "@jupyter-widgets/controls",
          "model_name": "HTMLModel",
          "model_module_version": "1.5.0",
          "state": {
            "_dom_classes": [],
            "_model_module": "@jupyter-widgets/controls",
            "_model_module_version": "1.5.0",
            "_model_name": "HTMLModel",
            "_view_count": null,
            "_view_module": "@jupyter-widgets/controls",
            "_view_module_version": "1.5.0",
            "_view_name": "HTMLView",
            "description": "",
            "description_tooltip": null,
            "layout": "IPY_MODEL_0066dd7c710849aa843fe80db6550810",
            "placeholder": "​",
            "style": "IPY_MODEL_878fd8aacb1f4957a6455b5543a8b5d6",
            "value": " 715/715 [00:00&lt;00:00, 40.7kB/s]"
          }
        },
        "8b589e249b4f47d7be80b432dc238e5e": {
          "model_module": "@jupyter-widgets/base",
          "model_name": "LayoutModel",
          "model_module_version": "1.2.0",
          "state": {
            "_model_module": "@jupyter-widgets/base",
            "_model_module_version": "1.2.0",
            "_model_name": "LayoutModel",
            "_view_count": null,
            "_view_module": "@jupyter-widgets/base",
            "_view_module_version": "1.2.0",
            "_view_name": "LayoutView",
            "align_content": null,
            "align_items": null,
            "align_self": null,
            "border": null,
            "bottom": null,
            "display": null,
            "flex": null,
            "flex_flow": null,
            "grid_area": null,
            "grid_auto_columns": null,
            "grid_auto_flow": null,
            "grid_auto_rows": null,
            "grid_column": null,
            "grid_gap": null,
            "grid_row": null,
            "grid_template_areas": null,
            "grid_template_columns": null,
            "grid_template_rows": null,
            "height": null,
            "justify_content": null,
            "justify_items": null,
            "left": null,
            "margin": null,
            "max_height": null,
            "max_width": null,
            "min_height": null,
            "min_width": null,
            "object_fit": null,
            "object_position": null,
            "order": null,
            "overflow": null,
            "overflow_x": null,
            "overflow_y": null,
            "padding": null,
            "right": null,
            "top": null,
            "visibility": null,
            "width": null
          }
        },
        "ee38a02210454f66b4d95005dedea538": {
          "model_module": "@jupyter-widgets/base",
          "model_name": "LayoutModel",
          "model_module_version": "1.2.0",
          "state": {
            "_model_module": "@jupyter-widgets/base",
            "_model_module_version": "1.2.0",
            "_model_name": "LayoutModel",
            "_view_count": null,
            "_view_module": "@jupyter-widgets/base",
            "_view_module_version": "1.2.0",
            "_view_name": "LayoutView",
            "align_content": null,
            "align_items": null,
            "align_self": null,
            "border": null,
            "bottom": null,
            "display": null,
            "flex": null,
            "flex_flow": null,
            "grid_area": null,
            "grid_auto_columns": null,
            "grid_auto_flow": null,
            "grid_auto_rows": null,
            "grid_column": null,
            "grid_gap": null,
            "grid_row": null,
            "grid_template_areas": null,
            "grid_template_columns": null,
            "grid_template_rows": null,
            "height": null,
            "justify_content": null,
            "justify_items": null,
            "left": null,
            "margin": null,
            "max_height": null,
            "max_width": null,
            "min_height": null,
            "min_width": null,
            "object_fit": null,
            "object_position": null,
            "order": null,
            "overflow": null,
            "overflow_x": null,
            "overflow_y": null,
            "padding": null,
            "right": null,
            "top": null,
            "visibility": null,
            "width": null
          }
        },
        "136eddf6f9154e26809283e5ccc8acc5": {
          "model_module": "@jupyter-widgets/controls",
          "model_name": "DescriptionStyleModel",
          "model_module_version": "1.5.0",
          "state": {
            "_model_module": "@jupyter-widgets/controls",
            "_model_module_version": "1.5.0",
            "_model_name": "DescriptionStyleModel",
            "_view_count": null,
            "_view_module": "@jupyter-widgets/base",
            "_view_module_version": "1.2.0",
            "_view_name": "StyleView",
            "description_width": ""
          }
        },
        "68521f0e36c94ff6b88b7272d735fe15": {
          "model_module": "@jupyter-widgets/base",
          "model_name": "LayoutModel",
          "model_module_version": "1.2.0",
          "state": {
            "_model_module": "@jupyter-widgets/base",
            "_model_module_version": "1.2.0",
            "_model_name": "LayoutModel",
            "_view_count": null,
            "_view_module": "@jupyter-widgets/base",
            "_view_module_version": "1.2.0",
            "_view_name": "LayoutView",
            "align_content": null,
            "align_items": null,
            "align_self": null,
            "border": null,
            "bottom": null,
            "display": null,
            "flex": null,
            "flex_flow": null,
            "grid_area": null,
            "grid_auto_columns": null,
            "grid_auto_flow": null,
            "grid_auto_rows": null,
            "grid_column": null,
            "grid_gap": null,
            "grid_row": null,
            "grid_template_areas": null,
            "grid_template_columns": null,
            "grid_template_rows": null,
            "height": null,
            "justify_content": null,
            "justify_items": null,
            "left": null,
            "margin": null,
            "max_height": null,
            "max_width": null,
            "min_height": null,
            "min_width": null,
            "object_fit": null,
            "object_position": null,
            "order": null,
            "overflow": null,
            "overflow_x": null,
            "overflow_y": null,
            "padding": null,
            "right": null,
            "top": null,
            "visibility": null,
            "width": null
          }
        },
        "18fd26f99bd544c9be269edca79bb0a6": {
          "model_module": "@jupyter-widgets/controls",
          "model_name": "ProgressStyleModel",
          "model_module_version": "1.5.0",
          "state": {
            "_model_module": "@jupyter-widgets/controls",
            "_model_module_version": "1.5.0",
            "_model_name": "ProgressStyleModel",
            "_view_count": null,
            "_view_module": "@jupyter-widgets/base",
            "_view_module_version": "1.2.0",
            "_view_name": "StyleView",
            "bar_color": null,
            "description_width": ""
          }
        },
        "0066dd7c710849aa843fe80db6550810": {
          "model_module": "@jupyter-widgets/base",
          "model_name": "LayoutModel",
          "model_module_version": "1.2.0",
          "state": {
            "_model_module": "@jupyter-widgets/base",
            "_model_module_version": "1.2.0",
            "_model_name": "LayoutModel",
            "_view_count": null,
            "_view_module": "@jupyter-widgets/base",
            "_view_module_version": "1.2.0",
            "_view_name": "LayoutView",
            "align_content": null,
            "align_items": null,
            "align_self": null,
            "border": null,
            "bottom": null,
            "display": null,
            "flex": null,
            "flex_flow": null,
            "grid_area": null,
            "grid_auto_columns": null,
            "grid_auto_flow": null,
            "grid_auto_rows": null,
            "grid_column": null,
            "grid_gap": null,
            "grid_row": null,
            "grid_template_areas": null,
            "grid_template_columns": null,
            "grid_template_rows": null,
            "height": null,
            "justify_content": null,
            "justify_items": null,
            "left": null,
            "margin": null,
            "max_height": null,
            "max_width": null,
            "min_height": null,
            "min_width": null,
            "object_fit": null,
            "object_position": null,
            "order": null,
            "overflow": null,
            "overflow_x": null,
            "overflow_y": null,
            "padding": null,
            "right": null,
            "top": null,
            "visibility": null,
            "width": null
          }
        },
        "878fd8aacb1f4957a6455b5543a8b5d6": {
          "model_module": "@jupyter-widgets/controls",
          "model_name": "DescriptionStyleModel",
          "model_module_version": "1.5.0",
          "state": {
            "_model_module": "@jupyter-widgets/controls",
            "_model_module_version": "1.5.0",
            "_model_name": "DescriptionStyleModel",
            "_view_count": null,
            "_view_module": "@jupyter-widgets/base",
            "_view_module_version": "1.2.0",
            "_view_name": "StyleView",
            "description_width": ""
          }
        },
        "8443c251eaeb41729245948eeb0f4eb1": {
          "model_module": "@jupyter-widgets/controls",
          "model_name": "HBoxModel",
          "model_module_version": "1.5.0",
          "state": {
            "_dom_classes": [],
            "_model_module": "@jupyter-widgets/controls",
            "_model_module_version": "1.5.0",
            "_model_name": "HBoxModel",
            "_view_count": null,
            "_view_module": "@jupyter-widgets/controls",
            "_view_module_version": "1.5.0",
            "_view_name": "HBoxView",
            "box_style": "",
            "children": [
              "IPY_MODEL_32d14624e4da4e56a26ae7d0e9c82768",
              "IPY_MODEL_d38426f73c024226a42944b915dfc7c0",
              "IPY_MODEL_199f8b97cf5f4d10a2315ab75ecbf781"
            ],
            "layout": "IPY_MODEL_1e97dd1ebe22489082fb0c8ac1353257"
          }
        },
        "32d14624e4da4e56a26ae7d0e9c82768": {
          "model_module": "@jupyter-widgets/controls",
          "model_name": "HTMLModel",
          "model_module_version": "1.5.0",
          "state": {
            "_dom_classes": [],
            "_model_module": "@jupyter-widgets/controls",
            "_model_module_version": "1.5.0",
            "_model_name": "HTMLModel",
            "_view_count": null,
            "_view_module": "@jupyter-widgets/controls",
            "_view_module_version": "1.5.0",
            "_view_name": "HTMLView",
            "description": "",
            "description_tooltip": null,
            "layout": "IPY_MODEL_d4c33300c78b43999cf9958c160ff266",
            "placeholder": "​",
            "style": "IPY_MODEL_5632ecf91eff4a75b9e4d452dd0e74ab",
            "value": "Downloading: 100%"
          }
        },
        "d38426f73c024226a42944b915dfc7c0": {
          "model_module": "@jupyter-widgets/controls",
          "model_name": "FloatProgressModel",
          "model_module_version": "1.5.0",
          "state": {
            "_dom_classes": [],
            "_model_module": "@jupyter-widgets/controls",
            "_model_module_version": "1.5.0",
            "_model_name": "FloatProgressModel",
            "_view_count": null,
            "_view_module": "@jupyter-widgets/controls",
            "_view_module_version": "1.5.0",
            "_view_name": "ProgressView",
            "bar_style": "success",
            "description": "",
            "description_tooltip": null,
            "layout": "IPY_MODEL_2084e22999834126a4d7d5b5ea9227ce",
            "max": 117546024,
            "min": 0,
            "orientation": "horizontal",
            "style": "IPY_MODEL_3093181c96614ac68d5469a00e750353",
            "value": 117546024
          }
        },
        "199f8b97cf5f4d10a2315ab75ecbf781": {
          "model_module": "@jupyter-widgets/controls",
          "model_name": "HTMLModel",
          "model_module_version": "1.5.0",
          "state": {
            "_dom_classes": [],
            "_model_module": "@jupyter-widgets/controls",
            "_model_module_version": "1.5.0",
            "_model_name": "HTMLModel",
            "_view_count": null,
            "_view_module": "@jupyter-widgets/controls",
            "_view_module_version": "1.5.0",
            "_view_name": "HTMLView",
            "description": "",
            "description_tooltip": null,
            "layout": "IPY_MODEL_f19e96f0de074b108437b822599ab6f7",
            "placeholder": "​",
            "style": "IPY_MODEL_4a9700ec2cc84f5dacced64eb4195f7e",
            "value": " 118M/118M [00:01&lt;00:00, 66.5MB/s]"
          }
        },
        "1e97dd1ebe22489082fb0c8ac1353257": {
          "model_module": "@jupyter-widgets/base",
          "model_name": "LayoutModel",
          "model_module_version": "1.2.0",
          "state": {
            "_model_module": "@jupyter-widgets/base",
            "_model_module_version": "1.2.0",
            "_model_name": "LayoutModel",
            "_view_count": null,
            "_view_module": "@jupyter-widgets/base",
            "_view_module_version": "1.2.0",
            "_view_name": "LayoutView",
            "align_content": null,
            "align_items": null,
            "align_self": null,
            "border": null,
            "bottom": null,
            "display": null,
            "flex": null,
            "flex_flow": null,
            "grid_area": null,
            "grid_auto_columns": null,
            "grid_auto_flow": null,
            "grid_auto_rows": null,
            "grid_column": null,
            "grid_gap": null,
            "grid_row": null,
            "grid_template_areas": null,
            "grid_template_columns": null,
            "grid_template_rows": null,
            "height": null,
            "justify_content": null,
            "justify_items": null,
            "left": null,
            "margin": null,
            "max_height": null,
            "max_width": null,
            "min_height": null,
            "min_width": null,
            "object_fit": null,
            "object_position": null,
            "order": null,
            "overflow": null,
            "overflow_x": null,
            "overflow_y": null,
            "padding": null,
            "right": null,
            "top": null,
            "visibility": null,
            "width": null
          }
        },
        "d4c33300c78b43999cf9958c160ff266": {
          "model_module": "@jupyter-widgets/base",
          "model_name": "LayoutModel",
          "model_module_version": "1.2.0",
          "state": {
            "_model_module": "@jupyter-widgets/base",
            "_model_module_version": "1.2.0",
            "_model_name": "LayoutModel",
            "_view_count": null,
            "_view_module": "@jupyter-widgets/base",
            "_view_module_version": "1.2.0",
            "_view_name": "LayoutView",
            "align_content": null,
            "align_items": null,
            "align_self": null,
            "border": null,
            "bottom": null,
            "display": null,
            "flex": null,
            "flex_flow": null,
            "grid_area": null,
            "grid_auto_columns": null,
            "grid_auto_flow": null,
            "grid_auto_rows": null,
            "grid_column": null,
            "grid_gap": null,
            "grid_row": null,
            "grid_template_areas": null,
            "grid_template_columns": null,
            "grid_template_rows": null,
            "height": null,
            "justify_content": null,
            "justify_items": null,
            "left": null,
            "margin": null,
            "max_height": null,
            "max_width": null,
            "min_height": null,
            "min_width": null,
            "object_fit": null,
            "object_position": null,
            "order": null,
            "overflow": null,
            "overflow_x": null,
            "overflow_y": null,
            "padding": null,
            "right": null,
            "top": null,
            "visibility": null,
            "width": null
          }
        },
        "5632ecf91eff4a75b9e4d452dd0e74ab": {
          "model_module": "@jupyter-widgets/controls",
          "model_name": "DescriptionStyleModel",
          "model_module_version": "1.5.0",
          "state": {
            "_model_module": "@jupyter-widgets/controls",
            "_model_module_version": "1.5.0",
            "_model_name": "DescriptionStyleModel",
            "_view_count": null,
            "_view_module": "@jupyter-widgets/base",
            "_view_module_version": "1.2.0",
            "_view_name": "StyleView",
            "description_width": ""
          }
        },
        "2084e22999834126a4d7d5b5ea9227ce": {
          "model_module": "@jupyter-widgets/base",
          "model_name": "LayoutModel",
          "model_module_version": "1.2.0",
          "state": {
            "_model_module": "@jupyter-widgets/base",
            "_model_module_version": "1.2.0",
            "_model_name": "LayoutModel",
            "_view_count": null,
            "_view_module": "@jupyter-widgets/base",
            "_view_module_version": "1.2.0",
            "_view_name": "LayoutView",
            "align_content": null,
            "align_items": null,
            "align_self": null,
            "border": null,
            "bottom": null,
            "display": null,
            "flex": null,
            "flex_flow": null,
            "grid_area": null,
            "grid_auto_columns": null,
            "grid_auto_flow": null,
            "grid_auto_rows": null,
            "grid_column": null,
            "grid_gap": null,
            "grid_row": null,
            "grid_template_areas": null,
            "grid_template_columns": null,
            "grid_template_rows": null,
            "height": null,
            "justify_content": null,
            "justify_items": null,
            "left": null,
            "margin": null,
            "max_height": null,
            "max_width": null,
            "min_height": null,
            "min_width": null,
            "object_fit": null,
            "object_position": null,
            "order": null,
            "overflow": null,
            "overflow_x": null,
            "overflow_y": null,
            "padding": null,
            "right": null,
            "top": null,
            "visibility": null,
            "width": null
          }
        },
        "3093181c96614ac68d5469a00e750353": {
          "model_module": "@jupyter-widgets/controls",
          "model_name": "ProgressStyleModel",
          "model_module_version": "1.5.0",
          "state": {
            "_model_module": "@jupyter-widgets/controls",
            "_model_module_version": "1.5.0",
            "_model_name": "ProgressStyleModel",
            "_view_count": null,
            "_view_module": "@jupyter-widgets/base",
            "_view_module_version": "1.2.0",
            "_view_name": "StyleView",
            "bar_color": null,
            "description_width": ""
          }
        },
        "f19e96f0de074b108437b822599ab6f7": {
          "model_module": "@jupyter-widgets/base",
          "model_name": "LayoutModel",
          "model_module_version": "1.2.0",
          "state": {
            "_model_module": "@jupyter-widgets/base",
            "_model_module_version": "1.2.0",
            "_model_name": "LayoutModel",
            "_view_count": null,
            "_view_module": "@jupyter-widgets/base",
            "_view_module_version": "1.2.0",
            "_view_name": "LayoutView",
            "align_content": null,
            "align_items": null,
            "align_self": null,
            "border": null,
            "bottom": null,
            "display": null,
            "flex": null,
            "flex_flow": null,
            "grid_area": null,
            "grid_auto_columns": null,
            "grid_auto_flow": null,
            "grid_auto_rows": null,
            "grid_column": null,
            "grid_gap": null,
            "grid_row": null,
            "grid_template_areas": null,
            "grid_template_columns": null,
            "grid_template_rows": null,
            "height": null,
            "justify_content": null,
            "justify_items": null,
            "left": null,
            "margin": null,
            "max_height": null,
            "max_width": null,
            "min_height": null,
            "min_width": null,
            "object_fit": null,
            "object_position": null,
            "order": null,
            "overflow": null,
            "overflow_x": null,
            "overflow_y": null,
            "padding": null,
            "right": null,
            "top": null,
            "visibility": null,
            "width": null
          }
        },
        "4a9700ec2cc84f5dacced64eb4195f7e": {
          "model_module": "@jupyter-widgets/controls",
          "model_name": "DescriptionStyleModel",
          "model_module_version": "1.5.0",
          "state": {
            "_model_module": "@jupyter-widgets/controls",
            "_model_module_version": "1.5.0",
            "_model_name": "DescriptionStyleModel",
            "_view_count": null,
            "_view_module": "@jupyter-widgets/base",
            "_view_module_version": "1.2.0",
            "_view_name": "StyleView",
            "description_width": ""
          }
        },
        "90225190398e4647b8172a554b1b33b3": {
          "model_module": "@jupyter-widgets/controls",
          "model_name": "HBoxModel",
          "model_module_version": "1.5.0",
          "state": {
            "_dom_classes": [],
            "_model_module": "@jupyter-widgets/controls",
            "_model_module_version": "1.5.0",
            "_model_name": "HBoxModel",
            "_view_count": null,
            "_view_module": "@jupyter-widgets/controls",
            "_view_module_version": "1.5.0",
            "_view_name": "HBoxView",
            "box_style": "",
            "children": [
              "IPY_MODEL_7aab511d203a48b6a2424fdf7b9bfaf8",
              "IPY_MODEL_b11d53c64da2474da31e52f06ad7e3d8",
              "IPY_MODEL_26e70678aa064573a6d632a1f67ced9c"
            ],
            "layout": "IPY_MODEL_0b392fc2632a47799c1262252e82f126"
          }
        },
        "7aab511d203a48b6a2424fdf7b9bfaf8": {
          "model_module": "@jupyter-widgets/controls",
          "model_name": "HTMLModel",
          "model_module_version": "1.5.0",
          "state": {
            "_dom_classes": [],
            "_model_module": "@jupyter-widgets/controls",
            "_model_module_version": "1.5.0",
            "_model_name": "HTMLModel",
            "_view_count": null,
            "_view_module": "@jupyter-widgets/controls",
            "_view_module_version": "1.5.0",
            "_view_name": "HTMLView",
            "description": "",
            "description_tooltip": null,
            "layout": "IPY_MODEL_9e931cd64e734fc8bcae16ffe4199cdc",
            "placeholder": "​",
            "style": "IPY_MODEL_3cb366408424499992542a510dd5f66c",
            "value": "Downloading: 100%"
          }
        },
        "b11d53c64da2474da31e52f06ad7e3d8": {
          "model_module": "@jupyter-widgets/controls",
          "model_name": "FloatProgressModel",
          "model_module_version": "1.5.0",
          "state": {
            "_dom_classes": [],
            "_model_module": "@jupyter-widgets/controls",
            "_model_module_version": "1.5.0",
            "_model_name": "FloatProgressModel",
            "_view_count": null,
            "_view_module": "@jupyter-widgets/controls",
            "_view_module_version": "1.5.0",
            "_view_name": "ProgressView",
            "bar_style": "success",
            "description": "",
            "description_tooltip": null,
            "layout": "IPY_MODEL_5f468f45f15b4fdb9aec7d8a72bee525",
            "max": 1080667,
            "min": 0,
            "orientation": "horizontal",
            "style": "IPY_MODEL_3db152e080924421923a2e606488f7c9",
            "value": 1080667
          }
        },
        "26e70678aa064573a6d632a1f67ced9c": {
          "model_module": "@jupyter-widgets/controls",
          "model_name": "HTMLModel",
          "model_module_version": "1.5.0",
          "state": {
            "_dom_classes": [],
            "_model_module": "@jupyter-widgets/controls",
            "_model_module_version": "1.5.0",
            "_model_name": "HTMLModel",
            "_view_count": null,
            "_view_module": "@jupyter-widgets/controls",
            "_view_module_version": "1.5.0",
            "_view_name": "HTMLView",
            "description": "",
            "description_tooltip": null,
            "layout": "IPY_MODEL_2e19b8c33c964077934be0ad8e890147",
            "placeholder": "​",
            "style": "IPY_MODEL_a2dfcc0a729f45458c6059bcfb4ff701",
            "value": " 1.08M/1.08M [00:01&lt;00:00, 758kB/s]"
          }
        },
        "0b392fc2632a47799c1262252e82f126": {
          "model_module": "@jupyter-widgets/base",
          "model_name": "LayoutModel",
          "model_module_version": "1.2.0",
          "state": {
            "_model_module": "@jupyter-widgets/base",
            "_model_module_version": "1.2.0",
            "_model_name": "LayoutModel",
            "_view_count": null,
            "_view_module": "@jupyter-widgets/base",
            "_view_module_version": "1.2.0",
            "_view_name": "LayoutView",
            "align_content": null,
            "align_items": null,
            "align_self": null,
            "border": null,
            "bottom": null,
            "display": null,
            "flex": null,
            "flex_flow": null,
            "grid_area": null,
            "grid_auto_columns": null,
            "grid_auto_flow": null,
            "grid_auto_rows": null,
            "grid_column": null,
            "grid_gap": null,
            "grid_row": null,
            "grid_template_areas": null,
            "grid_template_columns": null,
            "grid_template_rows": null,
            "height": null,
            "justify_content": null,
            "justify_items": null,
            "left": null,
            "margin": null,
            "max_height": null,
            "max_width": null,
            "min_height": null,
            "min_width": null,
            "object_fit": null,
            "object_position": null,
            "order": null,
            "overflow": null,
            "overflow_x": null,
            "overflow_y": null,
            "padding": null,
            "right": null,
            "top": null,
            "visibility": null,
            "width": null
          }
        },
        "9e931cd64e734fc8bcae16ffe4199cdc": {
          "model_module": "@jupyter-widgets/base",
          "model_name": "LayoutModel",
          "model_module_version": "1.2.0",
          "state": {
            "_model_module": "@jupyter-widgets/base",
            "_model_module_version": "1.2.0",
            "_model_name": "LayoutModel",
            "_view_count": null,
            "_view_module": "@jupyter-widgets/base",
            "_view_module_version": "1.2.0",
            "_view_name": "LayoutView",
            "align_content": null,
            "align_items": null,
            "align_self": null,
            "border": null,
            "bottom": null,
            "display": null,
            "flex": null,
            "flex_flow": null,
            "grid_area": null,
            "grid_auto_columns": null,
            "grid_auto_flow": null,
            "grid_auto_rows": null,
            "grid_column": null,
            "grid_gap": null,
            "grid_row": null,
            "grid_template_areas": null,
            "grid_template_columns": null,
            "grid_template_rows": null,
            "height": null,
            "justify_content": null,
            "justify_items": null,
            "left": null,
            "margin": null,
            "max_height": null,
            "max_width": null,
            "min_height": null,
            "min_width": null,
            "object_fit": null,
            "object_position": null,
            "order": null,
            "overflow": null,
            "overflow_x": null,
            "overflow_y": null,
            "padding": null,
            "right": null,
            "top": null,
            "visibility": null,
            "width": null
          }
        },
        "3cb366408424499992542a510dd5f66c": {
          "model_module": "@jupyter-widgets/controls",
          "model_name": "DescriptionStyleModel",
          "model_module_version": "1.5.0",
          "state": {
            "_model_module": "@jupyter-widgets/controls",
            "_model_module_version": "1.5.0",
            "_model_name": "DescriptionStyleModel",
            "_view_count": null,
            "_view_module": "@jupyter-widgets/base",
            "_view_module_version": "1.2.0",
            "_view_name": "StyleView",
            "description_width": ""
          }
        },
        "5f468f45f15b4fdb9aec7d8a72bee525": {
          "model_module": "@jupyter-widgets/base",
          "model_name": "LayoutModel",
          "model_module_version": "1.2.0",
          "state": {
            "_model_module": "@jupyter-widgets/base",
            "_model_module_version": "1.2.0",
            "_model_name": "LayoutModel",
            "_view_count": null,
            "_view_module": "@jupyter-widgets/base",
            "_view_module_version": "1.2.0",
            "_view_name": "LayoutView",
            "align_content": null,
            "align_items": null,
            "align_self": null,
            "border": null,
            "bottom": null,
            "display": null,
            "flex": null,
            "flex_flow": null,
            "grid_area": null,
            "grid_auto_columns": null,
            "grid_auto_flow": null,
            "grid_auto_rows": null,
            "grid_column": null,
            "grid_gap": null,
            "grid_row": null,
            "grid_template_areas": null,
            "grid_template_columns": null,
            "grid_template_rows": null,
            "height": null,
            "justify_content": null,
            "justify_items": null,
            "left": null,
            "margin": null,
            "max_height": null,
            "max_width": null,
            "min_height": null,
            "min_width": null,
            "object_fit": null,
            "object_position": null,
            "order": null,
            "overflow": null,
            "overflow_x": null,
            "overflow_y": null,
            "padding": null,
            "right": null,
            "top": null,
            "visibility": null,
            "width": null
          }
        },
        "3db152e080924421923a2e606488f7c9": {
          "model_module": "@jupyter-widgets/controls",
          "model_name": "ProgressStyleModel",
          "model_module_version": "1.5.0",
          "state": {
            "_model_module": "@jupyter-widgets/controls",
            "_model_module_version": "1.5.0",
            "_model_name": "ProgressStyleModel",
            "_view_count": null,
            "_view_module": "@jupyter-widgets/base",
            "_view_module_version": "1.2.0",
            "_view_name": "StyleView",
            "bar_color": null,
            "description_width": ""
          }
        },
        "2e19b8c33c964077934be0ad8e890147": {
          "model_module": "@jupyter-widgets/base",
          "model_name": "LayoutModel",
          "model_module_version": "1.2.0",
          "state": {
            "_model_module": "@jupyter-widgets/base",
            "_model_module_version": "1.2.0",
            "_model_name": "LayoutModel",
            "_view_count": null,
            "_view_module": "@jupyter-widgets/base",
            "_view_module_version": "1.2.0",
            "_view_name": "LayoutView",
            "align_content": null,
            "align_items": null,
            "align_self": null,
            "border": null,
            "bottom": null,
            "display": null,
            "flex": null,
            "flex_flow": null,
            "grid_area": null,
            "grid_auto_columns": null,
            "grid_auto_flow": null,
            "grid_auto_rows": null,
            "grid_column": null,
            "grid_gap": null,
            "grid_row": null,
            "grid_template_areas": null,
            "grid_template_columns": null,
            "grid_template_rows": null,
            "height": null,
            "justify_content": null,
            "justify_items": null,
            "left": null,
            "margin": null,
            "max_height": null,
            "max_width": null,
            "min_height": null,
            "min_width": null,
            "object_fit": null,
            "object_position": null,
            "order": null,
            "overflow": null,
            "overflow_x": null,
            "overflow_y": null,
            "padding": null,
            "right": null,
            "top": null,
            "visibility": null,
            "width": null
          }
        },
        "a2dfcc0a729f45458c6059bcfb4ff701": {
          "model_module": "@jupyter-widgets/controls",
          "model_name": "DescriptionStyleModel",
          "model_module_version": "1.5.0",
          "state": {
            "_model_module": "@jupyter-widgets/controls",
            "_model_module_version": "1.5.0",
            "_model_name": "DescriptionStyleModel",
            "_view_count": null,
            "_view_module": "@jupyter-widgets/base",
            "_view_module_version": "1.2.0",
            "_view_name": "StyleView",
            "description_width": ""
          }
        },
        "c8bd6c45bc4b47ca88bb299a9c94fbb9": {
          "model_module": "@jupyter-widgets/controls",
          "model_name": "HBoxModel",
          "model_module_version": "1.5.0",
          "state": {
            "_dom_classes": [],
            "_model_module": "@jupyter-widgets/controls",
            "_model_module_version": "1.5.0",
            "_model_name": "HBoxModel",
            "_view_count": null,
            "_view_module": "@jupyter-widgets/controls",
            "_view_module_version": "1.5.0",
            "_view_name": "HBoxView",
            "box_style": "",
            "children": [
              "IPY_MODEL_7d1e805abe8f4b31b6143766aad2d75d",
              "IPY_MODEL_e837117167ea4230bb8a50157359b464",
              "IPY_MODEL_e2edfb59619044a08a83e99a06be3d26"
            ],
            "layout": "IPY_MODEL_f637be9ba3694e1d8c3d57ef389864c3"
          }
        },
        "7d1e805abe8f4b31b6143766aad2d75d": {
          "model_module": "@jupyter-widgets/controls",
          "model_name": "HTMLModel",
          "model_module_version": "1.5.0",
          "state": {
            "_dom_classes": [],
            "_model_module": "@jupyter-widgets/controls",
            "_model_module_version": "1.5.0",
            "_model_name": "HTMLModel",
            "_view_count": null,
            "_view_module": "@jupyter-widgets/controls",
            "_view_module_version": "1.5.0",
            "_view_name": "HTMLView",
            "description": "",
            "description_tooltip": null,
            "layout": "IPY_MODEL_8e7de611886540359ce3d326b5f8c36a",
            "placeholder": "​",
            "style": "IPY_MODEL_6cd098c03cbe4d558165043a15755491",
            "value": "Downloading: 100%"
          }
        },
        "e837117167ea4230bb8a50157359b464": {
          "model_module": "@jupyter-widgets/controls",
          "model_name": "FloatProgressModel",
          "model_module_version": "1.5.0",
          "state": {
            "_dom_classes": [],
            "_model_module": "@jupyter-widgets/controls",
            "_model_module_version": "1.5.0",
            "_model_name": "FloatProgressModel",
            "_view_count": null,
            "_view_module": "@jupyter-widgets/controls",
            "_view_module_version": "1.5.0",
            "_view_name": "ProgressView",
            "bar_style": "success",
            "description": "",
            "description_tooltip": null,
            "layout": "IPY_MODEL_0ec5c836e0774a61b32f47b0dbe95c1a",
            "max": 112,
            "min": 0,
            "orientation": "horizontal",
            "style": "IPY_MODEL_c0653a0ac4af482f86c45c55d8a84606",
            "value": 112
          }
        },
        "e2edfb59619044a08a83e99a06be3d26": {
          "model_module": "@jupyter-widgets/controls",
          "model_name": "HTMLModel",
          "model_module_version": "1.5.0",
          "state": {
            "_dom_classes": [],
            "_model_module": "@jupyter-widgets/controls",
            "_model_module_version": "1.5.0",
            "_model_name": "HTMLModel",
            "_view_count": null,
            "_view_module": "@jupyter-widgets/controls",
            "_view_module_version": "1.5.0",
            "_view_name": "HTMLView",
            "description": "",
            "description_tooltip": null,
            "layout": "IPY_MODEL_522eac6139a64c31b8eea36e7a16d7a7",
            "placeholder": "​",
            "style": "IPY_MODEL_9e72f3c2c20646b4888f37119131a782",
            "value": " 112/112 [00:00&lt;00:00, 2.42kB/s]"
          }
        },
        "f637be9ba3694e1d8c3d57ef389864c3": {
          "model_module": "@jupyter-widgets/base",
          "model_name": "LayoutModel",
          "model_module_version": "1.2.0",
          "state": {
            "_model_module": "@jupyter-widgets/base",
            "_model_module_version": "1.2.0",
            "_model_name": "LayoutModel",
            "_view_count": null,
            "_view_module": "@jupyter-widgets/base",
            "_view_module_version": "1.2.0",
            "_view_name": "LayoutView",
            "align_content": null,
            "align_items": null,
            "align_self": null,
            "border": null,
            "bottom": null,
            "display": null,
            "flex": null,
            "flex_flow": null,
            "grid_area": null,
            "grid_auto_columns": null,
            "grid_auto_flow": null,
            "grid_auto_rows": null,
            "grid_column": null,
            "grid_gap": null,
            "grid_row": null,
            "grid_template_areas": null,
            "grid_template_columns": null,
            "grid_template_rows": null,
            "height": null,
            "justify_content": null,
            "justify_items": null,
            "left": null,
            "margin": null,
            "max_height": null,
            "max_width": null,
            "min_height": null,
            "min_width": null,
            "object_fit": null,
            "object_position": null,
            "order": null,
            "overflow": null,
            "overflow_x": null,
            "overflow_y": null,
            "padding": null,
            "right": null,
            "top": null,
            "visibility": null,
            "width": null
          }
        },
        "8e7de611886540359ce3d326b5f8c36a": {
          "model_module": "@jupyter-widgets/base",
          "model_name": "LayoutModel",
          "model_module_version": "1.2.0",
          "state": {
            "_model_module": "@jupyter-widgets/base",
            "_model_module_version": "1.2.0",
            "_model_name": "LayoutModel",
            "_view_count": null,
            "_view_module": "@jupyter-widgets/base",
            "_view_module_version": "1.2.0",
            "_view_name": "LayoutView",
            "align_content": null,
            "align_items": null,
            "align_self": null,
            "border": null,
            "bottom": null,
            "display": null,
            "flex": null,
            "flex_flow": null,
            "grid_area": null,
            "grid_auto_columns": null,
            "grid_auto_flow": null,
            "grid_auto_rows": null,
            "grid_column": null,
            "grid_gap": null,
            "grid_row": null,
            "grid_template_areas": null,
            "grid_template_columns": null,
            "grid_template_rows": null,
            "height": null,
            "justify_content": null,
            "justify_items": null,
            "left": null,
            "margin": null,
            "max_height": null,
            "max_width": null,
            "min_height": null,
            "min_width": null,
            "object_fit": null,
            "object_position": null,
            "order": null,
            "overflow": null,
            "overflow_x": null,
            "overflow_y": null,
            "padding": null,
            "right": null,
            "top": null,
            "visibility": null,
            "width": null
          }
        },
        "6cd098c03cbe4d558165043a15755491": {
          "model_module": "@jupyter-widgets/controls",
          "model_name": "DescriptionStyleModel",
          "model_module_version": "1.5.0",
          "state": {
            "_model_module": "@jupyter-widgets/controls",
            "_model_module_version": "1.5.0",
            "_model_name": "DescriptionStyleModel",
            "_view_count": null,
            "_view_module": "@jupyter-widgets/base",
            "_view_module_version": "1.2.0",
            "_view_name": "StyleView",
            "description_width": ""
          }
        },
        "0ec5c836e0774a61b32f47b0dbe95c1a": {
          "model_module": "@jupyter-widgets/base",
          "model_name": "LayoutModel",
          "model_module_version": "1.2.0",
          "state": {
            "_model_module": "@jupyter-widgets/base",
            "_model_module_version": "1.2.0",
            "_model_name": "LayoutModel",
            "_view_count": null,
            "_view_module": "@jupyter-widgets/base",
            "_view_module_version": "1.2.0",
            "_view_name": "LayoutView",
            "align_content": null,
            "align_items": null,
            "align_self": null,
            "border": null,
            "bottom": null,
            "display": null,
            "flex": null,
            "flex_flow": null,
            "grid_area": null,
            "grid_auto_columns": null,
            "grid_auto_flow": null,
            "grid_auto_rows": null,
            "grid_column": null,
            "grid_gap": null,
            "grid_row": null,
            "grid_template_areas": null,
            "grid_template_columns": null,
            "grid_template_rows": null,
            "height": null,
            "justify_content": null,
            "justify_items": null,
            "left": null,
            "margin": null,
            "max_height": null,
            "max_width": null,
            "min_height": null,
            "min_width": null,
            "object_fit": null,
            "object_position": null,
            "order": null,
            "overflow": null,
            "overflow_x": null,
            "overflow_y": null,
            "padding": null,
            "right": null,
            "top": null,
            "visibility": null,
            "width": null
          }
        },
        "c0653a0ac4af482f86c45c55d8a84606": {
          "model_module": "@jupyter-widgets/controls",
          "model_name": "ProgressStyleModel",
          "model_module_version": "1.5.0",
          "state": {
            "_model_module": "@jupyter-widgets/controls",
            "_model_module_version": "1.5.0",
            "_model_name": "ProgressStyleModel",
            "_view_count": null,
            "_view_module": "@jupyter-widgets/base",
            "_view_module_version": "1.2.0",
            "_view_name": "StyleView",
            "bar_color": null,
            "description_width": ""
          }
        },
        "522eac6139a64c31b8eea36e7a16d7a7": {
          "model_module": "@jupyter-widgets/base",
          "model_name": "LayoutModel",
          "model_module_version": "1.2.0",
          "state": {
            "_model_module": "@jupyter-widgets/base",
            "_model_module_version": "1.2.0",
            "_model_name": "LayoutModel",
            "_view_count": null,
            "_view_module": "@jupyter-widgets/base",
            "_view_module_version": "1.2.0",
            "_view_name": "LayoutView",
            "align_content": null,
            "align_items": null,
            "align_self": null,
            "border": null,
            "bottom": null,
            "display": null,
            "flex": null,
            "flex_flow": null,
            "grid_area": null,
            "grid_auto_columns": null,
            "grid_auto_flow": null,
            "grid_auto_rows": null,
            "grid_column": null,
            "grid_gap": null,
            "grid_row": null,
            "grid_template_areas": null,
            "grid_template_columns": null,
            "grid_template_rows": null,
            "height": null,
            "justify_content": null,
            "justify_items": null,
            "left": null,
            "margin": null,
            "max_height": null,
            "max_width": null,
            "min_height": null,
            "min_width": null,
            "object_fit": null,
            "object_position": null,
            "order": null,
            "overflow": null,
            "overflow_x": null,
            "overflow_y": null,
            "padding": null,
            "right": null,
            "top": null,
            "visibility": null,
            "width": null
          }
        },
        "9e72f3c2c20646b4888f37119131a782": {
          "model_module": "@jupyter-widgets/controls",
          "model_name": "DescriptionStyleModel",
          "model_module_version": "1.5.0",
          "state": {
            "_model_module": "@jupyter-widgets/controls",
            "_model_module_version": "1.5.0",
            "_model_name": "DescriptionStyleModel",
            "_view_count": null,
            "_view_module": "@jupyter-widgets/base",
            "_view_module_version": "1.2.0",
            "_view_name": "StyleView",
            "description_width": ""
          }
        },
        "ce7009064f9f4437abb9ba7e42bc66e9": {
          "model_module": "@jupyter-widgets/controls",
          "model_name": "HBoxModel",
          "model_module_version": "1.5.0",
          "state": {
            "_dom_classes": [],
            "_model_module": "@jupyter-widgets/controls",
            "_model_module_version": "1.5.0",
            "_model_name": "HBoxModel",
            "_view_count": null,
            "_view_module": "@jupyter-widgets/controls",
            "_view_module_version": "1.5.0",
            "_view_name": "HBoxView",
            "box_style": "",
            "children": [
              "IPY_MODEL_ace6668762ec4a9197304811fa7edafd",
              "IPY_MODEL_6d0984c4ad454324b66865579dcf1b65",
              "IPY_MODEL_233374c048074106848f2a9271069b36"
            ],
            "layout": "IPY_MODEL_1c949e1f12b44cf2bc81211b9a0fb008"
          }
        },
        "ace6668762ec4a9197304811fa7edafd": {
          "model_module": "@jupyter-widgets/controls",
          "model_name": "HTMLModel",
          "model_module_version": "1.5.0",
          "state": {
            "_dom_classes": [],
            "_model_module": "@jupyter-widgets/controls",
            "_model_module_version": "1.5.0",
            "_model_name": "HTMLModel",
            "_view_count": null,
            "_view_module": "@jupyter-widgets/controls",
            "_view_module_version": "1.5.0",
            "_view_name": "HTMLView",
            "description": "",
            "description_tooltip": null,
            "layout": "IPY_MODEL_56a345e7561e497898927c12eb892e00",
            "placeholder": "​",
            "style": "IPY_MODEL_8605e27aee3b417ca6f0fbeb62f41a39",
            "value": "Downloading: 100%"
          }
        },
        "6d0984c4ad454324b66865579dcf1b65": {
          "model_module": "@jupyter-widgets/controls",
          "model_name": "FloatProgressModel",
          "model_module_version": "1.5.0",
          "state": {
            "_dom_classes": [],
            "_model_module": "@jupyter-widgets/controls",
            "_model_module_version": "1.5.0",
            "_model_name": "FloatProgressModel",
            "_view_count": null,
            "_view_module": "@jupyter-widgets/controls",
            "_view_module_version": "1.5.0",
            "_view_name": "ProgressView",
            "bar_style": "success",
            "description": "",
            "description_tooltip": null,
            "layout": "IPY_MODEL_0b2763ca35614e1fb5ec425b6d5b1f2b",
            "max": 401,
            "min": 0,
            "orientation": "horizontal",
            "style": "IPY_MODEL_214b8d2b76ec4b0baedd739b75a871d2",
            "value": 401
          }
        },
        "233374c048074106848f2a9271069b36": {
          "model_module": "@jupyter-widgets/controls",
          "model_name": "HTMLModel",
          "model_module_version": "1.5.0",
          "state": {
            "_dom_classes": [],
            "_model_module": "@jupyter-widgets/controls",
            "_model_module_version": "1.5.0",
            "_model_name": "HTMLModel",
            "_view_count": null,
            "_view_module": "@jupyter-widgets/controls",
            "_view_module_version": "1.5.0",
            "_view_name": "HTMLView",
            "description": "",
            "description_tooltip": null,
            "layout": "IPY_MODEL_08fea034cc7a438895e74e6bdf8d8f72",
            "placeholder": "​",
            "style": "IPY_MODEL_3aa64be18aff41b188c80e4b4e025c38",
            "value": " 401/401 [00:00&lt;00:00, 6.73kB/s]"
          }
        },
        "1c949e1f12b44cf2bc81211b9a0fb008": {
          "model_module": "@jupyter-widgets/base",
          "model_name": "LayoutModel",
          "model_module_version": "1.2.0",
          "state": {
            "_model_module": "@jupyter-widgets/base",
            "_model_module_version": "1.2.0",
            "_model_name": "LayoutModel",
            "_view_count": null,
            "_view_module": "@jupyter-widgets/base",
            "_view_module_version": "1.2.0",
            "_view_name": "LayoutView",
            "align_content": null,
            "align_items": null,
            "align_self": null,
            "border": null,
            "bottom": null,
            "display": null,
            "flex": null,
            "flex_flow": null,
            "grid_area": null,
            "grid_auto_columns": null,
            "grid_auto_flow": null,
            "grid_auto_rows": null,
            "grid_column": null,
            "grid_gap": null,
            "grid_row": null,
            "grid_template_areas": null,
            "grid_template_columns": null,
            "grid_template_rows": null,
            "height": null,
            "justify_content": null,
            "justify_items": null,
            "left": null,
            "margin": null,
            "max_height": null,
            "max_width": null,
            "min_height": null,
            "min_width": null,
            "object_fit": null,
            "object_position": null,
            "order": null,
            "overflow": null,
            "overflow_x": null,
            "overflow_y": null,
            "padding": null,
            "right": null,
            "top": null,
            "visibility": null,
            "width": null
          }
        },
        "56a345e7561e497898927c12eb892e00": {
          "model_module": "@jupyter-widgets/base",
          "model_name": "LayoutModel",
          "model_module_version": "1.2.0",
          "state": {
            "_model_module": "@jupyter-widgets/base",
            "_model_module_version": "1.2.0",
            "_model_name": "LayoutModel",
            "_view_count": null,
            "_view_module": "@jupyter-widgets/base",
            "_view_module_version": "1.2.0",
            "_view_name": "LayoutView",
            "align_content": null,
            "align_items": null,
            "align_self": null,
            "border": null,
            "bottom": null,
            "display": null,
            "flex": null,
            "flex_flow": null,
            "grid_area": null,
            "grid_auto_columns": null,
            "grid_auto_flow": null,
            "grid_auto_rows": null,
            "grid_column": null,
            "grid_gap": null,
            "grid_row": null,
            "grid_template_areas": null,
            "grid_template_columns": null,
            "grid_template_rows": null,
            "height": null,
            "justify_content": null,
            "justify_items": null,
            "left": null,
            "margin": null,
            "max_height": null,
            "max_width": null,
            "min_height": null,
            "min_width": null,
            "object_fit": null,
            "object_position": null,
            "order": null,
            "overflow": null,
            "overflow_x": null,
            "overflow_y": null,
            "padding": null,
            "right": null,
            "top": null,
            "visibility": null,
            "width": null
          }
        },
        "8605e27aee3b417ca6f0fbeb62f41a39": {
          "model_module": "@jupyter-widgets/controls",
          "model_name": "DescriptionStyleModel",
          "model_module_version": "1.5.0",
          "state": {
            "_model_module": "@jupyter-widgets/controls",
            "_model_module_version": "1.5.0",
            "_model_name": "DescriptionStyleModel",
            "_view_count": null,
            "_view_module": "@jupyter-widgets/base",
            "_view_module_version": "1.2.0",
            "_view_name": "StyleView",
            "description_width": ""
          }
        },
        "0b2763ca35614e1fb5ec425b6d5b1f2b": {
          "model_module": "@jupyter-widgets/base",
          "model_name": "LayoutModel",
          "model_module_version": "1.2.0",
          "state": {
            "_model_module": "@jupyter-widgets/base",
            "_model_module_version": "1.2.0",
            "_model_name": "LayoutModel",
            "_view_count": null,
            "_view_module": "@jupyter-widgets/base",
            "_view_module_version": "1.2.0",
            "_view_name": "LayoutView",
            "align_content": null,
            "align_items": null,
            "align_self": null,
            "border": null,
            "bottom": null,
            "display": null,
            "flex": null,
            "flex_flow": null,
            "grid_area": null,
            "grid_auto_columns": null,
            "grid_auto_flow": null,
            "grid_auto_rows": null,
            "grid_column": null,
            "grid_gap": null,
            "grid_row": null,
            "grid_template_areas": null,
            "grid_template_columns": null,
            "grid_template_rows": null,
            "height": null,
            "justify_content": null,
            "justify_items": null,
            "left": null,
            "margin": null,
            "max_height": null,
            "max_width": null,
            "min_height": null,
            "min_width": null,
            "object_fit": null,
            "object_position": null,
            "order": null,
            "overflow": null,
            "overflow_x": null,
            "overflow_y": null,
            "padding": null,
            "right": null,
            "top": null,
            "visibility": null,
            "width": null
          }
        },
        "214b8d2b76ec4b0baedd739b75a871d2": {
          "model_module": "@jupyter-widgets/controls",
          "model_name": "ProgressStyleModel",
          "model_module_version": "1.5.0",
          "state": {
            "_model_module": "@jupyter-widgets/controls",
            "_model_module_version": "1.5.0",
            "_model_name": "ProgressStyleModel",
            "_view_count": null,
            "_view_module": "@jupyter-widgets/base",
            "_view_module_version": "1.2.0",
            "_view_name": "StyleView",
            "bar_color": null,
            "description_width": ""
          }
        },
        "08fea034cc7a438895e74e6bdf8d8f72": {
          "model_module": "@jupyter-widgets/base",
          "model_name": "LayoutModel",
          "model_module_version": "1.2.0",
          "state": {
            "_model_module": "@jupyter-widgets/base",
            "_model_module_version": "1.2.0",
            "_model_name": "LayoutModel",
            "_view_count": null,
            "_view_module": "@jupyter-widgets/base",
            "_view_module_version": "1.2.0",
            "_view_name": "LayoutView",
            "align_content": null,
            "align_items": null,
            "align_self": null,
            "border": null,
            "bottom": null,
            "display": null,
            "flex": null,
            "flex_flow": null,
            "grid_area": null,
            "grid_auto_columns": null,
            "grid_auto_flow": null,
            "grid_auto_rows": null,
            "grid_column": null,
            "grid_gap": null,
            "grid_row": null,
            "grid_template_areas": null,
            "grid_template_columns": null,
            "grid_template_rows": null,
            "height": null,
            "justify_content": null,
            "justify_items": null,
            "left": null,
            "margin": null,
            "max_height": null,
            "max_width": null,
            "min_height": null,
            "min_width": null,
            "object_fit": null,
            "object_position": null,
            "order": null,
            "overflow": null,
            "overflow_x": null,
            "overflow_y": null,
            "padding": null,
            "right": null,
            "top": null,
            "visibility": null,
            "width": null
          }
        },
        "3aa64be18aff41b188c80e4b4e025c38": {
          "model_module": "@jupyter-widgets/controls",
          "model_name": "DescriptionStyleModel",
          "model_module_version": "1.5.0",
          "state": {
            "_model_module": "@jupyter-widgets/controls",
            "_model_module_version": "1.5.0",
            "_model_name": "DescriptionStyleModel",
            "_view_count": null,
            "_view_module": "@jupyter-widgets/base",
            "_view_module_version": "1.2.0",
            "_view_name": "StyleView",
            "description_width": ""
          }
        }
      }
    },
    "accelerator": "GPU"
  },
  "cells": [
    {
      "cell_type": "markdown",
      "source": [
        "The code part of the project starts here"
      ],
      "metadata": {
        "id": "HX4y_KrcT5T5"
      }
    },
    {
      "cell_type": "markdown",
      "source": [
        "#PART I Morphological thesis\n",
        "Contains:<br>\n",
        "data loading<br>\n",
        "preprocessing<br>\n",
        "analysis based on morphological parsing.\n",
        "<br>In conclusion it has a comparison with part of speech frequencies from paper"
      ],
      "metadata": {
        "id": "JXavG2Laf30a"
      }
    },
    {
      "cell_type": "markdown",
      "source": [
        "First we'll install pymorphy and unarchive our .rar file\n"
      ],
      "metadata": {
        "id": "aqkm2HTXbsFs"
      }
    },
    {
      "cell_type": "code",
      "source": [
        "!pip install -q pymorphy2\n",
        "!unrar x \"sentiment_data.rar\" \".\""
      ],
      "metadata": {
        "id": "SDGlgEUuPngu",
        "colab": {
          "base_uri": "https://localhost:8080/"
        },
        "outputId": "b66faa53-d4c3-444c-efed-1521ce1aef37"
      },
      "execution_count": 1,
      "outputs": [
        {
          "output_type": "stream",
          "name": "stdout",
          "text": [
            "\u001b[K     |████████████████████████████████| 55 kB 3.9 MB/s \n",
            "\u001b[K     |████████████████████████████████| 8.2 MB 64.6 MB/s \n",
            "\u001b[?25h  Building wheel for docopt (setup.py) ... \u001b[?25l\u001b[?25hdone\n",
            "\n",
            "UNRAR 5.50 freeware      Copyright (c) 1993-2017 Alexander Roshal\n",
            "\n",
            "\n",
            "Extracting from sentiment_data.rar\n",
            "\n",
            "Extracting  ./positive.csv                                               \b\b\b\b  0%\b\b\b\b  1%\b\b\b\b  2%\b\b\b\b  3%\b\b\b\b  4%\b\b\b\b  5%\b\b\b\b  6%\b\b\b\b  7%\b\b\b\b  8%\b\b\b\b  9%\b\b\b\b 10%\b\b\b\b 11%\b\b\b\b 12%\b\b\b\b 13%\b\b\b\b 14%\b\b\b\b 15%\b\b\b\b 16%\b\b\b\b 17%\b\b\b\b 18%\b\b\b\b 19%\b\b\b\b 20%\b\b\b\b 21%\b\b\b\b 22%\b\b\b\b 23%\b\b\b\b 24%\b\b\b\b 25%\b\b\b\b 26%\b\b\b\b 27%\b\b\b\b 28%\b\b\b\b 29%\b\b\b\b 30%\b\b\b\b 31%\b\b\b\b 32%\b\b\b\b 33%\b\b\b\b 34%\b\b\b\b 35%\b\b\b\b 36%\b\b\b\b 37%\b\b\b\b 38%\b\b\b\b 39%\b\b\b\b 40%\b\b\b\b 41%\b\b\b\b 42%\b\b\b\b 43%\b\b\b\b 44%\b\b\b\b 45%\b\b\b\b 46%\b\b\b\b 47%\b\b\b\b 48%\b\b\b\b 49%\b\b\b\b 50%\b\b\b\b 51%\b\b\b\b 52%\b\b\b\b\b  OK \n",
            "Extracting  ./negative.csv                                               \b\b\b\b 52%\b\b\b\b 53%\b\b\b\b 54%\b\b\b\b 55%\b\b\b\b 56%\b\b\b\b 57%\b\b\b\b 58%\b\b\b\b 59%\b\b\b\b 60%\b\b\b\b 61%\b\b\b\b 62%\b\b\b\b 63%\b\b\b\b 64%\b\b\b\b 65%\b\b\b\b 66%\b\b\b\b 67%\b\b\b\b 68%\b\b\b\b 69%\b\b\b\b 70%\b\b\b\b 71%\b\b\b\b 72%\b\b\b\b 73%\b\b\b\b 74%\b\b\b\b 75%\b\b\b\b 76%\b\b\b\b 77%\b\b\b\b 78%\b\b\b\b 79%\b\b\b\b 80%\b\b\b\b 81%\b\b\b\b 82%\b\b\b\b 83%\b\b\b\b 84%\b\b\b\b 85%\b\b\b\b 86%\b\b\b\b 87%\b\b\b\b 88%\b\b\b\b 89%\b\b\b\b 90%\b\b\b\b 91%\b\b\b\b 92%\b\b\b\b 93%\b\b\b\b 94%\b\b\b\b 95%\b\b\b\b 96%\b\b\b\b 97%\b\b\b\b 98%\b\b\b\b 99%\b\b\b\b\b  OK \n",
            "All OK\n"
          ]
        }
      ]
    },
    {
      "cell_type": "markdown",
      "source": [
        "Next, we import libraries"
      ],
      "metadata": {
        "id": "EiAg5NMSUVY8"
      }
    },
    {
      "cell_type": "code",
      "source": [
        "import pandas as pd\n",
        "import re\n",
        "import matplotlib.pyplot as plt\n",
        "import nltk\n",
        "import numpy as np\n",
        "from collections import defaultdict, Counter\n",
        "\n",
        "from tqdm import tqdm\n",
        "\n",
        "from sklearn.utils import shuffle"
      ],
      "metadata": {
        "id": "_Kt_4dLFOOms"
      },
      "execution_count": null,
      "outputs": []
    },
    {
      "cell_type": "markdown",
      "source": [
        "Load the datasets and combine them, because the files are separate for each class<br>\n",
        "Data first given in "
      ],
      "metadata": {
        "id": "2Yih0R6VUYT0"
      }
    },
    {
      "cell_type": "code",
      "execution_count": null,
      "metadata": {
        "id": "6IQL5rXrN-Ua",
        "colab": {
          "base_uri": "https://localhost:8080/",
          "height": 424
        },
        "outputId": "f6982fd9-e4db-4add-8e1b-73f1e418f75c"
      },
      "outputs": [
        {
          "output_type": "execute_result",
          "data": {
            "text/plain": [
              "                        id       tdate            tmane  \\\n",
              "0       408906692374446080  1386325927  pleease_shut_up   \n",
              "1       408906692693221377  1386325927  alinakirpicheva   \n",
              "2       408906695083954177  1386325927        EvgeshaRe   \n",
              "3       408906695356973056  1386325927    ikonnikova_21   \n",
              "4       408906761416867842  1386325943        JumpyAlex   \n",
              "...                    ...         ...              ...   \n",
              "111918  425138243257253888  1390195830         Yanch_96   \n",
              "111919  425138339503943682  1390195853          tkit_on   \n",
              "111920  425138437684215808  1390195876         ckooker1   \n",
              "111921  425138490452344832  1390195889       LisaBeroud   \n",
              "111922  425138595251625984  1390195914       sukapavlov   \n",
              "\n",
              "                                                    ttext  ttype  trep  trtv  \\\n",
              "0       @first_timee хоть я и школота, но поверь, у на...      1     0     0   \n",
              "1       Да, все-таки он немного похож на него. Но мой ...      1     0     0   \n",
              "2       RT @KatiaCheh: Ну ты идиотка) я испугалась за ...      1     0     1   \n",
              "3       RT @digger2912: \"Кто то в углу сидит и погибае...      1     0     1   \n",
              "4       @irina_dyshkant Вот что значит страшилка :D\\nН...      1     0     0   \n",
              "...                                                   ...    ...   ...   ...   \n",
              "111918  Но не каждый хочет что то исправлять:( http://...     -1     0     0   \n",
              "111919  скучаю так :-( только @taaannyaaa вправляет мо...     -1     0     0   \n",
              "111920          Вот и в школу, в говно это идти уже надо(     -1     0     0   \n",
              "111921  RT @_Them__: @LisaBeroud Тауриэль, не грусти :...     -1     0     1   \n",
              "111922  Такси везет меня на работу. Раздумываю приплат...     -1     0     0   \n",
              "\n",
              "        tfav  tstcount  tfol  tfrien  listcount  \n",
              "0          0      7569    62      61          0  \n",
              "1          0     11825    59      31          2  \n",
              "2          0      1273    26      27          0  \n",
              "3          0      1549    19      17          0  \n",
              "4          0       597    16      23          1  \n",
              "...      ...       ...   ...     ...        ...  \n",
              "111918     0      1138    32      46          0  \n",
              "111919     0      4822    38      32          0  \n",
              "111920     1       165    13      16          0  \n",
              "111921     0      2516   187     265          0  \n",
              "111922     0      7778   146      66          5  \n",
              "\n",
              "[226834 rows x 12 columns]"
            ],
            "text/html": [
              "\n",
              "  <div id=\"df-5367a341-7beb-4fe0-b091-4d1fa9d1470a\">\n",
              "    <div class=\"colab-df-container\">\n",
              "      <div>\n",
              "<style scoped>\n",
              "    .dataframe tbody tr th:only-of-type {\n",
              "        vertical-align: middle;\n",
              "    }\n",
              "\n",
              "    .dataframe tbody tr th {\n",
              "        vertical-align: top;\n",
              "    }\n",
              "\n",
              "    .dataframe thead th {\n",
              "        text-align: right;\n",
              "    }\n",
              "</style>\n",
              "<table border=\"1\" class=\"dataframe\">\n",
              "  <thead>\n",
              "    <tr style=\"text-align: right;\">\n",
              "      <th></th>\n",
              "      <th>id</th>\n",
              "      <th>tdate</th>\n",
              "      <th>tmane</th>\n",
              "      <th>ttext</th>\n",
              "      <th>ttype</th>\n",
              "      <th>trep</th>\n",
              "      <th>trtv</th>\n",
              "      <th>tfav</th>\n",
              "      <th>tstcount</th>\n",
              "      <th>tfol</th>\n",
              "      <th>tfrien</th>\n",
              "      <th>listcount</th>\n",
              "    </tr>\n",
              "  </thead>\n",
              "  <tbody>\n",
              "    <tr>\n",
              "      <th>0</th>\n",
              "      <td>408906692374446080</td>\n",
              "      <td>1386325927</td>\n",
              "      <td>pleease_shut_up</td>\n",
              "      <td>@first_timee хоть я и школота, но поверь, у на...</td>\n",
              "      <td>1</td>\n",
              "      <td>0</td>\n",
              "      <td>0</td>\n",
              "      <td>0</td>\n",
              "      <td>7569</td>\n",
              "      <td>62</td>\n",
              "      <td>61</td>\n",
              "      <td>0</td>\n",
              "    </tr>\n",
              "    <tr>\n",
              "      <th>1</th>\n",
              "      <td>408906692693221377</td>\n",
              "      <td>1386325927</td>\n",
              "      <td>alinakirpicheva</td>\n",
              "      <td>Да, все-таки он немного похож на него. Но мой ...</td>\n",
              "      <td>1</td>\n",
              "      <td>0</td>\n",
              "      <td>0</td>\n",
              "      <td>0</td>\n",
              "      <td>11825</td>\n",
              "      <td>59</td>\n",
              "      <td>31</td>\n",
              "      <td>2</td>\n",
              "    </tr>\n",
              "    <tr>\n",
              "      <th>2</th>\n",
              "      <td>408906695083954177</td>\n",
              "      <td>1386325927</td>\n",
              "      <td>EvgeshaRe</td>\n",
              "      <td>RT @KatiaCheh: Ну ты идиотка) я испугалась за ...</td>\n",
              "      <td>1</td>\n",
              "      <td>0</td>\n",
              "      <td>1</td>\n",
              "      <td>0</td>\n",
              "      <td>1273</td>\n",
              "      <td>26</td>\n",
              "      <td>27</td>\n",
              "      <td>0</td>\n",
              "    </tr>\n",
              "    <tr>\n",
              "      <th>3</th>\n",
              "      <td>408906695356973056</td>\n",
              "      <td>1386325927</td>\n",
              "      <td>ikonnikova_21</td>\n",
              "      <td>RT @digger2912: \"Кто то в углу сидит и погибае...</td>\n",
              "      <td>1</td>\n",
              "      <td>0</td>\n",
              "      <td>1</td>\n",
              "      <td>0</td>\n",
              "      <td>1549</td>\n",
              "      <td>19</td>\n",
              "      <td>17</td>\n",
              "      <td>0</td>\n",
              "    </tr>\n",
              "    <tr>\n",
              "      <th>4</th>\n",
              "      <td>408906761416867842</td>\n",
              "      <td>1386325943</td>\n",
              "      <td>JumpyAlex</td>\n",
              "      <td>@irina_dyshkant Вот что значит страшилка :D\\nН...</td>\n",
              "      <td>1</td>\n",
              "      <td>0</td>\n",
              "      <td>0</td>\n",
              "      <td>0</td>\n",
              "      <td>597</td>\n",
              "      <td>16</td>\n",
              "      <td>23</td>\n",
              "      <td>1</td>\n",
              "    </tr>\n",
              "    <tr>\n",
              "      <th>...</th>\n",
              "      <td>...</td>\n",
              "      <td>...</td>\n",
              "      <td>...</td>\n",
              "      <td>...</td>\n",
              "      <td>...</td>\n",
              "      <td>...</td>\n",
              "      <td>...</td>\n",
              "      <td>...</td>\n",
              "      <td>...</td>\n",
              "      <td>...</td>\n",
              "      <td>...</td>\n",
              "      <td>...</td>\n",
              "    </tr>\n",
              "    <tr>\n",
              "      <th>111918</th>\n",
              "      <td>425138243257253888</td>\n",
              "      <td>1390195830</td>\n",
              "      <td>Yanch_96</td>\n",
              "      <td>Но не каждый хочет что то исправлять:( http://...</td>\n",
              "      <td>-1</td>\n",
              "      <td>0</td>\n",
              "      <td>0</td>\n",
              "      <td>0</td>\n",
              "      <td>1138</td>\n",
              "      <td>32</td>\n",
              "      <td>46</td>\n",
              "      <td>0</td>\n",
              "    </tr>\n",
              "    <tr>\n",
              "      <th>111919</th>\n",
              "      <td>425138339503943682</td>\n",
              "      <td>1390195853</td>\n",
              "      <td>tkit_on</td>\n",
              "      <td>скучаю так :-( только @taaannyaaa вправляет мо...</td>\n",
              "      <td>-1</td>\n",
              "      <td>0</td>\n",
              "      <td>0</td>\n",
              "      <td>0</td>\n",
              "      <td>4822</td>\n",
              "      <td>38</td>\n",
              "      <td>32</td>\n",
              "      <td>0</td>\n",
              "    </tr>\n",
              "    <tr>\n",
              "      <th>111920</th>\n",
              "      <td>425138437684215808</td>\n",
              "      <td>1390195876</td>\n",
              "      <td>ckooker1</td>\n",
              "      <td>Вот и в школу, в говно это идти уже надо(</td>\n",
              "      <td>-1</td>\n",
              "      <td>0</td>\n",
              "      <td>0</td>\n",
              "      <td>1</td>\n",
              "      <td>165</td>\n",
              "      <td>13</td>\n",
              "      <td>16</td>\n",
              "      <td>0</td>\n",
              "    </tr>\n",
              "    <tr>\n",
              "      <th>111921</th>\n",
              "      <td>425138490452344832</td>\n",
              "      <td>1390195889</td>\n",
              "      <td>LisaBeroud</td>\n",
              "      <td>RT @_Them__: @LisaBeroud Тауриэль, не грусти :...</td>\n",
              "      <td>-1</td>\n",
              "      <td>0</td>\n",
              "      <td>1</td>\n",
              "      <td>0</td>\n",
              "      <td>2516</td>\n",
              "      <td>187</td>\n",
              "      <td>265</td>\n",
              "      <td>0</td>\n",
              "    </tr>\n",
              "    <tr>\n",
              "      <th>111922</th>\n",
              "      <td>425138595251625984</td>\n",
              "      <td>1390195914</td>\n",
              "      <td>sukapavlov</td>\n",
              "      <td>Такси везет меня на работу. Раздумываю приплат...</td>\n",
              "      <td>-1</td>\n",
              "      <td>0</td>\n",
              "      <td>0</td>\n",
              "      <td>0</td>\n",
              "      <td>7778</td>\n",
              "      <td>146</td>\n",
              "      <td>66</td>\n",
              "      <td>5</td>\n",
              "    </tr>\n",
              "  </tbody>\n",
              "</table>\n",
              "<p>226834 rows × 12 columns</p>\n",
              "</div>\n",
              "      <button class=\"colab-df-convert\" onclick=\"convertToInteractive('df-5367a341-7beb-4fe0-b091-4d1fa9d1470a')\"\n",
              "              title=\"Convert this dataframe to an interactive table.\"\n",
              "              style=\"display:none;\">\n",
              "        \n",
              "  <svg xmlns=\"http://www.w3.org/2000/svg\" height=\"24px\"viewBox=\"0 0 24 24\"\n",
              "       width=\"24px\">\n",
              "    <path d=\"M0 0h24v24H0V0z\" fill=\"none\"/>\n",
              "    <path d=\"M18.56 5.44l.94 2.06.94-2.06 2.06-.94-2.06-.94-.94-2.06-.94 2.06-2.06.94zm-11 1L8.5 8.5l.94-2.06 2.06-.94-2.06-.94L8.5 2.5l-.94 2.06-2.06.94zm10 10l.94 2.06.94-2.06 2.06-.94-2.06-.94-.94-2.06-.94 2.06-2.06.94z\"/><path d=\"M17.41 7.96l-1.37-1.37c-.4-.4-.92-.59-1.43-.59-.52 0-1.04.2-1.43.59L10.3 9.45l-7.72 7.72c-.78.78-.78 2.05 0 2.83L4 21.41c.39.39.9.59 1.41.59.51 0 1.02-.2 1.41-.59l7.78-7.78 2.81-2.81c.8-.78.8-2.07 0-2.86zM5.41 20L4 18.59l7.72-7.72 1.47 1.35L5.41 20z\"/>\n",
              "  </svg>\n",
              "      </button>\n",
              "      \n",
              "  <style>\n",
              "    .colab-df-container {\n",
              "      display:flex;\n",
              "      flex-wrap:wrap;\n",
              "      gap: 12px;\n",
              "    }\n",
              "\n",
              "    .colab-df-convert {\n",
              "      background-color: #E8F0FE;\n",
              "      border: none;\n",
              "      border-radius: 50%;\n",
              "      cursor: pointer;\n",
              "      display: none;\n",
              "      fill: #1967D2;\n",
              "      height: 32px;\n",
              "      padding: 0 0 0 0;\n",
              "      width: 32px;\n",
              "    }\n",
              "\n",
              "    .colab-df-convert:hover {\n",
              "      background-color: #E2EBFA;\n",
              "      box-shadow: 0px 1px 2px rgba(60, 64, 67, 0.3), 0px 1px 3px 1px rgba(60, 64, 67, 0.15);\n",
              "      fill: #174EA6;\n",
              "    }\n",
              "\n",
              "    [theme=dark] .colab-df-convert {\n",
              "      background-color: #3B4455;\n",
              "      fill: #D2E3FC;\n",
              "    }\n",
              "\n",
              "    [theme=dark] .colab-df-convert:hover {\n",
              "      background-color: #434B5C;\n",
              "      box-shadow: 0px 1px 3px 1px rgba(0, 0, 0, 0.15);\n",
              "      filter: drop-shadow(0px 1px 2px rgba(0, 0, 0, 0.3));\n",
              "      fill: #FFFFFF;\n",
              "    }\n",
              "  </style>\n",
              "\n",
              "      <script>\n",
              "        const buttonEl =\n",
              "          document.querySelector('#df-5367a341-7beb-4fe0-b091-4d1fa9d1470a button.colab-df-convert');\n",
              "        buttonEl.style.display =\n",
              "          google.colab.kernel.accessAllowed ? 'block' : 'none';\n",
              "\n",
              "        async function convertToInteractive(key) {\n",
              "          const element = document.querySelector('#df-5367a341-7beb-4fe0-b091-4d1fa9d1470a');\n",
              "          const dataTable =\n",
              "            await google.colab.kernel.invokeFunction('convertToInteractive',\n",
              "                                                     [key], {});\n",
              "          if (!dataTable) return;\n",
              "\n",
              "          const docLinkHtml = 'Like what you see? Visit the ' +\n",
              "            '<a target=\"_blank\" href=https://colab.research.google.com/notebooks/data_table.ipynb>data table notebook</a>'\n",
              "            + ' to learn more about interactive tables.';\n",
              "          element.innerHTML = '';\n",
              "          dataTable['output_type'] = 'display_data';\n",
              "          await google.colab.output.renderOutput(dataTable, element);\n",
              "          const docLink = document.createElement('div');\n",
              "          docLink.innerHTML = docLinkHtml;\n",
              "          element.appendChild(docLink);\n",
              "        }\n",
              "      </script>\n",
              "    </div>\n",
              "  </div>\n",
              "  "
            ]
          },
          "metadata": {},
          "execution_count": 3
        }
      ],
      "source": [
        "names=[\"id\", \"tdate\", \"tmane\", \"ttext\", \"ttype\", \"trep\", \"trtv\", \"tfav\", \"tstcount\", \"tfol\", \"tfrien\", \"listcount\"]\n",
        "positive = pd.read_csv(\"positive.csv\", delimiter=\";\", header=None, names=names)\n",
        "negative = pd.read_csv(\"negative.csv\", delimiter=\";\", header=None, names=names)\n",
        "\n",
        "df = pd.concat([positive, negative])\n",
        "df = df.dropna().drop_duplicates()\n",
        "df"
      ]
    },
    {
      "cell_type": "markdown",
      "source": [
        "Download russian stopwords for nltk library to delete all unnecessary words"
      ],
      "metadata": {
        "id": "ebAt2yl0UmTS"
      }
    },
    {
      "cell_type": "code",
      "source": [
        "nltk.download('stopwords')"
      ],
      "metadata": {
        "colab": {
          "base_uri": "https://localhost:8080/"
        },
        "id": "r4bCLYaGQKth",
        "outputId": "912cc739-11cb-4ad8-d66b-58d2789fe396"
      },
      "execution_count": null,
      "outputs": [
        {
          "output_type": "stream",
          "name": "stderr",
          "text": [
            "[nltk_data] Downloading package stopwords to /root/nltk_data...\n",
            "[nltk_data]   Unzipping corpora/stopwords.zip.\n"
          ]
        },
        {
          "output_type": "execute_result",
          "data": {
            "text/plain": [
              "True"
            ]
          },
          "metadata": {},
          "execution_count": 4
        }
      ]
    },
    {
      "cell_type": "markdown",
      "source": [
        "*   Import the libraries for morphological processing\n",
        "*   Get regular expression to clean the text from symbols\n",
        "*   Create lemmatization function with stopwords removal"
      ],
      "metadata": {
        "id": "AupeZ76CVU-v"
      }
    },
    {
      "cell_type": "code",
      "source": [
        "import re\n",
        "import nltk\n",
        "\n",
        "from pymorphy2 import MorphAnalyzer\n",
        "from nltk.corpus import stopwords\n",
        "\n",
        "patterns = \"[A-Za-z0-9!#$%&'()*+,./:;<=>?@[\\]^_`{|}~—\\\"\\-]+\"\n",
        "stopwords_ru = stopwords.words(\"russian\")\n",
        "morph = MorphAnalyzer()\n",
        "\n",
        "def lemmatize(doc):\n",
        "    doc = re.sub(patterns, ' ', doc)\n",
        "    tokens = []\n",
        "    for token in doc.split():\n",
        "        if token and token not in stopwords_ru:\n",
        "            token = token.strip()\n",
        "            token = morph.normal_forms(token)[0]\n",
        "            \n",
        "            tokens.append(token)\n",
        "    if len(tokens) > 2:\n",
        "        return tokens\n",
        "    return None"
      ],
      "metadata": {
        "id": "uWOFYc5BPKI2"
      },
      "execution_count": null,
      "outputs": []
    },
    {
      "cell_type": "markdown",
      "source": [
        "Out of whole dataset we keep post text and it's type. Our text will be morphologically processed to see if the distribution is the same in this dataset as it's stated in paper: <br>\n",
        "Части речи // Материалы к корпусной грамматике русского языка. Выпуск III : Части речи и лексико-грамматические классы. СПб.: Нестор-История, 2018. С. 9–39."
      ],
      "metadata": {
        "id": "pzvwHAkrV90F"
      }
    },
    {
      "cell_type": "code",
      "source": [
        "worddata = df[['ttext', 'ttype']]\n",
        "worddata['words'] = df.ttext.apply(lemmatize)\n",
        "worddata = worddata.dropna()\n",
        "worddata.words"
      ],
      "metadata": {
        "id": "mt2vsCQbPkUr",
        "colab": {
          "base_uri": "https://localhost:8080/"
        },
        "outputId": "2cdf2ed7-e6dc-44ff-a3fb-b8a6aafd9348"
      },
      "execution_count": null,
      "outputs": [
        {
          "output_type": "stream",
          "name": "stderr",
          "text": [
            "<ipython-input-6-10c3b3c85fad>:2: SettingWithCopyWarning: \n",
            "A value is trying to be set on a copy of a slice from a DataFrame.\n",
            "Try using .loc[row_indexer,col_indexer] = value instead\n",
            "\n",
            "See the caveats in the documentation: https://pandas.pydata.org/pandas-docs/stable/user_guide/indexing.html#returning-a-view-versus-a-copy\n",
            "  worddata['words'] = df.ttext.apply(lemmatize)\n"
          ]
        },
        {
          "output_type": "execute_result",
          "data": {
            "text/plain": [
              "0         [школотый, поверь, самый, общество, профилиров...\n",
              "1          [да, таки, немного, похожий, но, мальчик, равно]\n",
              "2                                 [ну, идиотка, испугаться]\n",
              "3         [кто, угол, сидеть, погибать, голод, ещё, порц...\n",
              "4         [вот, значит, страшилка, но, блин, посмотреть,...\n",
              "                                ...                        \n",
              "111918                     [но, каждый, хотеть, исправлять]\n",
              "111919           [скучать, вправлять, мозг, равно, скучать]\n",
              "111920                       [вот, школа, говно, это, идти]\n",
              "111921                           [тауриэль, грусть, обнять]\n",
              "111922    [такси, везти, работа, раздумывать, приплатить...\n",
              "Name: words, Length: 214199, dtype: object"
            ]
          },
          "metadata": {},
          "execution_count": 6
        }
      ]
    },
    {
      "cell_type": "markdown",
      "source": [
        "Now we create morphological scheme of the message represented as parts-of-speech list and count the whole utterance length"
      ],
      "metadata": {
        "id": "NvmSOe3KWcq7"
      }
    },
    {
      "cell_type": "code",
      "source": [
        "POS = []\n",
        "POS_num = []\n",
        "for index, row in worddata.iterrows():\n",
        "    all_POSes = []\n",
        "    for word in row['words']:\n",
        "        all_POSes.append(morph.parse(word)[0].tag.POS)\n",
        "    POS.append(all_POSes)\n",
        "    POS_num.append(len(all_POSes))\n",
        "\n",
        "worddata['POS'] = POS\n",
        "worddata['words_number'] = POS_num\n",
        "worddata"
      ],
      "metadata": {
        "id": "Ld3W7iPLUZOX",
        "colab": {
          "base_uri": "https://localhost:8080/",
          "height": 424
        },
        "outputId": "169947bb-b68a-4098-cb74-d0b165f3f6f1"
      },
      "execution_count": null,
      "outputs": [
        {
          "output_type": "execute_result",
          "data": {
            "text/plain": [
              "                                                    ttext  ttype  \\\n",
              "0       @first_timee хоть я и школота, но поверь, у на...      1   \n",
              "1       Да, все-таки он немного похож на него. Но мой ...      1   \n",
              "2       RT @KatiaCheh: Ну ты идиотка) я испугалась за ...      1   \n",
              "3       RT @digger2912: \"Кто то в углу сидит и погибае...      1   \n",
              "4       @irina_dyshkant Вот что значит страшилка :D\\nН...      1   \n",
              "...                                                   ...    ...   \n",
              "111918  Но не каждый хочет что то исправлять:( http://...     -1   \n",
              "111919  скучаю так :-( только @taaannyaaa вправляет мо...     -1   \n",
              "111920          Вот и в школу, в говно это идти уже надо(     -1   \n",
              "111921  RT @_Them__: @LisaBeroud Тауриэль, не грусти :...     -1   \n",
              "111922  Такси везет меня на работу. Раздумываю приплат...     -1   \n",
              "\n",
              "                                                    words  \\\n",
              "0       [школотый, поверь, самый, общество, профилиров...   \n",
              "1        [да, таки, немного, похожий, но, мальчик, равно]   \n",
              "2                               [ну, идиотка, испугаться]   \n",
              "3       [кто, угол, сидеть, погибать, голод, ещё, порц...   \n",
              "4       [вот, значит, страшилка, но, блин, посмотреть,...   \n",
              "...                                                   ...   \n",
              "111918                   [но, каждый, хотеть, исправлять]   \n",
              "111919         [скучать, вправлять, мозг, равно, скучать]   \n",
              "111920                     [вот, школа, говно, это, идти]   \n",
              "111921                         [тауриэль, грусть, обнять]   \n",
              "111922  [такси, везти, работа, раздумывать, приплатить...   \n",
              "\n",
              "                                                      POS  words_number  \n",
              "0              [ADJF, CONJ, ADJF, NOUN, INFN, NOUN, NOUN]             7  \n",
              "1              [PRCL, PRCL, ADVB, ADJF, CONJ, NOUN, CONJ]             7  \n",
              "2                                      [PRCL, NOUN, INFN]             3  \n",
              "3       [NPRO, NOUN, INFN, INFN, NOUN, ADVB, NOUN, INF...            12  \n",
              "4       [PRCL, CONJ, NOUN, CONJ, INTJ, INFN, NOUN, INF...            11  \n",
              "...                                                   ...           ...  \n",
              "111918                           [CONJ, ADJF, INFN, INFN]             4  \n",
              "111919                     [INFN, INFN, NOUN, CONJ, INFN]             5  \n",
              "111920                     [PRCL, NOUN, NOUN, PRCL, INFN]             5  \n",
              "111921                                 [NOUN, NOUN, INFN]             3  \n",
              "111922  [NOUN, INFN, NOUN, INFN, INFN, INFN, ADJF, NOU...             9  \n",
              "\n",
              "[214199 rows x 5 columns]"
            ],
            "text/html": [
              "\n",
              "  <div id=\"df-751bbfca-e2ad-4da2-ae44-b594b2cb1c89\">\n",
              "    <div class=\"colab-df-container\">\n",
              "      <div>\n",
              "<style scoped>\n",
              "    .dataframe tbody tr th:only-of-type {\n",
              "        vertical-align: middle;\n",
              "    }\n",
              "\n",
              "    .dataframe tbody tr th {\n",
              "        vertical-align: top;\n",
              "    }\n",
              "\n",
              "    .dataframe thead th {\n",
              "        text-align: right;\n",
              "    }\n",
              "</style>\n",
              "<table border=\"1\" class=\"dataframe\">\n",
              "  <thead>\n",
              "    <tr style=\"text-align: right;\">\n",
              "      <th></th>\n",
              "      <th>ttext</th>\n",
              "      <th>ttype</th>\n",
              "      <th>words</th>\n",
              "      <th>POS</th>\n",
              "      <th>words_number</th>\n",
              "    </tr>\n",
              "  </thead>\n",
              "  <tbody>\n",
              "    <tr>\n",
              "      <th>0</th>\n",
              "      <td>@first_timee хоть я и школота, но поверь, у на...</td>\n",
              "      <td>1</td>\n",
              "      <td>[школотый, поверь, самый, общество, профилиров...</td>\n",
              "      <td>[ADJF, CONJ, ADJF, NOUN, INFN, NOUN, NOUN]</td>\n",
              "      <td>7</td>\n",
              "    </tr>\n",
              "    <tr>\n",
              "      <th>1</th>\n",
              "      <td>Да, все-таки он немного похож на него. Но мой ...</td>\n",
              "      <td>1</td>\n",
              "      <td>[да, таки, немного, похожий, но, мальчик, равно]</td>\n",
              "      <td>[PRCL, PRCL, ADVB, ADJF, CONJ, NOUN, CONJ]</td>\n",
              "      <td>7</td>\n",
              "    </tr>\n",
              "    <tr>\n",
              "      <th>2</th>\n",
              "      <td>RT @KatiaCheh: Ну ты идиотка) я испугалась за ...</td>\n",
              "      <td>1</td>\n",
              "      <td>[ну, идиотка, испугаться]</td>\n",
              "      <td>[PRCL, NOUN, INFN]</td>\n",
              "      <td>3</td>\n",
              "    </tr>\n",
              "    <tr>\n",
              "      <th>3</th>\n",
              "      <td>RT @digger2912: \"Кто то в углу сидит и погибае...</td>\n",
              "      <td>1</td>\n",
              "      <td>[кто, угол, сидеть, погибать, голод, ещё, порц...</td>\n",
              "      <td>[NPRO, NOUN, INFN, INFN, NOUN, ADVB, NOUN, INF...</td>\n",
              "      <td>12</td>\n",
              "    </tr>\n",
              "    <tr>\n",
              "      <th>4</th>\n",
              "      <td>@irina_dyshkant Вот что значит страшилка :D\\nН...</td>\n",
              "      <td>1</td>\n",
              "      <td>[вот, значит, страшилка, но, блин, посмотреть,...</td>\n",
              "      <td>[PRCL, CONJ, NOUN, CONJ, INTJ, INFN, NOUN, INF...</td>\n",
              "      <td>11</td>\n",
              "    </tr>\n",
              "    <tr>\n",
              "      <th>...</th>\n",
              "      <td>...</td>\n",
              "      <td>...</td>\n",
              "      <td>...</td>\n",
              "      <td>...</td>\n",
              "      <td>...</td>\n",
              "    </tr>\n",
              "    <tr>\n",
              "      <th>111918</th>\n",
              "      <td>Но не каждый хочет что то исправлять:( http://...</td>\n",
              "      <td>-1</td>\n",
              "      <td>[но, каждый, хотеть, исправлять]</td>\n",
              "      <td>[CONJ, ADJF, INFN, INFN]</td>\n",
              "      <td>4</td>\n",
              "    </tr>\n",
              "    <tr>\n",
              "      <th>111919</th>\n",
              "      <td>скучаю так :-( только @taaannyaaa вправляет мо...</td>\n",
              "      <td>-1</td>\n",
              "      <td>[скучать, вправлять, мозг, равно, скучать]</td>\n",
              "      <td>[INFN, INFN, NOUN, CONJ, INFN]</td>\n",
              "      <td>5</td>\n",
              "    </tr>\n",
              "    <tr>\n",
              "      <th>111920</th>\n",
              "      <td>Вот и в школу, в говно это идти уже надо(</td>\n",
              "      <td>-1</td>\n",
              "      <td>[вот, школа, говно, это, идти]</td>\n",
              "      <td>[PRCL, NOUN, NOUN, PRCL, INFN]</td>\n",
              "      <td>5</td>\n",
              "    </tr>\n",
              "    <tr>\n",
              "      <th>111921</th>\n",
              "      <td>RT @_Them__: @LisaBeroud Тауриэль, не грусти :...</td>\n",
              "      <td>-1</td>\n",
              "      <td>[тауриэль, грусть, обнять]</td>\n",
              "      <td>[NOUN, NOUN, INFN]</td>\n",
              "      <td>3</td>\n",
              "    </tr>\n",
              "    <tr>\n",
              "      <th>111922</th>\n",
              "      <td>Такси везет меня на работу. Раздумываю приплат...</td>\n",
              "      <td>-1</td>\n",
              "      <td>[такси, везти, работа, раздумывать, приплатить...</td>\n",
              "      <td>[NOUN, INFN, NOUN, INFN, INFN, INFN, ADJF, NOU...</td>\n",
              "      <td>9</td>\n",
              "    </tr>\n",
              "  </tbody>\n",
              "</table>\n",
              "<p>214199 rows × 5 columns</p>\n",
              "</div>\n",
              "      <button class=\"colab-df-convert\" onclick=\"convertToInteractive('df-751bbfca-e2ad-4da2-ae44-b594b2cb1c89')\"\n",
              "              title=\"Convert this dataframe to an interactive table.\"\n",
              "              style=\"display:none;\">\n",
              "        \n",
              "  <svg xmlns=\"http://www.w3.org/2000/svg\" height=\"24px\"viewBox=\"0 0 24 24\"\n",
              "       width=\"24px\">\n",
              "    <path d=\"M0 0h24v24H0V0z\" fill=\"none\"/>\n",
              "    <path d=\"M18.56 5.44l.94 2.06.94-2.06 2.06-.94-2.06-.94-.94-2.06-.94 2.06-2.06.94zm-11 1L8.5 8.5l.94-2.06 2.06-.94-2.06-.94L8.5 2.5l-.94 2.06-2.06.94zm10 10l.94 2.06.94-2.06 2.06-.94-2.06-.94-.94-2.06-.94 2.06-2.06.94z\"/><path d=\"M17.41 7.96l-1.37-1.37c-.4-.4-.92-.59-1.43-.59-.52 0-1.04.2-1.43.59L10.3 9.45l-7.72 7.72c-.78.78-.78 2.05 0 2.83L4 21.41c.39.39.9.59 1.41.59.51 0 1.02-.2 1.41-.59l7.78-7.78 2.81-2.81c.8-.78.8-2.07 0-2.86zM5.41 20L4 18.59l7.72-7.72 1.47 1.35L5.41 20z\"/>\n",
              "  </svg>\n",
              "      </button>\n",
              "      \n",
              "  <style>\n",
              "    .colab-df-container {\n",
              "      display:flex;\n",
              "      flex-wrap:wrap;\n",
              "      gap: 12px;\n",
              "    }\n",
              "\n",
              "    .colab-df-convert {\n",
              "      background-color: #E8F0FE;\n",
              "      border: none;\n",
              "      border-radius: 50%;\n",
              "      cursor: pointer;\n",
              "      display: none;\n",
              "      fill: #1967D2;\n",
              "      height: 32px;\n",
              "      padding: 0 0 0 0;\n",
              "      width: 32px;\n",
              "    }\n",
              "\n",
              "    .colab-df-convert:hover {\n",
              "      background-color: #E2EBFA;\n",
              "      box-shadow: 0px 1px 2px rgba(60, 64, 67, 0.3), 0px 1px 3px 1px rgba(60, 64, 67, 0.15);\n",
              "      fill: #174EA6;\n",
              "    }\n",
              "\n",
              "    [theme=dark] .colab-df-convert {\n",
              "      background-color: #3B4455;\n",
              "      fill: #D2E3FC;\n",
              "    }\n",
              "\n",
              "    [theme=dark] .colab-df-convert:hover {\n",
              "      background-color: #434B5C;\n",
              "      box-shadow: 0px 1px 3px 1px rgba(0, 0, 0, 0.15);\n",
              "      filter: drop-shadow(0px 1px 2px rgba(0, 0, 0, 0.3));\n",
              "      fill: #FFFFFF;\n",
              "    }\n",
              "  </style>\n",
              "\n",
              "      <script>\n",
              "        const buttonEl =\n",
              "          document.querySelector('#df-751bbfca-e2ad-4da2-ae44-b594b2cb1c89 button.colab-df-convert');\n",
              "        buttonEl.style.display =\n",
              "          google.colab.kernel.accessAllowed ? 'block' : 'none';\n",
              "\n",
              "        async function convertToInteractive(key) {\n",
              "          const element = document.querySelector('#df-751bbfca-e2ad-4da2-ae44-b594b2cb1c89');\n",
              "          const dataTable =\n",
              "            await google.colab.kernel.invokeFunction('convertToInteractive',\n",
              "                                                     [key], {});\n",
              "          if (!dataTable) return;\n",
              "\n",
              "          const docLinkHtml = 'Like what you see? Visit the ' +\n",
              "            '<a target=\"_blank\" href=https://colab.research.google.com/notebooks/data_table.ipynb>data table notebook</a>'\n",
              "            + ' to learn more about interactive tables.';\n",
              "          element.innerHTML = '';\n",
              "          dataTable['output_type'] = 'display_data';\n",
              "          await google.colab.output.renderOutput(dataTable, element);\n",
              "          const docLink = document.createElement('div');\n",
              "          docLink.innerHTML = docLinkHtml;\n",
              "          element.appendChild(docLink);\n",
              "        }\n",
              "      </script>\n",
              "    </div>\n",
              "  </div>\n",
              "  "
            ]
          },
          "metadata": {},
          "execution_count": 7
        }
      ]
    },
    {
      "cell_type": "markdown",
      "source": [
        "Count all the parts of speech"
      ],
      "metadata": {
        "id": "MwDxX8-qZKwh"
      }
    },
    {
      "cell_type": "code",
      "source": [
        "noun_counted = []\n",
        "adj_counted = []\n",
        "verb_counted = []\n",
        "numr_counted = []\n",
        "advb_counted = []\n",
        "pron_counted = []\n",
        "prep_counted = []\n",
        "conj_counted = []\n",
        "part_counted =[]\n",
        "intj_counted = []\n",
        "\n",
        "for index, row in worddata.iterrows():\n",
        "    noun_counted.append(row['POS'].count('NOUN'))\n",
        "    adj_counted.append(row['POS'].count('ADJF') + row['POS'].count('ADJS') + row['POS'].count('COMP'))\n",
        "    verb_counted.append(row['POS'].count('VERB') + row['POS'].count('INFN'))\n",
        "    numr_counted.append(row['POS'].count('NUMR'))\n",
        "    advb_counted.append(row['POS'].count('ADVB'))\n",
        "    pron_counted.append(row['POS'].count('NPRO'))\n",
        "    prep_counted.append(row['POS'].count('PREP'))\n",
        "    conj_counted.append(row['POS'].count('CONJ'))\n",
        "    part_counted.append(row['POS'].count('PRCL'))\n",
        "    intj_counted.append(row['POS'].count('INTJ'))\n",
        "\n",
        "worddata['nouns_number'] = noun_counted\n",
        "worddata['adjectives_number'] = adj_counted\n",
        "worddata['verb_number'] = verb_counted\n",
        "worddata['numeric_number'] = numr_counted\n",
        "worddata['adverb_number'] = advb_counted\n",
        "worddata['pronoun_number'] = pron_counted\n",
        "worddata['preposition_number'] = prep_counted\n",
        "worddata['conjunction_number'] = conj_counted\n",
        "worddata['particles_number'] = part_counted\n",
        "worddata['interjection_number'] = intj_counted\n",
        "\n",
        "worddata"
      ],
      "metadata": {
        "colab": {
          "base_uri": "https://localhost:8080/",
          "height": 1000
        },
        "id": "euLuJNtDZXBm",
        "outputId": "c61404bb-601e-4a3a-a35d-c538d79bf15d"
      },
      "execution_count": null,
      "outputs": [
        {
          "output_type": "execute_result",
          "data": {
            "text/plain": [
              "                                                    ttext  ttype  \\\n",
              "0       @first_timee хоть я и школота, но поверь, у на...      1   \n",
              "1       Да, все-таки он немного похож на него. Но мой ...      1   \n",
              "2       RT @KatiaCheh: Ну ты идиотка) я испугалась за ...      1   \n",
              "3       RT @digger2912: \"Кто то в углу сидит и погибае...      1   \n",
              "4       @irina_dyshkant Вот что значит страшилка :D\\nН...      1   \n",
              "...                                                   ...    ...   \n",
              "111918  Но не каждый хочет что то исправлять:( http://...     -1   \n",
              "111919  скучаю так :-( только @taaannyaaa вправляет мо...     -1   \n",
              "111920          Вот и в школу, в говно это идти уже надо(     -1   \n",
              "111921  RT @_Them__: @LisaBeroud Тауриэль, не грусти :...     -1   \n",
              "111922  Такси везет меня на работу. Раздумываю приплат...     -1   \n",
              "\n",
              "                                                    words  \\\n",
              "0       [школотый, поверь, самый, общество, профилиров...   \n",
              "1        [да, таки, немного, похожий, но, мальчик, равно]   \n",
              "2                               [ну, идиотка, испугаться]   \n",
              "3       [кто, угол, сидеть, погибать, голод, ещё, порц...   \n",
              "4       [вот, значит, страшилка, но, блин, посмотреть,...   \n",
              "...                                                   ...   \n",
              "111918                   [но, каждый, хотеть, исправлять]   \n",
              "111919         [скучать, вправлять, мозг, равно, скучать]   \n",
              "111920                     [вот, школа, говно, это, идти]   \n",
              "111921                         [тауриэль, грусть, обнять]   \n",
              "111922  [такси, везти, работа, раздумывать, приплатить...   \n",
              "\n",
              "                                                      POS  words_number  \\\n",
              "0              [ADJF, CONJ, ADJF, NOUN, INFN, NOUN, NOUN]             7   \n",
              "1              [PRCL, PRCL, ADVB, ADJF, CONJ, NOUN, CONJ]             7   \n",
              "2                                      [PRCL, NOUN, INFN]             3   \n",
              "3       [NPRO, NOUN, INFN, INFN, NOUN, ADVB, NOUN, INF...            12   \n",
              "4       [PRCL, CONJ, NOUN, CONJ, INTJ, INFN, NOUN, INF...            11   \n",
              "...                                                   ...           ...   \n",
              "111918                           [CONJ, ADJF, INFN, INFN]             4   \n",
              "111919                     [INFN, INFN, NOUN, CONJ, INFN]             5   \n",
              "111920                     [PRCL, NOUN, NOUN, PRCL, INFN]             5   \n",
              "111921                                 [NOUN, NOUN, INFN]             3   \n",
              "111922  [NOUN, INFN, NOUN, INFN, INFN, INFN, ADJF, NOU...             9   \n",
              "\n",
              "        nouns_number  adjectives_number  verb_number  numeric_number  \\\n",
              "0                  3                  2            1               0   \n",
              "1                  1                  1            0               0   \n",
              "2                  1                  0            1               0   \n",
              "3                  3                  0            5               0   \n",
              "4                  4                  0            3               0   \n",
              "...              ...                ...          ...             ...   \n",
              "111918             0                  1            2               0   \n",
              "111919             1                  0            3               0   \n",
              "111920             2                  0            1               0   \n",
              "111921             2                  0            1               0   \n",
              "111922             4                  1            4               0   \n",
              "\n",
              "        adverb_number  pronoun_number  preposition_number  conjunction_number  \\\n",
              "0                   0               0                   0                   1   \n",
              "1                   1               0                   0                   2   \n",
              "2                   0               0                   0                   0   \n",
              "3                   1               1                   0                   1   \n",
              "4                   0               0                   0                   2   \n",
              "...               ...             ...                 ...                 ...   \n",
              "111918              0               0                   0                   1   \n",
              "111919              0               0                   0                   1   \n",
              "111920              0               0                   0                   0   \n",
              "111921              0               0                   0                   0   \n",
              "111922              0               0                   0                   0   \n",
              "\n",
              "        particles_number  interjection_number  \n",
              "0                      0                    0  \n",
              "1                      2                    0  \n",
              "2                      1                    0  \n",
              "3                      0                    0  \n",
              "4                      1                    1  \n",
              "...                  ...                  ...  \n",
              "111918                 0                    0  \n",
              "111919                 0                    0  \n",
              "111920                 2                    0  \n",
              "111921                 0                    0  \n",
              "111922                 0                    0  \n",
              "\n",
              "[214199 rows x 15 columns]"
            ],
            "text/html": [
              "\n",
              "  <div id=\"df-7f19fd74-d572-45ca-9180-cf4b51b5df9e\">\n",
              "    <div class=\"colab-df-container\">\n",
              "      <div>\n",
              "<style scoped>\n",
              "    .dataframe tbody tr th:only-of-type {\n",
              "        vertical-align: middle;\n",
              "    }\n",
              "\n",
              "    .dataframe tbody tr th {\n",
              "        vertical-align: top;\n",
              "    }\n",
              "\n",
              "    .dataframe thead th {\n",
              "        text-align: right;\n",
              "    }\n",
              "</style>\n",
              "<table border=\"1\" class=\"dataframe\">\n",
              "  <thead>\n",
              "    <tr style=\"text-align: right;\">\n",
              "      <th></th>\n",
              "      <th>ttext</th>\n",
              "      <th>ttype</th>\n",
              "      <th>words</th>\n",
              "      <th>POS</th>\n",
              "      <th>words_number</th>\n",
              "      <th>nouns_number</th>\n",
              "      <th>adjectives_number</th>\n",
              "      <th>verb_number</th>\n",
              "      <th>numeric_number</th>\n",
              "      <th>adverb_number</th>\n",
              "      <th>pronoun_number</th>\n",
              "      <th>preposition_number</th>\n",
              "      <th>conjunction_number</th>\n",
              "      <th>particles_number</th>\n",
              "      <th>interjection_number</th>\n",
              "    </tr>\n",
              "  </thead>\n",
              "  <tbody>\n",
              "    <tr>\n",
              "      <th>0</th>\n",
              "      <td>@first_timee хоть я и школота, но поверь, у на...</td>\n",
              "      <td>1</td>\n",
              "      <td>[школотый, поверь, самый, общество, профилиров...</td>\n",
              "      <td>[ADJF, CONJ, ADJF, NOUN, INFN, NOUN, NOUN]</td>\n",
              "      <td>7</td>\n",
              "      <td>3</td>\n",
              "      <td>2</td>\n",
              "      <td>1</td>\n",
              "      <td>0</td>\n",
              "      <td>0</td>\n",
              "      <td>0</td>\n",
              "      <td>0</td>\n",
              "      <td>1</td>\n",
              "      <td>0</td>\n",
              "      <td>0</td>\n",
              "    </tr>\n",
              "    <tr>\n",
              "      <th>1</th>\n",
              "      <td>Да, все-таки он немного похож на него. Но мой ...</td>\n",
              "      <td>1</td>\n",
              "      <td>[да, таки, немного, похожий, но, мальчик, равно]</td>\n",
              "      <td>[PRCL, PRCL, ADVB, ADJF, CONJ, NOUN, CONJ]</td>\n",
              "      <td>7</td>\n",
              "      <td>1</td>\n",
              "      <td>1</td>\n",
              "      <td>0</td>\n",
              "      <td>0</td>\n",
              "      <td>1</td>\n",
              "      <td>0</td>\n",
              "      <td>0</td>\n",
              "      <td>2</td>\n",
              "      <td>2</td>\n",
              "      <td>0</td>\n",
              "    </tr>\n",
              "    <tr>\n",
              "      <th>2</th>\n",
              "      <td>RT @KatiaCheh: Ну ты идиотка) я испугалась за ...</td>\n",
              "      <td>1</td>\n",
              "      <td>[ну, идиотка, испугаться]</td>\n",
              "      <td>[PRCL, NOUN, INFN]</td>\n",
              "      <td>3</td>\n",
              "      <td>1</td>\n",
              "      <td>0</td>\n",
              "      <td>1</td>\n",
              "      <td>0</td>\n",
              "      <td>0</td>\n",
              "      <td>0</td>\n",
              "      <td>0</td>\n",
              "      <td>0</td>\n",
              "      <td>1</td>\n",
              "      <td>0</td>\n",
              "    </tr>\n",
              "    <tr>\n",
              "      <th>3</th>\n",
              "      <td>RT @digger2912: \"Кто то в углу сидит и погибае...</td>\n",
              "      <td>1</td>\n",
              "      <td>[кто, угол, сидеть, погибать, голод, ещё, порц...</td>\n",
              "      <td>[NPRO, NOUN, INFN, INFN, NOUN, ADVB, NOUN, INF...</td>\n",
              "      <td>12</td>\n",
              "      <td>3</td>\n",
              "      <td>0</td>\n",
              "      <td>5</td>\n",
              "      <td>0</td>\n",
              "      <td>1</td>\n",
              "      <td>1</td>\n",
              "      <td>0</td>\n",
              "      <td>1</td>\n",
              "      <td>0</td>\n",
              "      <td>0</td>\n",
              "    </tr>\n",
              "    <tr>\n",
              "      <th>4</th>\n",
              "      <td>@irina_dyshkant Вот что значит страшилка :D\\nН...</td>\n",
              "      <td>1</td>\n",
              "      <td>[вот, значит, страшилка, но, блин, посмотреть,...</td>\n",
              "      <td>[PRCL, CONJ, NOUN, CONJ, INTJ, INFN, NOUN, INF...</td>\n",
              "      <td>11</td>\n",
              "      <td>4</td>\n",
              "      <td>0</td>\n",
              "      <td>3</td>\n",
              "      <td>0</td>\n",
              "      <td>0</td>\n",
              "      <td>0</td>\n",
              "      <td>0</td>\n",
              "      <td>2</td>\n",
              "      <td>1</td>\n",
              "      <td>1</td>\n",
              "    </tr>\n",
              "    <tr>\n",
              "      <th>...</th>\n",
              "      <td>...</td>\n",
              "      <td>...</td>\n",
              "      <td>...</td>\n",
              "      <td>...</td>\n",
              "      <td>...</td>\n",
              "      <td>...</td>\n",
              "      <td>...</td>\n",
              "      <td>...</td>\n",
              "      <td>...</td>\n",
              "      <td>...</td>\n",
              "      <td>...</td>\n",
              "      <td>...</td>\n",
              "      <td>...</td>\n",
              "      <td>...</td>\n",
              "      <td>...</td>\n",
              "    </tr>\n",
              "    <tr>\n",
              "      <th>111918</th>\n",
              "      <td>Но не каждый хочет что то исправлять:( http://...</td>\n",
              "      <td>-1</td>\n",
              "      <td>[но, каждый, хотеть, исправлять]</td>\n",
              "      <td>[CONJ, ADJF, INFN, INFN]</td>\n",
              "      <td>4</td>\n",
              "      <td>0</td>\n",
              "      <td>1</td>\n",
              "      <td>2</td>\n",
              "      <td>0</td>\n",
              "      <td>0</td>\n",
              "      <td>0</td>\n",
              "      <td>0</td>\n",
              "      <td>1</td>\n",
              "      <td>0</td>\n",
              "      <td>0</td>\n",
              "    </tr>\n",
              "    <tr>\n",
              "      <th>111919</th>\n",
              "      <td>скучаю так :-( только @taaannyaaa вправляет мо...</td>\n",
              "      <td>-1</td>\n",
              "      <td>[скучать, вправлять, мозг, равно, скучать]</td>\n",
              "      <td>[INFN, INFN, NOUN, CONJ, INFN]</td>\n",
              "      <td>5</td>\n",
              "      <td>1</td>\n",
              "      <td>0</td>\n",
              "      <td>3</td>\n",
              "      <td>0</td>\n",
              "      <td>0</td>\n",
              "      <td>0</td>\n",
              "      <td>0</td>\n",
              "      <td>1</td>\n",
              "      <td>0</td>\n",
              "      <td>0</td>\n",
              "    </tr>\n",
              "    <tr>\n",
              "      <th>111920</th>\n",
              "      <td>Вот и в школу, в говно это идти уже надо(</td>\n",
              "      <td>-1</td>\n",
              "      <td>[вот, школа, говно, это, идти]</td>\n",
              "      <td>[PRCL, NOUN, NOUN, PRCL, INFN]</td>\n",
              "      <td>5</td>\n",
              "      <td>2</td>\n",
              "      <td>0</td>\n",
              "      <td>1</td>\n",
              "      <td>0</td>\n",
              "      <td>0</td>\n",
              "      <td>0</td>\n",
              "      <td>0</td>\n",
              "      <td>0</td>\n",
              "      <td>2</td>\n",
              "      <td>0</td>\n",
              "    </tr>\n",
              "    <tr>\n",
              "      <th>111921</th>\n",
              "      <td>RT @_Them__: @LisaBeroud Тауриэль, не грусти :...</td>\n",
              "      <td>-1</td>\n",
              "      <td>[тауриэль, грусть, обнять]</td>\n",
              "      <td>[NOUN, NOUN, INFN]</td>\n",
              "      <td>3</td>\n",
              "      <td>2</td>\n",
              "      <td>0</td>\n",
              "      <td>1</td>\n",
              "      <td>0</td>\n",
              "      <td>0</td>\n",
              "      <td>0</td>\n",
              "      <td>0</td>\n",
              "      <td>0</td>\n",
              "      <td>0</td>\n",
              "      <td>0</td>\n",
              "    </tr>\n",
              "    <tr>\n",
              "      <th>111922</th>\n",
              "      <td>Такси везет меня на работу. Раздумываю приплат...</td>\n",
              "      <td>-1</td>\n",
              "      <td>[такси, везти, работа, раздумывать, приплатить...</td>\n",
              "      <td>[NOUN, INFN, NOUN, INFN, INFN, INFN, ADJF, NOU...</td>\n",
              "      <td>9</td>\n",
              "      <td>4</td>\n",
              "      <td>1</td>\n",
              "      <td>4</td>\n",
              "      <td>0</td>\n",
              "      <td>0</td>\n",
              "      <td>0</td>\n",
              "      <td>0</td>\n",
              "      <td>0</td>\n",
              "      <td>0</td>\n",
              "      <td>0</td>\n",
              "    </tr>\n",
              "  </tbody>\n",
              "</table>\n",
              "<p>214199 rows × 15 columns</p>\n",
              "</div>\n",
              "      <button class=\"colab-df-convert\" onclick=\"convertToInteractive('df-7f19fd74-d572-45ca-9180-cf4b51b5df9e')\"\n",
              "              title=\"Convert this dataframe to an interactive table.\"\n",
              "              style=\"display:none;\">\n",
              "        \n",
              "  <svg xmlns=\"http://www.w3.org/2000/svg\" height=\"24px\"viewBox=\"0 0 24 24\"\n",
              "       width=\"24px\">\n",
              "    <path d=\"M0 0h24v24H0V0z\" fill=\"none\"/>\n",
              "    <path d=\"M18.56 5.44l.94 2.06.94-2.06 2.06-.94-2.06-.94-.94-2.06-.94 2.06-2.06.94zm-11 1L8.5 8.5l.94-2.06 2.06-.94-2.06-.94L8.5 2.5l-.94 2.06-2.06.94zm10 10l.94 2.06.94-2.06 2.06-.94-2.06-.94-.94-2.06-.94 2.06-2.06.94z\"/><path d=\"M17.41 7.96l-1.37-1.37c-.4-.4-.92-.59-1.43-.59-.52 0-1.04.2-1.43.59L10.3 9.45l-7.72 7.72c-.78.78-.78 2.05 0 2.83L4 21.41c.39.39.9.59 1.41.59.51 0 1.02-.2 1.41-.59l7.78-7.78 2.81-2.81c.8-.78.8-2.07 0-2.86zM5.41 20L4 18.59l7.72-7.72 1.47 1.35L5.41 20z\"/>\n",
              "  </svg>\n",
              "      </button>\n",
              "      \n",
              "  <style>\n",
              "    .colab-df-container {\n",
              "      display:flex;\n",
              "      flex-wrap:wrap;\n",
              "      gap: 12px;\n",
              "    }\n",
              "\n",
              "    .colab-df-convert {\n",
              "      background-color: #E8F0FE;\n",
              "      border: none;\n",
              "      border-radius: 50%;\n",
              "      cursor: pointer;\n",
              "      display: none;\n",
              "      fill: #1967D2;\n",
              "      height: 32px;\n",
              "      padding: 0 0 0 0;\n",
              "      width: 32px;\n",
              "    }\n",
              "\n",
              "    .colab-df-convert:hover {\n",
              "      background-color: #E2EBFA;\n",
              "      box-shadow: 0px 1px 2px rgba(60, 64, 67, 0.3), 0px 1px 3px 1px rgba(60, 64, 67, 0.15);\n",
              "      fill: #174EA6;\n",
              "    }\n",
              "\n",
              "    [theme=dark] .colab-df-convert {\n",
              "      background-color: #3B4455;\n",
              "      fill: #D2E3FC;\n",
              "    }\n",
              "\n",
              "    [theme=dark] .colab-df-convert:hover {\n",
              "      background-color: #434B5C;\n",
              "      box-shadow: 0px 1px 3px 1px rgba(0, 0, 0, 0.15);\n",
              "      filter: drop-shadow(0px 1px 2px rgba(0, 0, 0, 0.3));\n",
              "      fill: #FFFFFF;\n",
              "    }\n",
              "  </style>\n",
              "\n",
              "      <script>\n",
              "        const buttonEl =\n",
              "          document.querySelector('#df-7f19fd74-d572-45ca-9180-cf4b51b5df9e button.colab-df-convert');\n",
              "        buttonEl.style.display =\n",
              "          google.colab.kernel.accessAllowed ? 'block' : 'none';\n",
              "\n",
              "        async function convertToInteractive(key) {\n",
              "          const element = document.querySelector('#df-7f19fd74-d572-45ca-9180-cf4b51b5df9e');\n",
              "          const dataTable =\n",
              "            await google.colab.kernel.invokeFunction('convertToInteractive',\n",
              "                                                     [key], {});\n",
              "          if (!dataTable) return;\n",
              "\n",
              "          const docLinkHtml = 'Like what you see? Visit the ' +\n",
              "            '<a target=\"_blank\" href=https://colab.research.google.com/notebooks/data_table.ipynb>data table notebook</a>'\n",
              "            + ' to learn more about interactive tables.';\n",
              "          element.innerHTML = '';\n",
              "          dataTable['output_type'] = 'display_data';\n",
              "          await google.colab.output.renderOutput(dataTable, element);\n",
              "          const docLink = document.createElement('div');\n",
              "          docLink.innerHTML = docLinkHtml;\n",
              "          element.appendChild(docLink);\n",
              "        }\n",
              "      </script>\n",
              "    </div>\n",
              "  </div>\n",
              "  "
            ]
          },
          "metadata": {},
          "execution_count": 8
        }
      ]
    },
    {
      "cell_type": "code",
      "source": [
        "#@title check the distribution of posts' length\n",
        "worddata['words_number'].value_counts().plot(kind='bar')"
      ],
      "metadata": {
        "colab": {
          "base_uri": "https://localhost:8080/",
          "height": 286
        },
        "id": "AXYRk4HrP_Gs",
        "outputId": "4b12ab6c-2711-4297-e820-e1765fb36b69",
        "cellView": "form"
      },
      "execution_count": null,
      "outputs": [
        {
          "output_type": "execute_result",
          "data": {
            "text/plain": [
              "<matplotlib.axes._subplots.AxesSubplot at 0x7f74fa48c250>"
            ]
          },
          "metadata": {},
          "execution_count": 9
        },
        {
          "output_type": "display_data",
          "data": {
            "text/plain": [
              "<Figure size 432x288 with 1 Axes>"
            ],
            "image/png": "[encoded data removed]"
          },
          "metadata": {
            "needs_background": "light"
          }
        }
      ]
    },
    {
      "cell_type": "code",
      "source": [
        "#@title we'll take a closer look at top-5 most common\n",
        "worddata['words_number'].value_counts()[:5].plot(kind='bar')"
      ],
      "metadata": {
        "colab": {
          "base_uri": "https://localhost:8080/",
          "height": 280
        },
        "id": "LXOFVTFlYnC4",
        "outputId": "a2e070d3-3cb0-4cae-bcbf-094fda5b2e36",
        "cellView": "form"
      },
      "execution_count": null,
      "outputs": [
        {
          "output_type": "execute_result",
          "data": {
            "text/plain": [
              "<matplotlib.axes._subplots.AxesSubplot at 0x7f74e1752d60>"
            ]
          },
          "metadata": {},
          "execution_count": 10
        },
        {
          "output_type": "display_data",
          "data": {
            "text/plain": [
              "<Figure size 432x288 with 1 Axes>"
            ],
            "image/png": "[encoded data removed]"
          },
          "metadata": {
            "needs_background": "light"
          }
        }
      ]
    },
    {
      "cell_type": "code",
      "source": [
        "#@title Now we check if 5 is the mode, also we'll get mean and median for sentences length\n",
        "print('mode', worddata['words_number'].mode())\n",
        "print('mean', worddata['words_number'].mean())\n",
        "print('median', worddata['words_number'].median())"
      ],
      "metadata": {
        "colab": {
          "base_uri": "https://localhost:8080/"
        },
        "id": "AgXhywmBRKX-",
        "outputId": "57917f91-3f2a-47d9-e84a-8a331422d80c",
        "cellView": "form"
      },
      "execution_count": null,
      "outputs": [
        {
          "output_type": "stream",
          "name": "stdout",
          "text": [
            "mode 0    5\n",
            "dtype: int64\n",
            "mean 7.378283745489008\n",
            "median 7.0\n"
          ]
        }
      ]
    },
    {
      "cell_type": "markdown",
      "source": [
        "Let's see a plot, mode, median and mean for every part of speech\n",
        "(plot here doesn't work in iteration so we'll call them 1 by 1)"
      ],
      "metadata": {
        "id": "XIA5SDXXonuE"
      }
    },
    {
      "cell_type": "code",
      "source": [
        "worddata['nouns_number'].value_counts().plot(kind='bar')\n",
        "print('mode', worddata['nouns_number'].mode())\n",
        "print('mean', worddata['nouns_number'].mean())\n",
        "print('median', worddata['nouns_number'].median())"
      ],
      "metadata": {
        "id": "n1HhV-PXomfh",
        "colab": {
          "base_uri": "https://localhost:8080/",
          "height": 339
        },
        "outputId": "936ddd58-2565-4415-fb34-b69b4a015e5a"
      },
      "execution_count": null,
      "outputs": [
        {
          "output_type": "stream",
          "name": "stdout",
          "text": [
            "mode 0    2\n",
            "dtype: int64\n",
            "mean 2.7871371948515167\n",
            "median 2.0\n"
          ]
        },
        {
          "output_type": "display_data",
          "data": {
            "text/plain": [
              "<Figure size 432x288 with 1 Axes>"
            ],
            "image/png": "[encoded data removed]"
          },
          "metadata": {
            "needs_background": "light"
          }
        }
      ]
    },
    {
      "cell_type": "code",
      "source": [
        "worddata['adjectives_number'].value_counts().plot(kind='bar')\n",
        "print('mode', worddata['adjectives_number'].mode())\n",
        "print('mean', worddata['adjectives_number'].mean())\n",
        "print('median', worddata['adjectives_number'].median())"
      ],
      "metadata": {
        "colab": {
          "base_uri": "https://localhost:8080/",
          "height": 339
        },
        "id": "jMZtQG8_y8vE",
        "outputId": "dd536076-99e3-4dae-9e68-34201710e8c1"
      },
      "execution_count": null,
      "outputs": [
        {
          "output_type": "stream",
          "name": "stdout",
          "text": [
            "mode 0    0\n",
            "dtype: int64\n",
            "mean 0.9557234160757053\n",
            "median 1.0\n"
          ]
        },
        {
          "output_type": "display_data",
          "data": {
            "text/plain": [
              "<Figure size 432x288 with 1 Axes>"
            ],
            "image/png": "[encoded data removed]"
          },
          "metadata": {
            "needs_background": "light"
          }
        }
      ]
    },
    {
      "cell_type": "code",
      "source": [
        "worddata['verb_number'].value_counts().plot(kind='bar')\n",
        "print('mode', worddata['verb_number'].mode())\n",
        "print('mean', worddata['verb_number'].mean())\n",
        "print('median', worddata['verb_number'].median())"
      ],
      "metadata": {
        "colab": {
          "base_uri": "https://localhost:8080/",
          "height": 339
        },
        "id": "lYlKhQYpy_sE",
        "outputId": "f05284dc-96b5-4e57-886a-ba98fb04ebea"
      },
      "execution_count": null,
      "outputs": [
        {
          "output_type": "stream",
          "name": "stdout",
          "text": [
            "mode 0    1\n",
            "dtype: int64\n",
            "mean 1.845601520081793\n",
            "median 2.0\n"
          ]
        },
        {
          "output_type": "display_data",
          "data": {
            "text/plain": [
              "<Figure size 432x288 with 1 Axes>"
            ],
            "image/png": "[encoded data removed]"
          },
          "metadata": {
            "needs_background": "light"
          }
        }
      ]
    },
    {
      "cell_type": "code",
      "source": [
        "worddata['numeric_number'].value_counts().plot(kind='bar')\n",
        "print('mode', worddata['numeric_number'].mode())\n",
        "print('mean', worddata['numeric_number'].mean())\n",
        "print('median', worddata['numeric_number'].median())"
      ],
      "metadata": {
        "colab": {
          "base_uri": "https://localhost:8080/",
          "height": 339
        },
        "id": "8JUUW8dXzBQE",
        "outputId": "4d3f22f4-0bbb-4484-8796-032e7fb07bd3"
      },
      "execution_count": null,
      "outputs": [
        {
          "output_type": "stream",
          "name": "stdout",
          "text": [
            "mode 0    0\n",
            "dtype: int64\n",
            "mean 0.01872557761707571\n",
            "median 0.0\n"
          ]
        },
        {
          "output_type": "display_data",
          "data": {
            "text/plain": [
              "<Figure size 432x288 with 1 Axes>"
            ],
            "image/png": "[encoded data removed]"
          },
          "metadata": {
            "needs_background": "light"
          }
        }
      ]
    },
    {
      "cell_type": "code",
      "source": [
        "worddata['adverb_number'].value_counts().plot(kind='bar')\n",
        "print('mode', worddata['adverb_number'].mode())\n",
        "print('mean', worddata['adverb_number'].mean())\n",
        "print('median', worddata['adverb_number'].median())"
      ],
      "metadata": {
        "colab": {
          "base_uri": "https://localhost:8080/",
          "height": 333
        },
        "id": "X4VZut6gzBrD",
        "outputId": "1f20bbfd-3e3a-4858-82c4-a963bc7dc81f"
      },
      "execution_count": null,
      "outputs": [
        {
          "output_type": "stream",
          "name": "stdout",
          "text": [
            "mode 0    0\n",
            "dtype: int64\n",
            "mean 0.5941764434007628\n",
            "median 0.0\n"
          ]
        },
        {
          "output_type": "display_data",
          "data": {
            "text/plain": [
              "<Figure size 432x288 with 1 Axes>"
            ],
            "image/png": "[encoded data removed]"
          },
          "metadata": {
            "needs_background": "light"
          }
        }
      ]
    },
    {
      "cell_type": "code",
      "source": [
        "worddata['pronoun_number'].value_counts().plot(kind='bar')\n",
        "print('mode', worddata['pronoun_number'].mode())\n",
        "print('mean', worddata['pronoun_number'].mean())\n",
        "print('median', worddata['pronoun_number'].median())"
      ],
      "metadata": {
        "colab": {
          "base_uri": "https://localhost:8080/",
          "height": 333
        },
        "id": "oq07fTMlzGei",
        "outputId": "69e2c2ce-bda0-43dc-fb7c-04a1187076ac"
      },
      "execution_count": null,
      "outputs": [
        {
          "output_type": "stream",
          "name": "stdout",
          "text": [
            "mode 0    0\n",
            "dtype: int64\n",
            "mean 0.21352107152694458\n",
            "median 0.0\n"
          ]
        },
        {
          "output_type": "display_data",
          "data": {
            "text/plain": [
              "<Figure size 432x288 with 1 Axes>"
            ],
            "image/png": "[encoded data removed]"
          },
          "metadata": {
            "needs_background": "light"
          }
        }
      ]
    },
    {
      "cell_type": "code",
      "source": [
        "worddata['preposition_number'].value_counts().plot(kind='bar')\n",
        "print('mode', worddata['preposition_number'].mode())\n",
        "print('mean', worddata['preposition_number'].mean())\n",
        "print('median', worddata['preposition_number'].median())"
      ],
      "metadata": {
        "colab": {
          "base_uri": "https://localhost:8080/",
          "height": 333
        },
        "id": "8cVzzpt4zHeF",
        "outputId": "c14586c3-6bed-44a7-c63e-e29e85d6b5f4"
      },
      "execution_count": null,
      "outputs": [
        {
          "output_type": "stream",
          "name": "stdout",
          "text": [
            "mode 0    0\n",
            "dtype: int64\n",
            "mean 0.12367938225668654\n",
            "median 0.0\n"
          ]
        },
        {
          "output_type": "display_data",
          "data": {
            "text/plain": [
              "<Figure size 432x288 with 1 Axes>"
            ],
            "image/png": "[encoded data removed]"
          },
          "metadata": {
            "needs_background": "light"
          }
        }
      ]
    },
    {
      "cell_type": "code",
      "source": [
        "worddata['conjunction_number'].value_counts().plot(kind='bar')\n",
        "print('mode', worddata['conjunction_number'].mode())\n",
        "print('mean', worddata['conjunction_number'].mean())\n",
        "print('median', worddata['conjunction_number'].median())"
      ],
      "metadata": {
        "colab": {
          "base_uri": "https://localhost:8080/",
          "height": 333
        },
        "id": "SpaDGQBkzIeU",
        "outputId": "2f0a942f-3e31-4a01-fc7e-a7c8e9edc39d"
      },
      "execution_count": null,
      "outputs": [
        {
          "output_type": "stream",
          "name": "stdout",
          "text": [
            "mode 0    0\n",
            "dtype: int64\n",
            "mean 0.22547257456850872\n",
            "median 0.0\n"
          ]
        },
        {
          "output_type": "display_data",
          "data": {
            "text/plain": [
              "<Figure size 432x288 with 1 Axes>"
            ],
            "image/png": "[encoded data removed]"
          },
          "metadata": {
            "needs_background": "light"
          }
        }
      ]
    },
    {
      "cell_type": "code",
      "source": [
        "worddata['particles_number'].value_counts().plot(kind='bar')\n",
        "print('mode', worddata['particles_number'].mode())\n",
        "print('mean', worddata['particles_number'].mean())\n",
        "print('median', worddata['particles_number'].median())"
      ],
      "metadata": {
        "colab": {
          "base_uri": "https://localhost:8080/",
          "height": 333
        },
        "id": "Yoyv1hsezI9C",
        "outputId": "2fb263c9-a7db-4a82-cddc-1810e18e2d3e"
      },
      "execution_count": null,
      "outputs": [
        {
          "output_type": "stream",
          "name": "stdout",
          "text": [
            "mode 0    0\n",
            "dtype: int64\n",
            "mean 0.28682206732991283\n",
            "median 0.0\n"
          ]
        },
        {
          "output_type": "display_data",
          "data": {
            "text/plain": [
              "<Figure size 432x288 with 1 Axes>"
            ],
            "image/png": "[encoded data removed]"
          },
          "metadata": {
            "needs_background": "light"
          }
        }
      ]
    },
    {
      "cell_type": "code",
      "source": [
        "worddata['interjection_number'].value_counts().plot(kind='bar')\n",
        "print('mode', worddata['interjection_number'].mode())\n",
        "print('mean', worddata['interjection_number'].mean())\n",
        "print('median', worddata['interjection_number'].median())"
      ],
      "metadata": {
        "colab": {
          "base_uri": "https://localhost:8080/",
          "height": 333
        },
        "id": "P3_lNcmszKI6",
        "outputId": "7f52ebb0-6d46-4d8d-c90c-6662a006e03e"
      },
      "execution_count": null,
      "outputs": [
        {
          "output_type": "stream",
          "name": "stdout",
          "text": [
            "mode 0    0\n",
            "dtype: int64\n",
            "mean 0.10033660287863155\n",
            "median 0.0\n"
          ]
        },
        {
          "output_type": "display_data",
          "data": {
            "text/plain": [
              "<Figure size 432x288 with 1 Axes>"
            ],
            "image/png": "[encoded data removed]"
          },
          "metadata": {
            "needs_background": "light"
          }
        }
      ]
    },
    {
      "cell_type": "markdown",
      "source": [
        "Now we'll check percentage of our Parts of speech"
      ],
      "metadata": {
        "id": "VCq56O9Fe9cS"
      }
    },
    {
      "cell_type": "code",
      "source": [
        "POS_in_percents = {}\n",
        "for i in worddata[['nouns_number', 'adjectives_number', 'verb_number', \n",
        "                  'numeric_number', 'adverb_number', 'pronoun_number', \n",
        "                  'preposition_number', 'conjunction_number', \n",
        "                  'particles_number', 'interjection_number']]:\n",
        "    POS_in_percents[i] = worddata[i].sum()/worddata['words_number'].sum()*100\n",
        "\n",
        "sorted(((percent, key) for (key,percent) in POS_in_percents.items()), reverse=True)"
      ],
      "metadata": {
        "colab": {
          "base_uri": "https://localhost:8080/"
        },
        "id": "Pm04j0YMe87T",
        "outputId": "adc87c45-26fd-4f9b-bb5c-2a782b86e821"
      },
      "execution_count": null,
      "outputs": [
        {
          "output_type": "execute_result",
          "data": {
            "text/plain": [
              "[(37.77487137920845, 'nouns_number'),\n",
              " (25.01396779718822, 'verb_number'),\n",
              " (12.953194117263692, 'adjectives_number'),\n",
              " (8.053044093947118, 'adverb_number'),\n",
              " (3.887381906466695, 'particles_number'),\n",
              " (3.0558946002362664, 'conjunction_number'),\n",
              " (2.893912444848556, 'pronoun_number'),\n",
              " (1.6762622111450052, 'preposition_number'),\n",
              " (1.359890813903384, 'interjection_number'),\n",
              " (0.2537931348672284, 'numeric_number')]"
            ]
          },
          "metadata": {},
          "execution_count": 22
        }
      ]
    },
    {
      "cell_type": "markdown",
      "source": [
        "So our top is different from the one in the paper\n",
        "We can see that Nouns are still the most used part of speech<br>\n",
        "Also verbs have high increase in place taken<br>\n",
        "We can also see that every part of speech increased in percents, but it should be the outcome of our texts being really short"
      ],
      "metadata": {
        "id": "I4AsUf3-3Rzs"
      }
    },
    {
      "cell_type": "markdown",
      "source": [
        "![изображение.png](data:image/png;base64,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)"
      ],
      "metadata": {
        "id": "HOYvY_zs2-fl"
      }
    },
    {
      "cell_type": "markdown",
      "source": [
        "#PART II Sentiment analysis as classification task\n",
        "Now we'll move to our prediction attempts.<br>\n",
        "We had our answer based on papers and researches<br>\n",
        "Our next goal is try to predict message class given in dataset in \"ttype\" column\n",
        "This type represents sentiment class: <br>1 - positive<br> -1 - negative<br>\n",
        "We'll try to train classic classifiers based on morphological data and 'social data'."
      ],
      "metadata": {
        "id": "SC0kzyMSos_w"
      }
    },
    {
      "cell_type": "markdown",
      "source": [
        "First of all we check if we have everything we need in the same dataframe"
      ],
      "metadata": {
        "id": "xdy1w-KU9Z-S"
      }
    },
    {
      "cell_type": "code",
      "source": [
        "worddata.columns"
      ],
      "metadata": {
        "colab": {
          "base_uri": "https://localhost:8080/"
        },
        "id": "-RCbzKHZoyTw",
        "outputId": "3beff2ad-6a06-4805-d56b-d7a1f737ce65"
      },
      "execution_count": null,
      "outputs": [
        {
          "output_type": "execute_result",
          "data": {
            "text/plain": [
              "Index(['ttext', 'ttype', 'words', 'POS', 'words_number', 'nouns_number',\n",
              "       'adjectives_number', 'verb_number', 'numeric_number', 'adverb_number',\n",
              "       'pronoun_number', 'preposition_number', 'conjunction_number',\n",
              "       'particles_number', 'interjection_number'],\n",
              "      dtype='object')"
            ]
          },
          "metadata": {},
          "execution_count": 23
        }
      ]
    },
    {
      "cell_type": "markdown",
      "source": [
        "Now let's check class distribution to see if its even"
      ],
      "metadata": {
        "id": "5ctdIoQTyr9w"
      }
    },
    {
      "cell_type": "code",
      "source": [
        "worddata.ttype.value_counts().plot(kind='bar')"
      ],
      "metadata": {
        "colab": {
          "base_uri": "https://localhost:8080/",
          "height": 283
        },
        "id": "ezPc3vkW7WuP",
        "outputId": "8a85ea03-338a-467c-f955-229bd4327b5f"
      },
      "execution_count": null,
      "outputs": [
        {
          "output_type": "execute_result",
          "data": {
            "text/plain": [
              "<matplotlib.axes._subplots.AxesSubplot at 0x7f74e0fa0e50>"
            ]
          },
          "metadata": {},
          "execution_count": 24
        },
        {
          "output_type": "display_data",
          "data": {
            "text/plain": [
              "<Figure size 432x288 with 1 Axes>"
            ],
            "image/png": "[encoded data removed]"
          },
          "metadata": {
            "needs_background": "light"
          }
        }
      ]
    },
    {
      "cell_type": "markdown",
      "source": [
        "Now we replace -1 label given in dataset with 0 for classification to be correct. <br>Having 0 as negative label and 1 as positive\n"
      ],
      "metadata": {
        "id": "zVA7ltAT9vow"
      }
    },
    {
      "cell_type": "code",
      "source": [
        "worddata.loc[(worddata.ttype == -1), ('ttype')] = 0"
      ],
      "metadata": {
        "id": "BCH3-zZB7Iek"
      },
      "execution_count": null,
      "outputs": []
    },
    {
      "cell_type": "markdown",
      "source": [
        "And shuffle the dataset to see if it's applied correctly"
      ],
      "metadata": {
        "id": "l28eclxO-fvg"
      }
    },
    {
      "cell_type": "code",
      "source": [
        "from sklearn.utils import shuffle\n",
        "worddata = shuffle(worddata)\n",
        "worddata"
      ],
      "metadata": {
        "colab": {
          "base_uri": "https://localhost:8080/",
          "height": 1000
        },
        "id": "dxbDly8w8CKJ",
        "outputId": "23014b74-e5d8-42d7-aecf-6d28032accb9"
      },
      "execution_count": null,
      "outputs": [
        {
          "output_type": "execute_result",
          "data": {
            "text/plain": [
              "                                                    ttext  ttype  \\\n",
              "49157   Она повалила доску, но все-равно не сможет пер...      1   \n",
              "90340   RT @_Do_or_Die__: Люблю такие моменты\\nМоменты...      0   \n",
              "110682  RT @Krylova_Ek: На выезд #детиулиц в Тверскую ...      1   \n",
              "59725   @Uprav_Dom @rianru не ну торганул канешна))) б...      1   \n",
              "82191   Пока не рискну, не узнаю правильно ли я поступ...      0   \n",
              "...                                                   ...    ...   \n",
              "54844   @airat006 Понятно) Ну ничего, еще чуть-чуть и ...      1   \n",
              "50167   @lynx_per_se Меня так бесят ребята с потока :(...      0   \n",
              "98508   я вам искренне сочувствую.. и вас мадам климак...      1   \n",
              "240     Первый экзамен 10 января)а последний 23)удачно...      1   \n",
              "56962   RT @skemhey: Всегда хотел создать анонимный бл...      0   \n",
              "\n",
              "                                                    words  \\\n",
              "49157     [она, повалить, доска, равно, смочь, переехать]   \n",
              "90340   [любить, такой, момент, момент, фэндом, объеди...   \n",
              "110682  [на, выезд, детиулица, тверская, область, рабо...   \n",
              "59725                         [торганула, канешный, мочь]   \n",
              "82191    [пока, рискнуть, узнавать, правильно, поступать]   \n",
              "...                                                   ...   \n",
              "54844                         [понятно, ну, гонять, быть]   \n",
              "50167   [я, бесить, ребята, поток, просто, кошмар, так...   \n",
              "98508   [искренне, сочувствовать, мадам, климакс, дост...   \n",
              "240     [первый, экзамен, январь, последний, удачно, ура]   \n",
              "56962   [всегда, хотеть, создать, анонимный, блог, пис...   \n",
              "\n",
              "                                                      POS  words_number  \\\n",
              "49157                [NPRO, INFN, NOUN, CONJ, INFN, INFN]             6   \n",
              "90340   [INFN, ADJF, NOUN, NOUN, NOUN, INFN, NPRO, ADJ...             9   \n",
              "110682  [PREP, NOUN, NOUN, NOUN, NOUN, NOUN, NOUN, NOU...             9   \n",
              "59725                                  [NOUN, ADJF, NOUN]             3   \n",
              "82191                      [ADVB, INFN, INFN, ADVB, INFN]             5   \n",
              "...                                                   ...           ...   \n",
              "54844                            [ADVB, PRCL, INFN, INFN]             4   \n",
              "50167   [NPRO, INFN, NOUN, NOUN, PRCL, NOUN, ADJF, NOU...            11   \n",
              "98508    [ADVB, INFN, NOUN, NOUN, INFN, INFN, INFN, PRCL]             8   \n",
              "240                  [ADJF, NOUN, NOUN, ADJF, ADVB, INTJ]             6   \n",
              "56962   [ADVB, INFN, INFN, ADJF, NOUN, INFN, ADJF, ADJ...            11   \n",
              "\n",
              "        nouns_number  adjectives_number  verb_number  numeric_number  \\\n",
              "49157              1                  0            3               0   \n",
              "90340              3                  2            2               0   \n",
              "110682             8                  0            0               0   \n",
              "59725              2                  1            0               0   \n",
              "82191              0                  0            3               0   \n",
              "...              ...                ...          ...             ...   \n",
              "54844              0                  0            2               0   \n",
              "50167              6                  1            2               0   \n",
              "98508              2                  0            4               0   \n",
              "240                2                  2            0               0   \n",
              "56962              1                  3            4               0   \n",
              "\n",
              "        adverb_number  pronoun_number  preposition_number  conjunction_number  \\\n",
              "49157               0               1                   0                   1   \n",
              "90340               0               1                   0                   0   \n",
              "110682              0               0                   1                   0   \n",
              "59725               0               0                   0                   0   \n",
              "82191               2               0                   0                   0   \n",
              "...               ...             ...                 ...                 ...   \n",
              "54844               1               0                   0                   0   \n",
              "50167               0               1                   0                   0   \n",
              "98508               1               0                   0                   0   \n",
              "240                 1               0                   0                   0   \n",
              "56962               1               1                   0                   0   \n",
              "\n",
              "        particles_number  interjection_number  \n",
              "49157                  0                    0  \n",
              "90340                  0                    0  \n",
              "110682                 0                    0  \n",
              "59725                  0                    0  \n",
              "82191                  0                    0  \n",
              "...                  ...                  ...  \n",
              "54844                  1                    0  \n",
              "50167                  1                    0  \n",
              "98508                  1                    0  \n",
              "240                    0                    1  \n",
              "56962                  0                    0  \n",
              "\n",
              "[214199 rows x 15 columns]"
            ],
            "text/html": [
              "\n",
              "  <div id=\"df-6bb4354a-e6b6-46cb-8f45-f5fe59cd29f8\">\n",
              "    <div class=\"colab-df-container\">\n",
              "      <div>\n",
              "<style scoped>\n",
              "    .dataframe tbody tr th:only-of-type {\n",
              "        vertical-align: middle;\n",
              "    }\n",
              "\n",
              "    .dataframe tbody tr th {\n",
              "        vertical-align: top;\n",
              "    }\n",
              "\n",
              "    .dataframe thead th {\n",
              "        text-align: right;\n",
              "    }\n",
              "</style>\n",
              "<table border=\"1\" class=\"dataframe\">\n",
              "  <thead>\n",
              "    <tr style=\"text-align: right;\">\n",
              "      <th></th>\n",
              "      <th>ttext</th>\n",
              "      <th>ttype</th>\n",
              "      <th>words</th>\n",
              "      <th>POS</th>\n",
              "      <th>words_number</th>\n",
              "      <th>nouns_number</th>\n",
              "      <th>adjectives_number</th>\n",
              "      <th>verb_number</th>\n",
              "      <th>numeric_number</th>\n",
              "      <th>adverb_number</th>\n",
              "      <th>pronoun_number</th>\n",
              "      <th>preposition_number</th>\n",
              "      <th>conjunction_number</th>\n",
              "      <th>particles_number</th>\n",
              "      <th>interjection_number</th>\n",
              "    </tr>\n",
              "  </thead>\n",
              "  <tbody>\n",
              "    <tr>\n",
              "      <th>49157</th>\n",
              "      <td>Она повалила доску, но все-равно не сможет пер...</td>\n",
              "      <td>1</td>\n",
              "      <td>[она, повалить, доска, равно, смочь, переехать]</td>\n",
              "      <td>[NPRO, INFN, NOUN, CONJ, INFN, INFN]</td>\n",
              "      <td>6</td>\n",
              "      <td>1</td>\n",
              "      <td>0</td>\n",
              "      <td>3</td>\n",
              "      <td>0</td>\n",
              "      <td>0</td>\n",
              "      <td>1</td>\n",
              "      <td>0</td>\n",
              "      <td>1</td>\n",
              "      <td>0</td>\n",
              "      <td>0</td>\n",
              "    </tr>\n",
              "    <tr>\n",
              "      <th>90340</th>\n",
              "      <td>RT @_Do_or_Die__: Люблю такие моменты\\nМоменты...</td>\n",
              "      <td>0</td>\n",
              "      <td>[любить, такой, момент, момент, фэндом, объеди...</td>\n",
              "      <td>[INFN, ADJF, NOUN, NOUN, NOUN, INFN, NPRO, ADJ...</td>\n",
              "      <td>9</td>\n",
              "      <td>3</td>\n",
              "      <td>2</td>\n",
              "      <td>2</td>\n",
              "      <td>0</td>\n",
              "      <td>0</td>\n",
              "      <td>1</td>\n",
              "      <td>0</td>\n",
              "      <td>0</td>\n",
              "      <td>0</td>\n",
              "      <td>0</td>\n",
              "    </tr>\n",
              "    <tr>\n",
              "      <th>110682</th>\n",
              "      <td>RT @Krylova_Ek: На выезд #детиулиц в Тверскую ...</td>\n",
              "      <td>1</td>\n",
              "      <td>[на, выезд, детиулица, тверская, область, рабо...</td>\n",
              "      <td>[PREP, NOUN, NOUN, NOUN, NOUN, NOUN, NOUN, NOU...</td>\n",
              "      <td>9</td>\n",
              "      <td>8</td>\n",
              "      <td>0</td>\n",
              "      <td>0</td>\n",
              "      <td>0</td>\n",
              "      <td>0</td>\n",
              "      <td>0</td>\n",
              "      <td>1</td>\n",
              "      <td>0</td>\n",
              "      <td>0</td>\n",
              "      <td>0</td>\n",
              "    </tr>\n",
              "    <tr>\n",
              "      <th>59725</th>\n",
              "      <td>@Uprav_Dom @rianru не ну торганул канешна))) б...</td>\n",
              "      <td>1</td>\n",
              "      <td>[торганула, канешный, мочь]</td>\n",
              "      <td>[NOUN, ADJF, NOUN]</td>\n",
              "      <td>3</td>\n",
              "      <td>2</td>\n",
              "      <td>1</td>\n",
              "      <td>0</td>\n",
              "      <td>0</td>\n",
              "      <td>0</td>\n",
              "      <td>0</td>\n",
              "      <td>0</td>\n",
              "      <td>0</td>\n",
              "      <td>0</td>\n",
              "      <td>0</td>\n",
              "    </tr>\n",
              "    <tr>\n",
              "      <th>82191</th>\n",
              "      <td>Пока не рискну, не узнаю правильно ли я поступ...</td>\n",
              "      <td>0</td>\n",
              "      <td>[пока, рискнуть, узнавать, правильно, поступать]</td>\n",
              "      <td>[ADVB, INFN, INFN, ADVB, INFN]</td>\n",
              "      <td>5</td>\n",
              "      <td>0</td>\n",
              "      <td>0</td>\n",
              "      <td>3</td>\n",
              "      <td>0</td>\n",
              "      <td>2</td>\n",
              "      <td>0</td>\n",
              "      <td>0</td>\n",
              "      <td>0</td>\n",
              "      <td>0</td>\n",
              "      <td>0</td>\n",
              "    </tr>\n",
              "    <tr>\n",
              "      <th>...</th>\n",
              "      <td>...</td>\n",
              "      <td>...</td>\n",
              "      <td>...</td>\n",
              "      <td>...</td>\n",
              "      <td>...</td>\n",
              "      <td>...</td>\n",
              "      <td>...</td>\n",
              "      <td>...</td>\n",
              "      <td>...</td>\n",
              "      <td>...</td>\n",
              "      <td>...</td>\n",
              "      <td>...</td>\n",
              "      <td>...</td>\n",
              "      <td>...</td>\n",
              "      <td>...</td>\n",
              "    </tr>\n",
              "    <tr>\n",
              "      <th>54844</th>\n",
              "      <td>@airat006 Понятно) Ну ничего, еще чуть-чуть и ...</td>\n",
              "      <td>1</td>\n",
              "      <td>[понятно, ну, гонять, быть]</td>\n",
              "      <td>[ADVB, PRCL, INFN, INFN]</td>\n",
              "      <td>4</td>\n",
              "      <td>0</td>\n",
              "      <td>0</td>\n",
              "      <td>2</td>\n",
              "      <td>0</td>\n",
              "      <td>1</td>\n",
              "      <td>0</td>\n",
              "      <td>0</td>\n",
              "      <td>0</td>\n",
              "      <td>1</td>\n",
              "      <td>0</td>\n",
              "    </tr>\n",
              "    <tr>\n",
              "      <th>50167</th>\n",
              "      <td>@lynx_per_se Меня так бесят ребята с потока :(...</td>\n",
              "      <td>0</td>\n",
              "      <td>[я, бесить, ребята, поток, просто, кошмар, так...</td>\n",
              "      <td>[NPRO, INFN, NOUN, NOUN, PRCL, NOUN, ADJF, NOU...</td>\n",
              "      <td>11</td>\n",
              "      <td>6</td>\n",
              "      <td>1</td>\n",
              "      <td>2</td>\n",
              "      <td>0</td>\n",
              "      <td>0</td>\n",
              "      <td>1</td>\n",
              "      <td>0</td>\n",
              "      <td>0</td>\n",
              "      <td>1</td>\n",
              "      <td>0</td>\n",
              "    </tr>\n",
              "    <tr>\n",
              "      <th>98508</th>\n",
              "      <td>я вам искренне сочувствую.. и вас мадам климак...</td>\n",
              "      <td>1</td>\n",
              "      <td>[искренне, сочувствовать, мадам, климакс, дост...</td>\n",
              "      <td>[ADVB, INFN, NOUN, NOUN, INFN, INFN, INFN, PRCL]</td>\n",
              "      <td>8</td>\n",
              "      <td>2</td>\n",
              "      <td>0</td>\n",
              "      <td>4</td>\n",
              "      <td>0</td>\n",
              "      <td>1</td>\n",
              "      <td>0</td>\n",
              "      <td>0</td>\n",
              "      <td>0</td>\n",
              "      <td>1</td>\n",
              "      <td>0</td>\n",
              "    </tr>\n",
              "    <tr>\n",
              "      <th>240</th>\n",
              "      <td>Первый экзамен 10 января)а последний 23)удачно...</td>\n",
              "      <td>1</td>\n",
              "      <td>[первый, экзамен, январь, последний, удачно, ура]</td>\n",
              "      <td>[ADJF, NOUN, NOUN, ADJF, ADVB, INTJ]</td>\n",
              "      <td>6</td>\n",
              "      <td>2</td>\n",
              "      <td>2</td>\n",
              "      <td>0</td>\n",
              "      <td>0</td>\n",
              "      <td>1</td>\n",
              "      <td>0</td>\n",
              "      <td>0</td>\n",
              "      <td>0</td>\n",
              "      <td>0</td>\n",
              "      <td>1</td>\n",
              "    </tr>\n",
              "    <tr>\n",
              "      <th>56962</th>\n",
              "      <td>RT @skemhey: Всегда хотел создать анонимный бл...</td>\n",
              "      <td>0</td>\n",
              "      <td>[всегда, хотеть, создать, анонимный, блог, пис...</td>\n",
              "      <td>[ADVB, INFN, INFN, ADJF, NOUN, INFN, ADJF, ADJ...</td>\n",
              "      <td>11</td>\n",
              "      <td>1</td>\n",
              "      <td>3</td>\n",
              "      <td>4</td>\n",
              "      <td>0</td>\n",
              "      <td>1</td>\n",
              "      <td>1</td>\n",
              "      <td>0</td>\n",
              "      <td>0</td>\n",
              "      <td>0</td>\n",
              "      <td>0</td>\n",
              "    </tr>\n",
              "  </tbody>\n",
              "</table>\n",
              "<p>214199 rows × 15 columns</p>\n",
              "</div>\n",
              "      <button class=\"colab-df-convert\" onclick=\"convertToInteractive('df-6bb4354a-e6b6-46cb-8f45-f5fe59cd29f8')\"\n",
              "              title=\"Convert this dataframe to an interactive table.\"\n",
              "              style=\"display:none;\">\n",
              "        \n",
              "  <svg xmlns=\"http://www.w3.org/2000/svg\" height=\"24px\"viewBox=\"0 0 24 24\"\n",
              "       width=\"24px\">\n",
              "    <path d=\"M0 0h24v24H0V0z\" fill=\"none\"/>\n",
              "    <path d=\"M18.56 5.44l.94 2.06.94-2.06 2.06-.94-2.06-.94-.94-2.06-.94 2.06-2.06.94zm-11 1L8.5 8.5l.94-2.06 2.06-.94-2.06-.94L8.5 2.5l-.94 2.06-2.06.94zm10 10l.94 2.06.94-2.06 2.06-.94-2.06-.94-.94-2.06-.94 2.06-2.06.94z\"/><path d=\"M17.41 7.96l-1.37-1.37c-.4-.4-.92-.59-1.43-.59-.52 0-1.04.2-1.43.59L10.3 9.45l-7.72 7.72c-.78.78-.78 2.05 0 2.83L4 21.41c.39.39.9.59 1.41.59.51 0 1.02-.2 1.41-.59l7.78-7.78 2.81-2.81c.8-.78.8-2.07 0-2.86zM5.41 20L4 18.59l7.72-7.72 1.47 1.35L5.41 20z\"/>\n",
              "  </svg>\n",
              "      </button>\n",
              "      \n",
              "  <style>\n",
              "    .colab-df-container {\n",
              "      display:flex;\n",
              "      flex-wrap:wrap;\n",
              "      gap: 12px;\n",
              "    }\n",
              "\n",
              "    .colab-df-convert {\n",
              "      background-color: #E8F0FE;\n",
              "      border: none;\n",
              "      border-radius: 50%;\n",
              "      cursor: pointer;\n",
              "      display: none;\n",
              "      fill: #1967D2;\n",
              "      height: 32px;\n",
              "      padding: 0 0 0 0;\n",
              "      width: 32px;\n",
              "    }\n",
              "\n",
              "    .colab-df-convert:hover {\n",
              "      background-color: #E2EBFA;\n",
              "      box-shadow: 0px 1px 2px rgba(60, 64, 67, 0.3), 0px 1px 3px 1px rgba(60, 64, 67, 0.15);\n",
              "      fill: #174EA6;\n",
              "    }\n",
              "\n",
              "    [theme=dark] .colab-df-convert {\n",
              "      background-color: #3B4455;\n",
              "      fill: #D2E3FC;\n",
              "    }\n",
              "\n",
              "    [theme=dark] .colab-df-convert:hover {\n",
              "      background-color: #434B5C;\n",
              "      box-shadow: 0px 1px 3px 1px rgba(0, 0, 0, 0.15);\n",
              "      filter: drop-shadow(0px 1px 2px rgba(0, 0, 0, 0.3));\n",
              "      fill: #FFFFFF;\n",
              "    }\n",
              "  </style>\n",
              "\n",
              "      <script>\n",
              "        const buttonEl =\n",
              "          document.querySelector('#df-6bb4354a-e6b6-46cb-8f45-f5fe59cd29f8 button.colab-df-convert');\n",
              "        buttonEl.style.display =\n",
              "          google.colab.kernel.accessAllowed ? 'block' : 'none';\n",
              "\n",
              "        async function convertToInteractive(key) {\n",
              "          const element = document.querySelector('#df-6bb4354a-e6b6-46cb-8f45-f5fe59cd29f8');\n",
              "          const dataTable =\n",
              "            await google.colab.kernel.invokeFunction('convertToInteractive',\n",
              "                                                     [key], {});\n",
              "          if (!dataTable) return;\n",
              "\n",
              "          const docLinkHtml = 'Like what you see? Visit the ' +\n",
              "            '<a target=\"_blank\" href=https://colab.research.google.com/notebooks/data_table.ipynb>data table notebook</a>'\n",
              "            + ' to learn more about interactive tables.';\n",
              "          element.innerHTML = '';\n",
              "          dataTable['output_type'] = 'display_data';\n",
              "          await google.colab.output.renderOutput(dataTable, element);\n",
              "          const docLink = document.createElement('div');\n",
              "          docLink.innerHTML = docLinkHtml;\n",
              "          element.appendChild(docLink);\n",
              "        }\n",
              "      </script>\n",
              "    </div>\n",
              "  </div>\n",
              "  "
            ]
          },
          "metadata": {},
          "execution_count": 26
        }
      ]
    },
    {
      "cell_type": "markdown",
      "source": [
        "Our task now is to implement binary classification<br>\n",
        "For our analysis we chose the most common classification algorithms\n",
        "\n",
        "*   Support Vector Machines\n",
        "*   Naive Bayes\n",
        "*   Nearest Neighbor\n",
        "*   Decision Trees\n",
        "*   Logistic Regression"
      ],
      "metadata": {
        "id": "sRrTQDtPCp02"
      }
    },
    {
      "cell_type": "markdown",
      "source": [
        "First of all, we need to select columns we'll use as predictors and label"
      ],
      "metadata": {
        "id": "jqIalLmu-50i"
      }
    },
    {
      "cell_type": "code",
      "source": [
        "X = worddata[['nouns_number', 'adjectives_number', 'verb_number', \n",
        "              'numeric_number', 'adverb_number', 'pronoun_number', \n",
        "              'preposition_number', 'conjunction_number', 'particles_number',\n",
        "              'interjection_number']]\n",
        "Y = worddata['ttype']"
      ],
      "metadata": {
        "id": "za5ZlRiLEKew"
      },
      "execution_count": null,
      "outputs": []
    },
    {
      "cell_type": "markdown",
      "source": [
        "Then split the data"
      ],
      "metadata": {
        "id": "XODztThn_AS1"
      }
    },
    {
      "cell_type": "code",
      "source": [
        "from sklearn.model_selection import train_test_split\n",
        "\n",
        "X_train, X_test, y_train, y_test = train_test_split(X, Y , test_size=0.25, random_state=42)"
      ],
      "metadata": {
        "id": "dWNiC-5FFEFj"
      },
      "execution_count": null,
      "outputs": []
    },
    {
      "cell_type": "markdown",
      "source": [
        "And we also use StandardScaler because we need features to look like standard normally distributed data or at least close to that"
      ],
      "metadata": {
        "id": "tI_qzKRB_GMc"
      }
    },
    {
      "cell_type": "code",
      "source": [
        "from sklearn.preprocessing import StandardScaler\n",
        "\n",
        "scaler = StandardScaler()\n",
        "X_train = scaler.fit_transform(X_train)\n",
        "\n",
        "scaler = StandardScaler()\n",
        "X_test = scaler.fit_transform(X_test)"
      ],
      "metadata": {
        "id": "W9XAzUK0FJp5"
      },
      "execution_count": null,
      "outputs": []
    },
    {
      "cell_type": "markdown",
      "source": [
        "We import the Support Vector Classifier and train it"
      ],
      "metadata": {
        "id": "T3P97xs1_dsf"
      }
    },
    {
      "cell_type": "code",
      "source": [
        "from sklearn import svm\n",
        "svc_clf= svm.SVC()\n",
        "svc_clf.fit(X, Y)"
      ],
      "metadata": {
        "colab": {
          "base_uri": "https://localhost:8080/"
        },
        "id": "z6tfzDnTDxpB",
        "outputId": "0e23f8df-b585-4622-faec-e93eb6b1e87e"
      },
      "execution_count": null,
      "outputs": [
        {
          "output_type": "execute_result",
          "data": {
            "text/plain": [
              "SVC()"
            ]
          },
          "metadata": {},
          "execution_count": 30
        }
      ]
    },
    {
      "cell_type": "markdown",
      "source": [
        "As our main comparison metrics we chose to check the accuracy and also provide confusion matrix for it to be more human-readable, thus we have"
      ],
      "metadata": {
        "id": "ed7D899O_mLn"
      }
    },
    {
      "cell_type": "code",
      "source": [
        "#@title Support Vector Classifier\n",
        "y_pred = svc_clf.predict(X_test)\n",
        "from sklearn.metrics import confusion_matrix, ConfusionMatrixDisplay\n",
        "\n",
        "cm = confusion_matrix(y_test, y_pred)\n",
        "\n",
        "TN, FP, FN, TP = confusion_matrix(y_test, y_pred).ravel()\n",
        "\n",
        "print('True Positive(TP)  = ', TP)\n",
        "print('False Positive(FP) = ', FP)\n",
        "print('True Negative(TN)  = ', TN)\n",
        "print('False Negative(FN) = ', FN)\n",
        "\n",
        "accuracy =  (TP + TN) / (TP + FP + TN + FN)\n",
        "\n",
        "print('Accuracy of the binary classifier = {:0.3f}'.format(accuracy))\n",
        "\n",
        "conma = confusion_matrix(y_test, y_pred, labels=svc_clf.classes_)\n",
        "cmplot = ConfusionMatrixDisplay(confusion_matrix=conma,\n",
        "                              display_labels=svc_clf.classes_)\n",
        "cmplot.plot()"
      ],
      "metadata": {
        "colab": {
          "base_uri": "https://localhost:8080/",
          "height": 422
        },
        "id": "pqF2Q0iXFndg",
        "outputId": "bd1b746d-594c-45e7-a57d-501c5e4cad75",
        "cellView": "form"
      },
      "execution_count": null,
      "outputs": [
        {
          "output_type": "stream",
          "name": "stderr",
          "text": [
            "/usr/local/lib/python3.8/dist-packages/sklearn/base.py:450: UserWarning: X does not have valid feature names, but SVC was fitted with feature names\n",
            "  warnings.warn(\n"
          ]
        },
        {
          "output_type": "stream",
          "name": "stdout",
          "text": [
            "True Positive(TP)  =  13129\n",
            "False Positive(FP) =  10525\n",
            "True Negative(TN)  =  15657\n",
            "False Negative(FN) =  14239\n",
            "Accuracy of the binary classifier = 0.538\n"
          ]
        },
        {
          "output_type": "execute_result",
          "data": {
            "text/plain": [
              "<sklearn.metrics._plot.confusion_matrix.ConfusionMatrixDisplay at 0x7f74e1002220>"
            ]
          },
          "metadata": {},
          "execution_count": 31
        },
        {
          "output_type": "display_data",
          "data": {
            "text/plain": [
              "<Figure size 432x288 with 2 Axes>"
            ],
            "image/png": "[encoded data removed]"
          },
          "metadata": {
            "needs_background": "light"
          }
        }
      ]
    },
    {
      "cell_type": "code",
      "source": [
        "#@title Naive Bayes Classifier\n",
        "from sklearn.naive_bayes import GaussianNB\n",
        "\n",
        "NB = GaussianNB().fit(X_train, y_train)\n",
        "\n",
        "nb_pred = NB.predict(X_test)\n",
        "\n",
        "cm = confusion_matrix(y_test, nb_pred)\n",
        "\n",
        "TN, FP, FN, TP = confusion_matrix(y_test, nb_pred).ravel()\n",
        "\n",
        "print('True Positive(TP)  = ', TP)\n",
        "print('False Positive(FP) = ', FP)\n",
        "print('True Negative(TN)  = ', TN)\n",
        "print('False Negative(FN) = ', FN)\n",
        "\n",
        "accuracy =  (TP + TN) / (TP + FP + TN + FN)\n",
        "\n",
        "print('Accuracy of the binary classifier = {:0.3f}'.format(accuracy))\n",
        "\n",
        "Gaussianmatrix = confusion_matrix(y_test, nb_pred, labels=NB.classes_)\n",
        "cmplot = ConfusionMatrixDisplay(confusion_matrix=Gaussianmatrix,\n",
        "                              display_labels=NB.classes_)\n",
        "cmplot.plot()"
      ],
      "metadata": {
        "colab": {
          "base_uri": "https://localhost:8080/",
          "height": 386
        },
        "id": "zFeelsYxYQp5",
        "outputId": "f229ebc8-608d-447b-e216-d0ce57be75ce",
        "cellView": "form"
      },
      "execution_count": null,
      "outputs": [
        {
          "output_type": "stream",
          "name": "stdout",
          "text": [
            "True Positive(TP)  =  16097\n",
            "False Positive(FP) =  13059\n",
            "True Negative(TN)  =  13123\n",
            "False Negative(FN) =  11271\n",
            "Accuracy of the binary classifier = 0.546\n"
          ]
        },
        {
          "output_type": "execute_result",
          "data": {
            "text/plain": [
              "<sklearn.metrics._plot.confusion_matrix.ConfusionMatrixDisplay at 0x7f74e116ddc0>"
            ]
          },
          "metadata": {},
          "execution_count": 32
        },
        {
          "output_type": "display_data",
          "data": {
            "text/plain": [
              "<Figure size 432x288 with 2 Axes>"
            ],
            "image/png": "[encoded data removed]"
          },
          "metadata": {
            "needs_background": "light"
          }
        }
      ]
    },
    {
      "cell_type": "code",
      "source": [
        "#@title K-nearest Neighbors Classifier\n",
        "from sklearn.neighbors import KNeighborsClassifier\n",
        "\n",
        "k_neigh = KNeighborsClassifier(n_neighbors=3).fit(X_train, y_train)\n",
        "\n",
        "k_neigh_pred = k_neigh.predict(X_test)\n",
        "\n",
        "cm = confusion_matrix(y_test, k_neigh_pred)\n",
        "\n",
        "TN, FP, FN, TP = confusion_matrix(y_test, k_neigh_pred).ravel()\n",
        "\n",
        "print('True Positive(TP)  = ', TP)\n",
        "print('False Positive(FP) = ', FP)\n",
        "print('True Negative(TN)  = ', TN)\n",
        "print('False Negative(FN) = ', FN)\n",
        "\n",
        "accuracy =  (TP + TN) / (TP + FP + TN + FN)\n",
        "\n",
        "print('Accuracy of the binary classifier = {:0.3f}'.format(accuracy))\n",
        "\n",
        "kmatr = confusion_matrix(y_test, k_neigh_pred, labels=k_neigh.classes_)\n",
        "cmplot = ConfusionMatrixDisplay(confusion_matrix=kmatr,\n",
        "                              display_labels=k_neigh.classes_)\n",
        "cmplot.plot()"
      ],
      "metadata": {
        "colab": {
          "base_uri": "https://localhost:8080/",
          "height": 386
        },
        "id": "CZpQhILcZoiz",
        "outputId": "4e84af61-7883-49bd-fde1-ec3d4144aff0",
        "cellView": "form"
      },
      "execution_count": null,
      "outputs": [
        {
          "output_type": "stream",
          "name": "stdout",
          "text": [
            "True Positive(TP)  =  14984\n",
            "False Positive(FP) =  13104\n",
            "True Negative(TN)  =  13078\n",
            "False Negative(FN) =  12384\n",
            "Accuracy of the binary classifier = 0.524\n"
          ]
        },
        {
          "output_type": "execute_result",
          "data": {
            "text/plain": [
              "<sklearn.metrics._plot.confusion_matrix.ConfusionMatrixDisplay at 0x7f74e0a7adc0>"
            ]
          },
          "metadata": {},
          "execution_count": 33
        },
        {
          "output_type": "display_data",
          "data": {
            "text/plain": [
              "<Figure size 432x288 with 2 Axes>"
            ],
            "image/png": "[encoded data removed]"
          },
          "metadata": {
            "needs_background": "light"
          }
        }
      ]
    },
    {
      "cell_type": "code",
      "source": [
        "#@title Decision Tree Classifier\n",
        "from sklearn.tree import DecisionTreeClassifier\n",
        "\n",
        "treeclf = DecisionTreeClassifier().fit(X_train, y_train)\n",
        "\n",
        "treeclf_pred = treeclf.predict(X_test)\n",
        "\n",
        "cm = confusion_matrix(y_test, treeclf_pred)\n",
        "\n",
        "TN, FP, FN, TP = confusion_matrix(y_test, treeclf_pred).ravel()\n",
        "\n",
        "print('True Positive(TP)  = ', TP)\n",
        "print('False Positive(FP) = ', FP)\n",
        "print('True Negative(TN)  = ', TN)\n",
        "print('False Negative(FN) = ', FN)\n",
        "\n",
        "accuracy =  (TP + TN) / (TP + FP + TN + FN)\n",
        "\n",
        "print('Accuracy of the binary classifier = {:0.3f}'.format(accuracy))\n",
        "\n",
        "tree_matr = confusion_matrix(y_test, treeclf_pred, labels=treeclf.classes_)\n",
        "cmplot = ConfusionMatrixDisplay(confusion_matrix=tree_matr,\n",
        "                              display_labels=treeclf.classes_)\n",
        "cmplot.plot()"
      ],
      "metadata": {
        "colab": {
          "base_uri": "https://localhost:8080/",
          "height": 386
        },
        "id": "tHv685B_al_n",
        "outputId": "0088a3cf-879d-4921-f5a4-34b05259bda0",
        "cellView": "form"
      },
      "execution_count": null,
      "outputs": [
        {
          "output_type": "stream",
          "name": "stdout",
          "text": [
            "True Positive(TP)  =  13965\n",
            "False Positive(FP) =  10695\n",
            "True Negative(TN)  =  15487\n",
            "False Negative(FN) =  13403\n",
            "Accuracy of the binary classifier = 0.550\n"
          ]
        },
        {
          "output_type": "execute_result",
          "data": {
            "text/plain": [
              "<sklearn.metrics._plot.confusion_matrix.ConfusionMatrixDisplay at 0x7f74e0c11b50>"
            ]
          },
          "metadata": {},
          "execution_count": 34
        },
        {
          "output_type": "display_data",
          "data": {
            "text/plain": [
              "<Figure size 432x288 with 2 Axes>"
            ],
            "image/png": "[encoded data removed]"
          },
          "metadata": {
            "needs_background": "light"
          }
        }
      ]
    },
    {
      "cell_type": "code",
      "source": [
        "#@title and Logistic Regression Classifier\n",
        "from sklearn.linear_model import LogisticRegression\n",
        "\n",
        "lgreg = LogisticRegression(verbose=True).fit(X_train, y_train)\n",
        "\n",
        "lgreg_pred = lgreg.predict(X_test)\n",
        "\n",
        "cm = confusion_matrix(y_test, lgreg_pred)\n",
        "\n",
        "TN, FP, FN, TP = confusion_matrix(y_test, lgreg_pred).ravel()\n",
        "\n",
        "print('True Positive(TP)  = ', TP)\n",
        "print('False Positive(FP) = ', FP)\n",
        "print('True Negative(TN)  = ', TN)\n",
        "print('False Negative(FN) = ', FN)\n",
        "\n",
        "accuracy =  (TP + TN) / (TP + FP + TN + FN)\n",
        "\n",
        "print('Accuracy of the binary classifier = {:0.3f}'.format(accuracy))\n",
        "\n",
        "regmat = confusion_matrix(y_test, lgreg_pred, labels=lgreg.classes_)\n",
        "cmplot = ConfusionMatrixDisplay(confusion_matrix=regmat,\n",
        "                              display_labels=lgreg.classes_)\n",
        "cmplot.plot()"
      ],
      "metadata": {
        "colab": {
          "base_uri": "https://localhost:8080/",
          "height": 422
        },
        "id": "6F_6je2x15Lo",
        "outputId": "0ca53ab1-28a3-41aa-f89c-4f6af71d56b4",
        "cellView": "form"
      },
      "execution_count": null,
      "outputs": [
        {
          "output_type": "stream",
          "name": "stderr",
          "text": [
            "[Parallel(n_jobs=1)]: Using backend SequentialBackend with 1 concurrent workers.\n",
            "[Parallel(n_jobs=1)]: Done   1 out of   1 | elapsed:    0.2s finished\n"
          ]
        },
        {
          "output_type": "stream",
          "name": "stdout",
          "text": [
            "True Positive(TP)  =  16386\n",
            "False Positive(FP) =  13073\n",
            "True Negative(TN)  =  13109\n",
            "False Negative(FN) =  10982\n",
            "Accuracy of the binary classifier = 0.551\n"
          ]
        },
        {
          "output_type": "execute_result",
          "data": {
            "text/plain": [
              "<sklearn.metrics._plot.confusion_matrix.ConfusionMatrixDisplay at 0x7f74e0c8afa0>"
            ]
          },
          "metadata": {},
          "execution_count": 35
        },
        {
          "output_type": "display_data",
          "data": {
            "text/plain": [
              "<Figure size 432x288 with 2 Axes>"
            ],
            "image/png": "[encoded data removed]"
          },
          "metadata": {
            "needs_background": "light"
          }
        }
      ]
    },
    {
      "cell_type": "markdown",
      "source": [
        "As we can see in the cells outputs above, our algorithms have accuracy close to 50%. In binary classification task we can say that our classifiers are merely \"Guessing\" the right answer 50% of the time.<br>\n",
        "Thus, we conclude that we can't solve sentiment analysis task based on purely morphological structure<br>\n",
        "Our next step is to check if social data will be better in this task"
      ],
      "metadata": {
        "id": "FNHQIo01A1u3"
      }
    },
    {
      "cell_type": "markdown",
      "source": [
        "##Classifiers based on social data"
      ],
      "metadata": {
        "id": "SyIGWfcrb5nB"
      }
    },
    {
      "cell_type": "markdown",
      "source": [
        "First of all, we should make clear what social data is<br>\n",
        "This is the part of given dataset we didn't use before, columns being:<br>\n",
        "– trep: number of replies (at the moment Twitter API doesn't give this data);<br>\n",
        "– tfav: number of post being marked as favorite;<br>\n",
        "– tstcount: number of all messages by user;<br>\n",
        "– tfol: number of followers;<br>\n",
        "– tfrien: number of friends;<br>\n",
        "– listcount: number of follows."
      ],
      "metadata": {
        "id": "9QIsEZPwBkKL"
      }
    },
    {
      "cell_type": "code",
      "source": [
        "#@title these imports aren't neccesary, we just had them to restart without training models from Part I\n",
        "from sklearn.model_selection import train_test_split\n",
        "from sklearn.preprocessing import StandardScaler\n",
        "from sklearn import svm\n",
        "from sklearn.metrics import confusion_matrix, ConfusionMatrixDisplay\n",
        "from sklearn.naive_bayes import GaussianNB\n",
        "from sklearn.neighbors import KNeighborsClassifier\n",
        "from sklearn.tree import DecisionTreeClassifier\n",
        "from sklearn.linear_model import LogisticRegression\n",
        "\n",
        "\n",
        "df = df.dropna()\n",
        "df.loc[(df.ttype == -1), ('ttype')] = 0\n",
        "X = df[['tfav', 'tstcount', 'tfol', 'tfrien', 'listcount']]\n",
        "Y = df['ttype']\n",
        "\n",
        "X_train, X_test, y_train, y_test = train_test_split(X, Y , test_size=0.25, random_state=42)\n",
        "\n",
        "scaler = StandardScaler()\n",
        "X_train = scaler.fit_transform(X_train)\n",
        "\n",
        "scaler = StandardScaler()\n",
        "X_test = scaler.fit_transform(X_test)"
      ],
      "metadata": {
        "id": "SSmET2VNwmFZ",
        "cellView": "form"
      },
      "execution_count": null,
      "outputs": []
    },
    {
      "cell_type": "code",
      "source": [
        "#@title Support Vector Classifier based on social data\n",
        "social_svc = svm.SVC()\n",
        "social_svc.fit(X, Y)\n",
        "\n",
        "y_pred = social_svc.predict(X_test)\n",
        "\n",
        "cm = confusion_matrix(y_test, y_pred)\n",
        "\n",
        "TN, FP, FN, TP = confusion_matrix(y_test, y_pred).ravel()\n",
        "\n",
        "print('True Positive(TP)  = ', TP)\n",
        "print('False Positive(FP) = ', FP)\n",
        "print('True Negative(TN)  = ', TN)\n",
        "print('False Negative(FN) = ', FN)\n",
        "\n",
        "accuracy =  (TP + TN) / (TP + FP + TN + FN)\n",
        "\n",
        "print('Accuracy of the binary classifier = {:0.3f}'.format(accuracy))\n",
        "\n",
        "confma = confusion_matrix(y_test, y_pred, labels=social_svc.classes_)\n",
        "cmplot = ConfusionMatrixDisplay(confusion_matrix=confma,\n",
        "                              display_labels=social_svc.classes_)\n",
        "cmplot.plot()"
      ],
      "metadata": {
        "colab": {
          "base_uri": "https://localhost:8080/",
          "height": 422
        },
        "id": "-UNpIAAcvq3F",
        "outputId": "2ac1185b-fe81-42fd-9ee9-1d3fe0ee9a78",
        "cellView": "form"
      },
      "execution_count": null,
      "outputs": [
        {
          "output_type": "stream",
          "name": "stderr",
          "text": [
            "/usr/local/lib/python3.8/dist-packages/sklearn/base.py:450: UserWarning: X does not have valid feature names, but SVC was fitted with feature names\n",
            "  warnings.warn(\n"
          ]
        },
        {
          "output_type": "stream",
          "name": "stdout",
          "text": [
            "True Positive(TP)  =  0\n",
            "False Positive(FP) =  0\n",
            "True Negative(TN)  =  28108\n",
            "False Negative(FN) =  28601\n",
            "Accuracy of the binary classifier = 0.496\n"
          ]
        },
        {
          "output_type": "execute_result",
          "data": {
            "text/plain": [
              "<sklearn.metrics._plot.confusion_matrix.ConfusionMatrixDisplay at 0x7f74e074c9d0>"
            ]
          },
          "metadata": {},
          "execution_count": 37
        },
        {
          "output_type": "display_data",
          "data": {
            "text/plain": [
              "<Figure size 432x288 with 2 Axes>"
            ],
            "image/png": "[encoded data removed]"
          },
          "metadata": {
            "needs_background": "light"
          }
        }
      ]
    },
    {
      "cell_type": "code",
      "source": [
        "#@title Naive Bayes Classifier based on social data\n",
        "social_NB = GaussianNB().fit(X_train, y_train)\n",
        "\n",
        "soc_nb_pred = social_NB.predict(X_test)\n",
        "\n",
        "cm = confusion_matrix(y_test, soc_nb_pred)\n",
        "\n",
        "TN, FP, FN, TP = confusion_matrix(y_test, soc_nb_pred).ravel()\n",
        "\n",
        "print('True Positive(TP)  = ', TP)\n",
        "print('False Positive(FP) = ', FP)\n",
        "print('True Negative(TN)  = ', TN)\n",
        "print('False Negative(FN) = ', FN)\n",
        "\n",
        "accuracy =  (TP + TN) / (TP + FP + TN + FN)\n",
        "\n",
        "print('Accuracy of the binary classifier = {:0.3f}'.format(accuracy))\n",
        "\n",
        "Gaussian_social_matrix = confusion_matrix(y_test, soc_nb_pred, labels=social_NB.classes_)\n",
        "cmplot = ConfusionMatrixDisplay(confusion_matrix=Gaussian_social_matrix,\n",
        "                              display_labels=social_NB.classes_)\n",
        "cmplot.plot()"
      ],
      "metadata": {
        "colab": {
          "base_uri": "https://localhost:8080/",
          "height": 386
        },
        "id": "2zLwtiLDvmIo",
        "outputId": "fbbfaaf9-20db-458e-d07b-355dea9253ed",
        "cellView": "form"
      },
      "execution_count": null,
      "outputs": [
        {
          "output_type": "stream",
          "name": "stdout",
          "text": [
            "True Positive(TP)  =  26840\n",
            "False Positive(FP) =  26493\n",
            "True Negative(TN)  =  1615\n",
            "False Negative(FN) =  1761\n",
            "Accuracy of the binary classifier = 0.502\n"
          ]
        },
        {
          "output_type": "execute_result",
          "data": {
            "text/plain": [
              "<sklearn.metrics._plot.confusion_matrix.ConfusionMatrixDisplay at 0x7f74dde755b0>"
            ]
          },
          "metadata": {},
          "execution_count": 38
        },
        {
          "output_type": "display_data",
          "data": {
            "text/plain": [
              "<Figure size 432x288 with 2 Axes>"
            ],
            "image/png": "[encoded data removed]"
          },
          "metadata": {
            "needs_background": "light"
          }
        }
      ]
    },
    {
      "cell_type": "code",
      "source": [
        "#@title K-nearest Neigbors Classifier based on social data\n",
        "k_neigh_soc = KNeighborsClassifier(n_neighbors=3).fit(X_train, y_train)\n",
        "\n",
        "k_neigh_soc_pred = k_neigh_soc.predict(X_test)\n",
        "\n",
        "cm = confusion_matrix(y_test, k_neigh_soc_pred)\n",
        "\n",
        "TN, FP, FN, TP = confusion_matrix(y_test, k_neigh_soc_pred).ravel()\n",
        "\n",
        "print('True Positive(TP)  = ', TP)\n",
        "print('False Positive(FP) = ', FP)\n",
        "print('True Negative(TN)  = ', TN)\n",
        "print('False Negative(FN) = ', FN)\n",
        "\n",
        "accuracy =  (TP + TN) / (TP + FP + TN + FN)\n",
        "\n",
        "print('Accuracy of the binary classifier = {:0.3f}'.format(accuracy))\n",
        "\n",
        "soc_kmatr = confusion_matrix(y_test, k_neigh_soc_pred, labels=k_neigh_soc.classes_)\n",
        "cmplot = ConfusionMatrixDisplay(confusion_matrix=soc_kmatr,\n",
        "                              display_labels=k_neigh_soc.classes_)\n",
        "cmplot.plot()"
      ],
      "metadata": {
        "colab": {
          "base_uri": "https://localhost:8080/",
          "height": 386
        },
        "id": "Wr3lmX5I1C6L",
        "outputId": "94d04423-7e9f-4340-b74f-e24497442565",
        "cellView": "form"
      },
      "execution_count": null,
      "outputs": [
        {
          "output_type": "stream",
          "name": "stdout",
          "text": [
            "True Positive(TP)  =  14198\n",
            "False Positive(FP) =  12616\n",
            "True Negative(TN)  =  15492\n",
            "False Negative(FN) =  14403\n",
            "Accuracy of the binary classifier = 0.524\n"
          ]
        },
        {
          "output_type": "execute_result",
          "data": {
            "text/plain": [
              "<sklearn.metrics._plot.confusion_matrix.ConfusionMatrixDisplay at 0x7f74dddedfd0>"
            ]
          },
          "metadata": {},
          "execution_count": 39
        },
        {
          "output_type": "display_data",
          "data": {
            "text/plain": [
              "<Figure size 432x288 with 2 Axes>"
            ],
            "image/png": "[encoded data removed]"
          },
          "metadata": {
            "needs_background": "light"
          }
        }
      ]
    },
    {
      "cell_type": "code",
      "source": [
        "#@title Decision Tree Classifier based on social data\n",
        "social_treeclf = DecisionTreeClassifier().fit(X_train, y_train)\n",
        "\n",
        "soc_treeclf_pred = social_treeclf.predict(X_test)\n",
        "\n",
        "cm = confusion_matrix(y_test, soc_treeclf_pred)\n",
        "\n",
        "TN, FP, FN, TP = confusion_matrix(y_test, soc_treeclf_pred).ravel()\n",
        "\n",
        "print('True Positive(TP)  = ', TP)\n",
        "print('False Positive(FP) = ', FP)\n",
        "print('True Negative(TN)  = ', TN)\n",
        "print('False Negative(FN) = ', FN)\n",
        "\n",
        "accuracy =  (TP + TN) / (TP + FP + TN + FN)\n",
        "\n",
        "print('Accuracy of the binary classifier = {:0.3f}'.format(accuracy))\n",
        "\n",
        "soc_tree_matr = confusion_matrix(y_test, soc_treeclf_pred, labels=social_treeclf.classes_)\n",
        "cmplot = ConfusionMatrixDisplay(confusion_matrix=soc_tree_matr,\n",
        "                              display_labels=social_treeclf.classes_)\n",
        "cmplot.plot()"
      ],
      "metadata": {
        "colab": {
          "base_uri": "https://localhost:8080/",
          "height": 386
        },
        "id": "XzCKlxp118SH",
        "outputId": "22983248-3512-42df-d6f7-723b6b6ecdce",
        "cellView": "form"
      },
      "execution_count": null,
      "outputs": [
        {
          "output_type": "stream",
          "name": "stdout",
          "text": [
            "True Positive(TP)  =  14523\n",
            "False Positive(FP) =  13550\n",
            "True Negative(TN)  =  14558\n",
            "False Negative(FN) =  14078\n",
            "Accuracy of the binary classifier = 0.513\n"
          ]
        },
        {
          "output_type": "execute_result",
          "data": {
            "text/plain": [
              "<sklearn.metrics._plot.confusion_matrix.ConfusionMatrixDisplay at 0x7f74e0d22d30>"
            ]
          },
          "metadata": {},
          "execution_count": 40
        },
        {
          "output_type": "display_data",
          "data": {
            "text/plain": [
              "<Figure size 432x288 with 2 Axes>"
            ],
            "image/png": "[encoded data removed]"
          },
          "metadata": {
            "needs_background": "light"
          }
        }
      ]
    },
    {
      "cell_type": "code",
      "source": [
        "#@title Logistic Regression Classifier based on social data\n",
        "from sklearn.linear_model import LogisticRegression\n",
        "\n",
        "soc_lgreg = LogisticRegression().fit(X_train, y_train)\n",
        "\n",
        "soc_lgreg_pred = soc_lgreg.predict(X_test)\n",
        "\n",
        "cm = confusion_matrix(y_test, soc_lgreg_pred)\n",
        "\n",
        "TN, FP, FN, TP = confusion_matrix(y_test, soc_lgreg_pred).ravel()\n",
        "\n",
        "print('True Positive(TP)  = ', TP)\n",
        "print('False Positive(FP) = ', FP)\n",
        "print('True Negative(TN)  = ', TN)\n",
        "print('False Negative(FN) = ', FN)\n",
        "\n",
        "accuracy =  (TP + TN) / (TP + FP + TN + FN)\n",
        "\n",
        "print('Accuracy of the binary classifier = {:0.3f}'.format(accuracy))\n",
        "\n",
        "soc_regmat = confusion_matrix(y_test, soc_lgreg_pred, labels=soc_lgreg.classes_)\n",
        "cmplot = ConfusionMatrixDisplay(confusion_matrix=soc_regmat,\n",
        "                              display_labels=soc_lgreg.classes_)\n",
        "cmplot.plot()"
      ],
      "metadata": {
        "colab": {
          "base_uri": "https://localhost:8080/",
          "height": 386
        },
        "id": "4MhC36lq1trL",
        "outputId": "77292bc9-a220-48a8-d471-a87157200bb4",
        "cellView": "form"
      },
      "execution_count": null,
      "outputs": [
        {
          "output_type": "stream",
          "name": "stdout",
          "text": [
            "True Positive(TP)  =  26741\n",
            "False Positive(FP) =  25951\n",
            "True Negative(TN)  =  2157\n",
            "False Negative(FN) =  1860\n",
            "Accuracy of the binary classifier = 0.510\n"
          ]
        },
        {
          "output_type": "execute_result",
          "data": {
            "text/plain": [
              "<sklearn.metrics._plot.confusion_matrix.ConfusionMatrixDisplay at 0x7f74dddffa90>"
            ]
          },
          "metadata": {},
          "execution_count": 41
        },
        {
          "output_type": "display_data",
          "data": {
            "text/plain": [
              "<Figure size 432x288 with 2 Axes>"
            ],
            "image/png": "[encoded data removed]"
          },
          "metadata": {
            "needs_background": "light"
          }
        }
      ]
    },
    {
      "cell_type": "markdown",
      "source": [
        "The results here show that social data is even worse for predictions and we are still at the moment where our models are guessing the answers purely by coincidence<br> it can be seen well in SVC, where it predicts just one label, but sometimes it does it correctly"
      ],
      "metadata": {
        "id": "Xr1XjgKaKxBB"
      }
    },
    {
      "cell_type": "markdown",
      "source": [
        "##Classifiers based on both linguistic and social data"
      ],
      "metadata": {
        "id": "1nuCVx2xcBHo"
      }
    },
    {
      "cell_type": "markdown",
      "source": [
        "Now we'll make another dataframe with all the data we tried to use before, we'll try to combine our morphological approach and social data to see if it can be applied to this task"
      ],
      "metadata": {
        "id": "uj6u5Oc-nVdj"
      }
    },
    {
      "cell_type": "markdown",
      "source": [
        "It may look weird to do the same preprocessing all over again, but we need this to have full data with all rows filled, so our training examples wouldn't mess our models."
      ],
      "metadata": {
        "id": "UkIOnMYHoDWp"
      }
    },
    {
      "cell_type": "code",
      "source": [
        "names=[\"id\", \"tdate\", \"tmane\", \"ttext\", \"ttype\", \"trep\", \"trtv\", \"tfav\", \"tstcount\", \"tfol\", \"tfrien\", \"listcount\"]\n",
        "positive = pd.read_csv(\"positive.csv\", delimiter=\";\", header=None, names=names)\n",
        "negative = pd.read_csv(\"negative.csv\", delimiter=\";\", header=None, names=names)\n",
        "df = pd.concat([positive, negative])\n",
        "df = df.dropna().drop_duplicates()\n",
        "\n",
        "df['words'] = df.ttext.apply(lemmatize)\n",
        "df = df.dropna()\n",
        "\n",
        "POS = []\n",
        "POS_num = []\n",
        "for index, row in df.iterrows():\n",
        "    all_POSes = []\n",
        "    for word in row['words']:\n",
        "        all_POSes.append(morph.parse(word)[0].tag.POS)\n",
        "    POS.append(all_POSes)\n",
        "    POS_num.append(len(all_POSes))\n",
        "\n",
        "df['POS'] = POS\n",
        "df['words_number'] = POS_num\n",
        "df"
      ],
      "metadata": {
        "id": "OhZRXPCDc8Ee",
        "colab": {
          "base_uri": "https://localhost:8080/",
          "height": 885
        },
        "outputId": "a8f31184-66e6-4b4a-9d4f-4afa2a0a0753"
      },
      "execution_count": null,
      "outputs": [
        {
          "output_type": "execute_result",
          "data": {
            "text/plain": [
              "                        id       tdate            tmane  \\\n",
              "0       408906692374446080  1386325927  pleease_shut_up   \n",
              "1       408906692693221377  1386325927  alinakirpicheva   \n",
              "2       408906695083954177  1386325927        EvgeshaRe   \n",
              "3       408906695356973056  1386325927    ikonnikova_21   \n",
              "4       408906761416867842  1386325943        JumpyAlex   \n",
              "...                    ...         ...              ...   \n",
              "111918  425138243257253888  1390195830         Yanch_96   \n",
              "111919  425138339503943682  1390195853          tkit_on   \n",
              "111920  425138437684215808  1390195876         ckooker1   \n",
              "111921  425138490452344832  1390195889       LisaBeroud   \n",
              "111922  425138595251625984  1390195914       sukapavlov   \n",
              "\n",
              "                                                    ttext  ttype  trep  trtv  \\\n",
              "0       @first_timee хоть я и школота, но поверь, у на...      1     0     0   \n",
              "1       Да, все-таки он немного похож на него. Но мой ...      1     0     0   \n",
              "2       RT @KatiaCheh: Ну ты идиотка) я испугалась за ...      1     0     1   \n",
              "3       RT @digger2912: \"Кто то в углу сидит и погибае...      1     0     1   \n",
              "4       @irina_dyshkant Вот что значит страшилка :D\\nН...      1     0     0   \n",
              "...                                                   ...    ...   ...   ...   \n",
              "111918  Но не каждый хочет что то исправлять:( http://...     -1     0     0   \n",
              "111919  скучаю так :-( только @taaannyaaa вправляет мо...     -1     0     0   \n",
              "111920          Вот и в школу, в говно это идти уже надо(     -1     0     0   \n",
              "111921  RT @_Them__: @LisaBeroud Тауриэль, не грусти :...     -1     0     1   \n",
              "111922  Такси везет меня на работу. Раздумываю приплат...     -1     0     0   \n",
              "\n",
              "        tfav  tstcount  tfol  tfrien  listcount  \\\n",
              "0          0      7569    62      61          0   \n",
              "1          0     11825    59      31          2   \n",
              "2          0      1273    26      27          0   \n",
              "3          0      1549    19      17          0   \n",
              "4          0       597    16      23          1   \n",
              "...      ...       ...   ...     ...        ...   \n",
              "111918     0      1138    32      46          0   \n",
              "111919     0      4822    38      32          0   \n",
              "111920     1       165    13      16          0   \n",
              "111921     0      2516   187     265          0   \n",
              "111922     0      7778   146      66          5   \n",
              "\n",
              "                                                    words  \\\n",
              "0       [школотый, поверь, самый, общество, профилиров...   \n",
              "1        [да, таки, немного, похожий, но, мальчик, равно]   \n",
              "2                               [ну, идиотка, испугаться]   \n",
              "3       [кто, угол, сидеть, погибать, голод, ещё, порц...   \n",
              "4       [вот, значит, страшилка, но, блин, посмотреть,...   \n",
              "...                                                   ...   \n",
              "111918                   [но, каждый, хотеть, исправлять]   \n",
              "111919         [скучать, вправлять, мозг, равно, скучать]   \n",
              "111920                     [вот, школа, говно, это, идти]   \n",
              "111921                         [тауриэль, грусть, обнять]   \n",
              "111922  [такси, везти, работа, раздумывать, приплатить...   \n",
              "\n",
              "                                                      POS  words_number  \n",
              "0              [ADJF, CONJ, ADJF, NOUN, INFN, NOUN, NOUN]             7  \n",
              "1              [PRCL, PRCL, ADVB, ADJF, CONJ, NOUN, CONJ]             7  \n",
              "2                                      [PRCL, NOUN, INFN]             3  \n",
              "3       [NPRO, NOUN, INFN, INFN, NOUN, ADVB, NOUN, INF...            12  \n",
              "4       [PRCL, CONJ, NOUN, CONJ, INTJ, INFN, NOUN, INF...            11  \n",
              "...                                                   ...           ...  \n",
              "111918                           [CONJ, ADJF, INFN, INFN]             4  \n",
              "111919                     [INFN, INFN, NOUN, CONJ, INFN]             5  \n",
              "111920                     [PRCL, NOUN, NOUN, PRCL, INFN]             5  \n",
              "111921                                 [NOUN, NOUN, INFN]             3  \n",
              "111922  [NOUN, INFN, NOUN, INFN, INFN, INFN, ADJF, NOU...             9  \n",
              "\n",
              "[214199 rows x 15 columns]"
            ],
            "text/html": [
              "\n",
              "  <div id=\"df-f190ac79-87c1-40fd-aad8-603e63fc10cc\">\n",
              "    <div class=\"colab-df-container\">\n",
              "      <div>\n",
              "<style scoped>\n",
              "    .dataframe tbody tr th:only-of-type {\n",
              "        vertical-align: middle;\n",
              "    }\n",
              "\n",
              "    .dataframe tbody tr th {\n",
              "        vertical-align: top;\n",
              "    }\n",
              "\n",
              "    .dataframe thead th {\n",
              "        text-align: right;\n",
              "    }\n",
              "</style>\n",
              "<table border=\"1\" class=\"dataframe\">\n",
              "  <thead>\n",
              "    <tr style=\"text-align: right;\">\n",
              "      <th></th>\n",
              "      <th>id</th>\n",
              "      <th>tdate</th>\n",
              "      <th>tmane</th>\n",
              "      <th>ttext</th>\n",
              "      <th>ttype</th>\n",
              "      <th>trep</th>\n",
              "      <th>trtv</th>\n",
              "      <th>tfav</th>\n",
              "      <th>tstcount</th>\n",
              "      <th>tfol</th>\n",
              "      <th>tfrien</th>\n",
              "      <th>listcount</th>\n",
              "      <th>words</th>\n",
              "      <th>POS</th>\n",
              "      <th>words_number</th>\n",
              "    </tr>\n",
              "  </thead>\n",
              "  <tbody>\n",
              "    <tr>\n",
              "      <th>0</th>\n",
              "      <td>408906692374446080</td>\n",
              "      <td>1386325927</td>\n",
              "      <td>pleease_shut_up</td>\n",
              "      <td>@first_timee хоть я и школота, но поверь, у на...</td>\n",
              "      <td>1</td>\n",
              "      <td>0</td>\n",
              "      <td>0</td>\n",
              "      <td>0</td>\n",
              "      <td>7569</td>\n",
              "      <td>62</td>\n",
              "      <td>61</td>\n",
              "      <td>0</td>\n",
              "      <td>[школотый, поверь, самый, общество, профилиров...</td>\n",
              "      <td>[ADJF, CONJ, ADJF, NOUN, INFN, NOUN, NOUN]</td>\n",
              "      <td>7</td>\n",
              "    </tr>\n",
              "    <tr>\n",
              "      <th>1</th>\n",
              "      <td>408906692693221377</td>\n",
              "      <td>1386325927</td>\n",
              "      <td>alinakirpicheva</td>\n",
              "      <td>Да, все-таки он немного похож на него. Но мой ...</td>\n",
              "      <td>1</td>\n",
              "      <td>0</td>\n",
              "      <td>0</td>\n",
              "      <td>0</td>\n",
              "      <td>11825</td>\n",
              "      <td>59</td>\n",
              "      <td>31</td>\n",
              "      <td>2</td>\n",
              "      <td>[да, таки, немного, похожий, но, мальчик, равно]</td>\n",
              "      <td>[PRCL, PRCL, ADVB, ADJF, CONJ, NOUN, CONJ]</td>\n",
              "      <td>7</td>\n",
              "    </tr>\n",
              "    <tr>\n",
              "      <th>2</th>\n",
              "      <td>408906695083954177</td>\n",
              "      <td>1386325927</td>\n",
              "      <td>EvgeshaRe</td>\n",
              "      <td>RT @KatiaCheh: Ну ты идиотка) я испугалась за ...</td>\n",
              "      <td>1</td>\n",
              "      <td>0</td>\n",
              "      <td>1</td>\n",
              "      <td>0</td>\n",
              "      <td>1273</td>\n",
              "      <td>26</td>\n",
              "      <td>27</td>\n",
              "      <td>0</td>\n",
              "      <td>[ну, идиотка, испугаться]</td>\n",
              "      <td>[PRCL, NOUN, INFN]</td>\n",
              "      <td>3</td>\n",
              "    </tr>\n",
              "    <tr>\n",
              "      <th>3</th>\n",
              "      <td>408906695356973056</td>\n",
              "      <td>1386325927</td>\n",
              "      <td>ikonnikova_21</td>\n",
              "      <td>RT @digger2912: \"Кто то в углу сидит и погибае...</td>\n",
              "      <td>1</td>\n",
              "      <td>0</td>\n",
              "      <td>1</td>\n",
              "      <td>0</td>\n",
              "      <td>1549</td>\n",
              "      <td>19</td>\n",
              "      <td>17</td>\n",
              "      <td>0</td>\n",
              "      <td>[кто, угол, сидеть, погибать, голод, ещё, порц...</td>\n",
              "      <td>[NPRO, NOUN, INFN, INFN, NOUN, ADVB, NOUN, INF...</td>\n",
              "      <td>12</td>\n",
              "    </tr>\n",
              "    <tr>\n",
              "      <th>4</th>\n",
              "      <td>408906761416867842</td>\n",
              "      <td>1386325943</td>\n",
              "      <td>JumpyAlex</td>\n",
              "      <td>@irina_dyshkant Вот что значит страшилка :D\\nН...</td>\n",
              "      <td>1</td>\n",
              "      <td>0</td>\n",
              "      <td>0</td>\n",
              "      <td>0</td>\n",
              "      <td>597</td>\n",
              "      <td>16</td>\n",
              "      <td>23</td>\n",
              "      <td>1</td>\n",
              "      <td>[вот, значит, страшилка, но, блин, посмотреть,...</td>\n",
              "      <td>[PRCL, CONJ, NOUN, CONJ, INTJ, INFN, NOUN, INF...</td>\n",
              "      <td>11</td>\n",
              "    </tr>\n",
              "    <tr>\n",
              "      <th>...</th>\n",
              "      <td>...</td>\n",
              "      <td>...</td>\n",
              "      <td>...</td>\n",
              "      <td>...</td>\n",
              "      <td>...</td>\n",
              "      <td>...</td>\n",
              "      <td>...</td>\n",
              "      <td>...</td>\n",
              "      <td>...</td>\n",
              "      <td>...</td>\n",
              "      <td>...</td>\n",
              "      <td>...</td>\n",
              "      <td>...</td>\n",
              "      <td>...</td>\n",
              "      <td>...</td>\n",
              "    </tr>\n",
              "    <tr>\n",
              "      <th>111918</th>\n",
              "      <td>425138243257253888</td>\n",
              "      <td>1390195830</td>\n",
              "      <td>Yanch_96</td>\n",
              "      <td>Но не каждый хочет что то исправлять:( http://...</td>\n",
              "      <td>-1</td>\n",
              "      <td>0</td>\n",
              "      <td>0</td>\n",
              "      <td>0</td>\n",
              "      <td>1138</td>\n",
              "      <td>32</td>\n",
              "      <td>46</td>\n",
              "      <td>0</td>\n",
              "      <td>[но, каждый, хотеть, исправлять]</td>\n",
              "      <td>[CONJ, ADJF, INFN, INFN]</td>\n",
              "      <td>4</td>\n",
              "    </tr>\n",
              "    <tr>\n",
              "      <th>111919</th>\n",
              "      <td>425138339503943682</td>\n",
              "      <td>1390195853</td>\n",
              "      <td>tkit_on</td>\n",
              "      <td>скучаю так :-( только @taaannyaaa вправляет мо...</td>\n",
              "      <td>-1</td>\n",
              "      <td>0</td>\n",
              "      <td>0</td>\n",
              "      <td>0</td>\n",
              "      <td>4822</td>\n",
              "      <td>38</td>\n",
              "      <td>32</td>\n",
              "      <td>0</td>\n",
              "      <td>[скучать, вправлять, мозг, равно, скучать]</td>\n",
              "      <td>[INFN, INFN, NOUN, CONJ, INFN]</td>\n",
              "      <td>5</td>\n",
              "    </tr>\n",
              "    <tr>\n",
              "      <th>111920</th>\n",
              "      <td>425138437684215808</td>\n",
              "      <td>1390195876</td>\n",
              "      <td>ckooker1</td>\n",
              "      <td>Вот и в школу, в говно это идти уже надо(</td>\n",
              "      <td>-1</td>\n",
              "      <td>0</td>\n",
              "      <td>0</td>\n",
              "      <td>1</td>\n",
              "      <td>165</td>\n",
              "      <td>13</td>\n",
              "      <td>16</td>\n",
              "      <td>0</td>\n",
              "      <td>[вот, школа, говно, это, идти]</td>\n",
              "      <td>[PRCL, NOUN, NOUN, PRCL, INFN]</td>\n",
              "      <td>5</td>\n",
              "    </tr>\n",
              "    <tr>\n",
              "      <th>111921</th>\n",
              "      <td>425138490452344832</td>\n",
              "      <td>1390195889</td>\n",
              "      <td>LisaBeroud</td>\n",
              "      <td>RT @_Them__: @LisaBeroud Тауриэль, не грусти :...</td>\n",
              "      <td>-1</td>\n",
              "      <td>0</td>\n",
              "      <td>1</td>\n",
              "      <td>0</td>\n",
              "      <td>2516</td>\n",
              "      <td>187</td>\n",
              "      <td>265</td>\n",
              "      <td>0</td>\n",
              "      <td>[тауриэль, грусть, обнять]</td>\n",
              "      <td>[NOUN, NOUN, INFN]</td>\n",
              "      <td>3</td>\n",
              "    </tr>\n",
              "    <tr>\n",
              "      <th>111922</th>\n",
              "      <td>425138595251625984</td>\n",
              "      <td>1390195914</td>\n",
              "      <td>sukapavlov</td>\n",
              "      <td>Такси везет меня на работу. Раздумываю приплат...</td>\n",
              "      <td>-1</td>\n",
              "      <td>0</td>\n",
              "      <td>0</td>\n",
              "      <td>0</td>\n",
              "      <td>7778</td>\n",
              "      <td>146</td>\n",
              "      <td>66</td>\n",
              "      <td>5</td>\n",
              "      <td>[такси, везти, работа, раздумывать, приплатить...</td>\n",
              "      <td>[NOUN, INFN, NOUN, INFN, INFN, INFN, ADJF, NOU...</td>\n",
              "      <td>9</td>\n",
              "    </tr>\n",
              "  </tbody>\n",
              "</table>\n",
              "<p>214199 rows × 15 columns</p>\n",
              "</div>\n",
              "      <button class=\"colab-df-convert\" onclick=\"convertToInteractive('df-f190ac79-87c1-40fd-aad8-603e63fc10cc')\"\n",
              "              title=\"Convert this dataframe to an interactive table.\"\n",
              "              style=\"display:none;\">\n",
              "        \n",
              "  <svg xmlns=\"http://www.w3.org/2000/svg\" height=\"24px\"viewBox=\"0 0 24 24\"\n",
              "       width=\"24px\">\n",
              "    <path d=\"M0 0h24v24H0V0z\" fill=\"none\"/>\n",
              "    <path d=\"M18.56 5.44l.94 2.06.94-2.06 2.06-.94-2.06-.94-.94-2.06-.94 2.06-2.06.94zm-11 1L8.5 8.5l.94-2.06 2.06-.94-2.06-.94L8.5 2.5l-.94 2.06-2.06.94zm10 10l.94 2.06.94-2.06 2.06-.94-2.06-.94-.94-2.06-.94 2.06-2.06.94z\"/><path d=\"M17.41 7.96l-1.37-1.37c-.4-.4-.92-.59-1.43-.59-.52 0-1.04.2-1.43.59L10.3 9.45l-7.72 7.72c-.78.78-.78 2.05 0 2.83L4 21.41c.39.39.9.59 1.41.59.51 0 1.02-.2 1.41-.59l7.78-7.78 2.81-2.81c.8-.78.8-2.07 0-2.86zM5.41 20L4 18.59l7.72-7.72 1.47 1.35L5.41 20z\"/>\n",
              "  </svg>\n",
              "      </button>\n",
              "      \n",
              "  <style>\n",
              "    .colab-df-container {\n",
              "      display:flex;\n",
              "      flex-wrap:wrap;\n",
              "      gap: 12px;\n",
              "    }\n",
              "\n",
              "    .colab-df-convert {\n",
              "      background-color: #E8F0FE;\n",
              "      border: none;\n",
              "      border-radius: 50%;\n",
              "      cursor: pointer;\n",
              "      display: none;\n",
              "      fill: #1967D2;\n",
              "      height: 32px;\n",
              "      padding: 0 0 0 0;\n",
              "      width: 32px;\n",
              "    }\n",
              "\n",
              "    .colab-df-convert:hover {\n",
              "      background-color: #E2EBFA;\n",
              "      box-shadow: 0px 1px 2px rgba(60, 64, 67, 0.3), 0px 1px 3px 1px rgba(60, 64, 67, 0.15);\n",
              "      fill: #174EA6;\n",
              "    }\n",
              "\n",
              "    [theme=dark] .colab-df-convert {\n",
              "      background-color: #3B4455;\n",
              "      fill: #D2E3FC;\n",
              "    }\n",
              "\n",
              "    [theme=dark] .colab-df-convert:hover {\n",
              "      background-color: #434B5C;\n",
              "      box-shadow: 0px 1px 3px 1px rgba(0, 0, 0, 0.15);\n",
              "      filter: drop-shadow(0px 1px 2px rgba(0, 0, 0, 0.3));\n",
              "      fill: #FFFFFF;\n",
              "    }\n",
              "  </style>\n",
              "\n",
              "      <script>\n",
              "        const buttonEl =\n",
              "          document.querySelector('#df-f190ac79-87c1-40fd-aad8-603e63fc10cc button.colab-df-convert');\n",
              "        buttonEl.style.display =\n",
              "          google.colab.kernel.accessAllowed ? 'block' : 'none';\n",
              "\n",
              "        async function convertToInteractive(key) {\n",
              "          const element = document.querySelector('#df-f190ac79-87c1-40fd-aad8-603e63fc10cc');\n",
              "          const dataTable =\n",
              "            await google.colab.kernel.invokeFunction('convertToInteractive',\n",
              "                                                     [key], {});\n",
              "          if (!dataTable) return;\n",
              "\n",
              "          const docLinkHtml = 'Like what you see? Visit the ' +\n",
              "            '<a target=\"_blank\" href=https://colab.research.google.com/notebooks/data_table.ipynb>data table notebook</a>'\n",
              "            + ' to learn more about interactive tables.';\n",
              "          element.innerHTML = '';\n",
              "          dataTable['output_type'] = 'display_data';\n",
              "          await google.colab.output.renderOutput(dataTable, element);\n",
              "          const docLink = document.createElement('div');\n",
              "          docLink.innerHTML = docLinkHtml;\n",
              "          element.appendChild(docLink);\n",
              "        }\n",
              "      </script>\n",
              "    </div>\n",
              "  </div>\n",
              "  "
            ]
          },
          "metadata": {},
          "execution_count": 42
        }
      ]
    },
    {
      "cell_type": "markdown",
      "source": [
        "If you scroll back up to part 1 you'll notice that length of our dataframe was 226k\n",
        "Now it's only 214k"
      ],
      "metadata": {
        "id": "D16_OtTMojIu"
      }
    },
    {
      "cell_type": "code",
      "source": [
        "#@title we count again\n",
        "noun_counted = []\n",
        "adj_counted = []\n",
        "verb_counted = []\n",
        "numr_counted = []\n",
        "advb_counted = []\n",
        "pron_counted = []\n",
        "prep_counted = []\n",
        "conj_counted = []\n",
        "part_counted =[]\n",
        "intj_counted = []\n",
        "\n",
        "for index, row in df.iterrows():\n",
        "    noun_counted.append(row['POS'].count('NOUN'))\n",
        "    adj_counted.append(row['POS'].count('ADJF') + row['POS'].count('ADJS') + row['POS'].count('COMP'))\n",
        "    verb_counted.append(row['POS'].count('VERB') + row['POS'].count('INFN'))\n",
        "    numr_counted.append(row['POS'].count('NUMR'))\n",
        "    advb_counted.append(row['POS'].count('ADVB'))\n",
        "    pron_counted.append(row['POS'].count('NPRO'))\n",
        "    prep_counted.append(row['POS'].count('PREP'))\n",
        "    conj_counted.append(row['POS'].count('CONJ'))\n",
        "    part_counted.append(row['POS'].count('PRCL'))\n",
        "    intj_counted.append(row['POS'].count('INTJ'))\n",
        "\n",
        "\n",
        "df['nouns_number'] = noun_counted\n",
        "df['adjectives_number'] = adj_counted\n",
        "df['verb_number'] = verb_counted\n",
        "df['numeric_number'] = numr_counted\n",
        "df['adverb_number'] = advb_counted\n",
        "df['pronoun_number'] = pron_counted\n",
        "df['preposition_number'] = prep_counted\n",
        "df['conjunction_number'] = conj_counted\n",
        "df['particles_number'] = part_counted\n",
        "df['interjection_number'] = intj_counted\n",
        "\n",
        "\n",
        "df = df.dropna()\n",
        "df.loc[(df.ttype == -1), ('ttype')] = 0\n",
        "\n",
        "X = df[['tfav', 'tstcount', 'tfol', 'tfrien', 'listcount',\n",
        "              'nouns_number', 'adjectives_number', 'verb_number', \n",
        "              'numeric_number', 'adverb_number', 'pronoun_number', \n",
        "              'preposition_number', 'conjunction_number', 'particles_number',\n",
        "              'interjection_number']]\n",
        "Y = df['ttype']"
      ],
      "metadata": {
        "id": "WG2ycx3gdcEk",
        "cellView": "form"
      },
      "execution_count": null,
      "outputs": []
    },
    {
      "cell_type": "markdown",
      "source": [
        "Let's take a look at our predictors"
      ],
      "metadata": {
        "id": "oYD3nFGropm2"
      }
    },
    {
      "cell_type": "code",
      "source": [
        "X"
      ],
      "metadata": {
        "colab": {
          "base_uri": "https://localhost:8080/",
          "height": 488
        },
        "id": "w1qJXszVyDKU",
        "outputId": "0b26fe14-6900-4079-99cb-c7ac9284dc8c"
      },
      "execution_count": null,
      "outputs": [
        {
          "output_type": "execute_result",
          "data": {
            "text/plain": [
              "        tfav  tstcount  tfol  tfrien  listcount  nouns_number  \\\n",
              "0          0      7569    62      61          0             3   \n",
              "1          0     11825    59      31          2             1   \n",
              "2          0      1273    26      27          0             1   \n",
              "3          0      1549    19      17          0             3   \n",
              "4          0       597    16      23          1             4   \n",
              "...      ...       ...   ...     ...        ...           ...   \n",
              "111918     0      1138    32      46          0             0   \n",
              "111919     0      4822    38      32          0             1   \n",
              "111920     1       165    13      16          0             2   \n",
              "111921     0      2516   187     265          0             2   \n",
              "111922     0      7778   146      66          5             4   \n",
              "\n",
              "        adjectives_number  verb_number  numeric_number  adverb_number  \\\n",
              "0                       2            1               0              0   \n",
              "1                       1            0               0              1   \n",
              "2                       0            1               0              0   \n",
              "3                       0            5               0              1   \n",
              "4                       0            3               0              0   \n",
              "...                   ...          ...             ...            ...   \n",
              "111918                  1            2               0              0   \n",
              "111919                  0            3               0              0   \n",
              "111920                  0            1               0              0   \n",
              "111921                  0            1               0              0   \n",
              "111922                  1            4               0              0   \n",
              "\n",
              "        pronoun_number  preposition_number  conjunction_number  \\\n",
              "0                    0                   0                   1   \n",
              "1                    0                   0                   2   \n",
              "2                    0                   0                   0   \n",
              "3                    1                   0                   1   \n",
              "4                    0                   0                   2   \n",
              "...                ...                 ...                 ...   \n",
              "111918               0                   0                   1   \n",
              "111919               0                   0                   1   \n",
              "111920               0                   0                   0   \n",
              "111921               0                   0                   0   \n",
              "111922               0                   0                   0   \n",
              "\n",
              "        particles_number  interjection_number  \n",
              "0                      0                    0  \n",
              "1                      2                    0  \n",
              "2                      1                    0  \n",
              "3                      0                    0  \n",
              "4                      1                    1  \n",
              "...                  ...                  ...  \n",
              "111918                 0                    0  \n",
              "111919                 0                    0  \n",
              "111920                 2                    0  \n",
              "111921                 0                    0  \n",
              "111922                 0                    0  \n",
              "\n",
              "[214199 rows x 15 columns]"
            ],
            "text/html": [
              "\n",
              "  <div id=\"df-06437666-07f2-431b-b015-5b8be18dfbff\">\n",
              "    <div class=\"colab-df-container\">\n",
              "      <div>\n",
              "<style scoped>\n",
              "    .dataframe tbody tr th:only-of-type {\n",
              "        vertical-align: middle;\n",
              "    }\n",
              "\n",
              "    .dataframe tbody tr th {\n",
              "        vertical-align: top;\n",
              "    }\n",
              "\n",
              "    .dataframe thead th {\n",
              "        text-align: right;\n",
              "    }\n",
              "</style>\n",
              "<table border=\"1\" class=\"dataframe\">\n",
              "  <thead>\n",
              "    <tr style=\"text-align: right;\">\n",
              "      <th></th>\n",
              "      <th>tfav</th>\n",
              "      <th>tstcount</th>\n",
              "      <th>tfol</th>\n",
              "      <th>tfrien</th>\n",
              "      <th>listcount</th>\n",
              "      <th>nouns_number</th>\n",
              "      <th>adjectives_number</th>\n",
              "      <th>verb_number</th>\n",
              "      <th>numeric_number</th>\n",
              "      <th>adverb_number</th>\n",
              "      <th>pronoun_number</th>\n",
              "      <th>preposition_number</th>\n",
              "      <th>conjunction_number</th>\n",
              "      <th>particles_number</th>\n",
              "      <th>interjection_number</th>\n",
              "    </tr>\n",
              "  </thead>\n",
              "  <tbody>\n",
              "    <tr>\n",
              "      <th>0</th>\n",
              "      <td>0</td>\n",
              "      <td>7569</td>\n",
              "      <td>62</td>\n",
              "      <td>61</td>\n",
              "      <td>0</td>\n",
              "      <td>3</td>\n",
              "      <td>2</td>\n",
              "      <td>1</td>\n",
              "      <td>0</td>\n",
              "      <td>0</td>\n",
              "      <td>0</td>\n",
              "      <td>0</td>\n",
              "      <td>1</td>\n",
              "      <td>0</td>\n",
              "      <td>0</td>\n",
              "    </tr>\n",
              "    <tr>\n",
              "      <th>1</th>\n",
              "      <td>0</td>\n",
              "      <td>11825</td>\n",
              "      <td>59</td>\n",
              "      <td>31</td>\n",
              "      <td>2</td>\n",
              "      <td>1</td>\n",
              "      <td>1</td>\n",
              "      <td>0</td>\n",
              "      <td>0</td>\n",
              "      <td>1</td>\n",
              "      <td>0</td>\n",
              "      <td>0</td>\n",
              "      <td>2</td>\n",
              "      <td>2</td>\n",
              "      <td>0</td>\n",
              "    </tr>\n",
              "    <tr>\n",
              "      <th>2</th>\n",
              "      <td>0</td>\n",
              "      <td>1273</td>\n",
              "      <td>26</td>\n",
              "      <td>27</td>\n",
              "      <td>0</td>\n",
              "      <td>1</td>\n",
              "      <td>0</td>\n",
              "      <td>1</td>\n",
              "      <td>0</td>\n",
              "      <td>0</td>\n",
              "      <td>0</td>\n",
              "      <td>0</td>\n",
              "      <td>0</td>\n",
              "      <td>1</td>\n",
              "      <td>0</td>\n",
              "    </tr>\n",
              "    <tr>\n",
              "      <th>3</th>\n",
              "      <td>0</td>\n",
              "      <td>1549</td>\n",
              "      <td>19</td>\n",
              "      <td>17</td>\n",
              "      <td>0</td>\n",
              "      <td>3</td>\n",
              "      <td>0</td>\n",
              "      <td>5</td>\n",
              "      <td>0</td>\n",
              "      <td>1</td>\n",
              "      <td>1</td>\n",
              "      <td>0</td>\n",
              "      <td>1</td>\n",
              "      <td>0</td>\n",
              "      <td>0</td>\n",
              "    </tr>\n",
              "    <tr>\n",
              "      <th>4</th>\n",
              "      <td>0</td>\n",
              "      <td>597</td>\n",
              "      <td>16</td>\n",
              "      <td>23</td>\n",
              "      <td>1</td>\n",
              "      <td>4</td>\n",
              "      <td>0</td>\n",
              "      <td>3</td>\n",
              "      <td>0</td>\n",
              "      <td>0</td>\n",
              "      <td>0</td>\n",
              "      <td>0</td>\n",
              "      <td>2</td>\n",
              "      <td>1</td>\n",
              "      <td>1</td>\n",
              "    </tr>\n",
              "    <tr>\n",
              "      <th>...</th>\n",
              "      <td>...</td>\n",
              "      <td>...</td>\n",
              "      <td>...</td>\n",
              "      <td>...</td>\n",
              "      <td>...</td>\n",
              "      <td>...</td>\n",
              "      <td>...</td>\n",
              "      <td>...</td>\n",
              "      <td>...</td>\n",
              "      <td>...</td>\n",
              "      <td>...</td>\n",
              "      <td>...</td>\n",
              "      <td>...</td>\n",
              "      <td>...</td>\n",
              "      <td>...</td>\n",
              "    </tr>\n",
              "    <tr>\n",
              "      <th>111918</th>\n",
              "      <td>0</td>\n",
              "      <td>1138</td>\n",
              "      <td>32</td>\n",
              "      <td>46</td>\n",
              "      <td>0</td>\n",
              "      <td>0</td>\n",
              "      <td>1</td>\n",
              "      <td>2</td>\n",
              "      <td>0</td>\n",
              "      <td>0</td>\n",
              "      <td>0</td>\n",
              "      <td>0</td>\n",
              "      <td>1</td>\n",
              "      <td>0</td>\n",
              "      <td>0</td>\n",
              "    </tr>\n",
              "    <tr>\n",
              "      <th>111919</th>\n",
              "      <td>0</td>\n",
              "      <td>4822</td>\n",
              "      <td>38</td>\n",
              "      <td>32</td>\n",
              "      <td>0</td>\n",
              "      <td>1</td>\n",
              "      <td>0</td>\n",
              "      <td>3</td>\n",
              "      <td>0</td>\n",
              "      <td>0</td>\n",
              "      <td>0</td>\n",
              "      <td>0</td>\n",
              "      <td>1</td>\n",
              "      <td>0</td>\n",
              "      <td>0</td>\n",
              "    </tr>\n",
              "    <tr>\n",
              "      <th>111920</th>\n",
              "      <td>1</td>\n",
              "      <td>165</td>\n",
              "      <td>13</td>\n",
              "      <td>16</td>\n",
              "      <td>0</td>\n",
              "      <td>2</td>\n",
              "      <td>0</td>\n",
              "      <td>1</td>\n",
              "      <td>0</td>\n",
              "      <td>0</td>\n",
              "      <td>0</td>\n",
              "      <td>0</td>\n",
              "      <td>0</td>\n",
              "      <td>2</td>\n",
              "      <td>0</td>\n",
              "    </tr>\n",
              "    <tr>\n",
              "      <th>111921</th>\n",
              "      <td>0</td>\n",
              "      <td>2516</td>\n",
              "      <td>187</td>\n",
              "      <td>265</td>\n",
              "      <td>0</td>\n",
              "      <td>2</td>\n",
              "      <td>0</td>\n",
              "      <td>1</td>\n",
              "      <td>0</td>\n",
              "      <td>0</td>\n",
              "      <td>0</td>\n",
              "      <td>0</td>\n",
              "      <td>0</td>\n",
              "      <td>0</td>\n",
              "      <td>0</td>\n",
              "    </tr>\n",
              "    <tr>\n",
              "      <th>111922</th>\n",
              "      <td>0</td>\n",
              "      <td>7778</td>\n",
              "      <td>146</td>\n",
              "      <td>66</td>\n",
              "      <td>5</td>\n",
              "      <td>4</td>\n",
              "      <td>1</td>\n",
              "      <td>4</td>\n",
              "      <td>0</td>\n",
              "      <td>0</td>\n",
              "      <td>0</td>\n",
              "      <td>0</td>\n",
              "      <td>0</td>\n",
              "      <td>0</td>\n",
              "      <td>0</td>\n",
              "    </tr>\n",
              "  </tbody>\n",
              "</table>\n",
              "<p>214199 rows × 15 columns</p>\n",
              "</div>\n",
              "      <button class=\"colab-df-convert\" onclick=\"convertToInteractive('df-06437666-07f2-431b-b015-5b8be18dfbff')\"\n",
              "              title=\"Convert this dataframe to an interactive table.\"\n",
              "              style=\"display:none;\">\n",
              "        \n",
              "  <svg xmlns=\"http://www.w3.org/2000/svg\" height=\"24px\"viewBox=\"0 0 24 24\"\n",
              "       width=\"24px\">\n",
              "    <path d=\"M0 0h24v24H0V0z\" fill=\"none\"/>\n",
              "    <path d=\"M18.56 5.44l.94 2.06.94-2.06 2.06-.94-2.06-.94-.94-2.06-.94 2.06-2.06.94zm-11 1L8.5 8.5l.94-2.06 2.06-.94-2.06-.94L8.5 2.5l-.94 2.06-2.06.94zm10 10l.94 2.06.94-2.06 2.06-.94-2.06-.94-.94-2.06-.94 2.06-2.06.94z\"/><path d=\"M17.41 7.96l-1.37-1.37c-.4-.4-.92-.59-1.43-.59-.52 0-1.04.2-1.43.59L10.3 9.45l-7.72 7.72c-.78.78-.78 2.05 0 2.83L4 21.41c.39.39.9.59 1.41.59.51 0 1.02-.2 1.41-.59l7.78-7.78 2.81-2.81c.8-.78.8-2.07 0-2.86zM5.41 20L4 18.59l7.72-7.72 1.47 1.35L5.41 20z\"/>\n",
              "  </svg>\n",
              "      </button>\n",
              "      \n",
              "  <style>\n",
              "    .colab-df-container {\n",
              "      display:flex;\n",
              "      flex-wrap:wrap;\n",
              "      gap: 12px;\n",
              "    }\n",
              "\n",
              "    .colab-df-convert {\n",
              "      background-color: #E8F0FE;\n",
              "      border: none;\n",
              "      border-radius: 50%;\n",
              "      cursor: pointer;\n",
              "      display: none;\n",
              "      fill: #1967D2;\n",
              "      height: 32px;\n",
              "      padding: 0 0 0 0;\n",
              "      width: 32px;\n",
              "    }\n",
              "\n",
              "    .colab-df-convert:hover {\n",
              "      background-color: #E2EBFA;\n",
              "      box-shadow: 0px 1px 2px rgba(60, 64, 67, 0.3), 0px 1px 3px 1px rgba(60, 64, 67, 0.15);\n",
              "      fill: #174EA6;\n",
              "    }\n",
              "\n",
              "    [theme=dark] .colab-df-convert {\n",
              "      background-color: #3B4455;\n",
              "      fill: #D2E3FC;\n",
              "    }\n",
              "\n",
              "    [theme=dark] .colab-df-convert:hover {\n",
              "      background-color: #434B5C;\n",
              "      box-shadow: 0px 1px 3px 1px rgba(0, 0, 0, 0.15);\n",
              "      filter: drop-shadow(0px 1px 2px rgba(0, 0, 0, 0.3));\n",
              "      fill: #FFFFFF;\n",
              "    }\n",
              "  </style>\n",
              "\n",
              "      <script>\n",
              "        const buttonEl =\n",
              "          document.querySelector('#df-06437666-07f2-431b-b015-5b8be18dfbff button.colab-df-convert');\n",
              "        buttonEl.style.display =\n",
              "          google.colab.kernel.accessAllowed ? 'block' : 'none';\n",
              "\n",
              "        async function convertToInteractive(key) {\n",
              "          const element = document.querySelector('#df-06437666-07f2-431b-b015-5b8be18dfbff');\n",
              "          const dataTable =\n",
              "            await google.colab.kernel.invokeFunction('convertToInteractive',\n",
              "                                                     [key], {});\n",
              "          if (!dataTable) return;\n",
              "\n",
              "          const docLinkHtml = 'Like what you see? Visit the ' +\n",
              "            '<a target=\"_blank\" href=https://colab.research.google.com/notebooks/data_table.ipynb>data table notebook</a>'\n",
              "            + ' to learn more about interactive tables.';\n",
              "          element.innerHTML = '';\n",
              "          dataTable['output_type'] = 'display_data';\n",
              "          await google.colab.output.renderOutput(dataTable, element);\n",
              "          const docLink = document.createElement('div');\n",
              "          docLink.innerHTML = docLinkHtml;\n",
              "          element.appendChild(docLink);\n",
              "        }\n",
              "      </script>\n",
              "    </div>\n",
              "  </div>\n",
              "  "
            ]
          },
          "metadata": {},
          "execution_count": 44
        }
      ]
    },
    {
      "cell_type": "markdown",
      "source": [
        "And our labels (they should be the same size as predictors)"
      ],
      "metadata": {
        "id": "az9SmA2botoF"
      }
    },
    {
      "cell_type": "code",
      "source": [
        "Y"
      ],
      "metadata": {
        "colab": {
          "base_uri": "https://localhost:8080/"
        },
        "id": "b3hKEJ0WyGMz",
        "outputId": "211ba4d7-f9bc-4342-d7c1-94e522abb752"
      },
      "execution_count": null,
      "outputs": [
        {
          "output_type": "execute_result",
          "data": {
            "text/plain": [
              "0         1\n",
              "1         1\n",
              "2         1\n",
              "3         1\n",
              "4         1\n",
              "         ..\n",
              "111918    0\n",
              "111919    0\n",
              "111920    0\n",
              "111921    0\n",
              "111922    0\n",
              "Name: ttype, Length: 214199, dtype: int64"
            ]
          },
          "metadata": {},
          "execution_count": 45
        }
      ]
    },
    {
      "cell_type": "markdown",
      "source": [
        "Now we split and scale"
      ],
      "metadata": {
        "id": "loX6xAEBoznH"
      }
    },
    {
      "cell_type": "code",
      "source": [
        "X_train, X_test, y_train, y_test = train_test_split(X, Y , test_size=0.25, random_state=42)\n",
        "\n",
        "scaler = StandardScaler()\n",
        "X_train = scaler.fit_transform(X_train)\n",
        "\n",
        "scaler = StandardScaler()\n",
        "X_test = scaler.fit_transform(X_test)"
      ],
      "metadata": {
        "id": "xyTlwimYlR2s"
      },
      "execution_count": null,
      "outputs": []
    },
    {
      "cell_type": "code",
      "source": [
        "#@title SVC based on all data we could get\n",
        "full_svc = svm.SVC()\n",
        "full_svc.fit(X, Y)\n",
        "\n",
        "y_pred = full_svc.predict(X_test)\n",
        "\n",
        "cm = confusion_matrix(y_test, y_pred)\n",
        "\n",
        "TN, FP, FN, TP = confusion_matrix(y_test, y_pred).ravel()\n",
        "\n",
        "print('True Positive(TP)  = ', TP)\n",
        "print('False Positive(FP) = ', FP)\n",
        "print('True Negative(TN)  = ', TN)\n",
        "print('False Negative(FN) = ', FN)\n",
        "\n",
        "accuracy =  (TP + TN) / (TP + FP + TN + FN)\n",
        "\n",
        "print('Accuracy of the binary classifier = {:0.3f}'.format(accuracy))\n",
        "\n",
        "cma = confusion_matrix(y_test, y_pred, labels=full_svc.classes_)\n",
        "cmplot = ConfusionMatrixDisplay(confusion_matrix=cma,\n",
        "                              display_labels=full_svc.classes_)\n",
        "cmplot.plot()"
      ],
      "metadata": {
        "id": "U6dRfh3Lm0iq",
        "colab": {
          "base_uri": "https://localhost:8080/",
          "height": 422
        },
        "outputId": "2c9be053-775f-4f52-c670-46732bd9e5c8",
        "cellView": "form"
      },
      "execution_count": null,
      "outputs": [
        {
          "output_type": "stream",
          "name": "stderr",
          "text": [
            "/usr/local/lib/python3.8/dist-packages/sklearn/base.py:450: UserWarning: X does not have valid feature names, but SVC was fitted with feature names\n",
            "  warnings.warn(\n"
          ]
        },
        {
          "output_type": "stream",
          "name": "stdout",
          "text": [
            "True Positive(TP)  =  27217\n",
            "False Positive(FP) =  26333\n",
            "True Negative(TN)  =  0\n",
            "False Negative(FN) =  0\n",
            "Accuracy of the binary classifier = 0.508\n"
          ]
        },
        {
          "output_type": "execute_result",
          "data": {
            "text/plain": [
              "<sklearn.metrics._plot.confusion_matrix.ConfusionMatrixDisplay at 0x7f74e1731b80>"
            ]
          },
          "metadata": {},
          "execution_count": 47
        },
        {
          "output_type": "display_data",
          "data": {
            "text/plain": [
              "<Figure size 432x288 with 2 Axes>"
            ],
            "image/png": "[encoded data removed]"
          },
          "metadata": {
            "needs_background": "light"
          }
        }
      ]
    },
    {
      "cell_type": "code",
      "source": [
        "#@title Naive Bayes based on all data we could get\n",
        "full_NB = GaussianNB().fit(X_train, y_train)\n",
        "\n",
        "full_nb_pred = full_NB.predict(X_test)\n",
        "\n",
        "cm = confusion_matrix(y_test, full_nb_pred)\n",
        "\n",
        "TN, FP, FN, TP = confusion_matrix(y_test, full_nb_pred).ravel()\n",
        "\n",
        "print('True Positive(TP)  = ', TP)\n",
        "print('False Positive(FP) = ', FP)\n",
        "print('True Negative(TN)  = ', TN)\n",
        "print('False Negative(FN) = ', FN)\n",
        "\n",
        "accuracy =  (TP + TN) / (TP + FP + TN + FN)\n",
        "\n",
        "print('Accuracy of the binary classifier = {:0.3f}'.format(accuracy))\n",
        "\n",
        "full_Gaussian_matrix = confusion_matrix(y_test, full_nb_pred, labels=full_NB.classes_)\n",
        "cmplot = ConfusionMatrixDisplay(confusion_matrix=full_Gaussian_matrix,\n",
        "                              display_labels=full_NB.classes_)\n",
        "cmplot.plot()"
      ],
      "metadata": {
        "colab": {
          "base_uri": "https://localhost:8080/",
          "height": 386
        },
        "id": "Zs8hLNzk3_C0",
        "outputId": "faed54fe-0fa7-4c56-e041-bea3e5b3d106",
        "cellView": "form"
      },
      "execution_count": null,
      "outputs": [
        {
          "output_type": "stream",
          "name": "stdout",
          "text": [
            "True Positive(TP)  =  23740\n",
            "False Positive(FP) =  22256\n",
            "True Negative(TN)  =  4077\n",
            "False Negative(FN) =  3477\n",
            "Accuracy of the binary classifier = 0.519\n"
          ]
        },
        {
          "output_type": "execute_result",
          "data": {
            "text/plain": [
              "<sklearn.metrics._plot.confusion_matrix.ConfusionMatrixDisplay at 0x7f74dded96a0>"
            ]
          },
          "metadata": {},
          "execution_count": 48
        },
        {
          "output_type": "display_data",
          "data": {
            "text/plain": [
              "<Figure size 432x288 with 2 Axes>"
            ],
            "image/png": "[encoded data removed]"
          },
          "metadata": {
            "needs_background": "light"
          }
        }
      ]
    },
    {
      "cell_type": "code",
      "source": [
        "#@title K-nearest Neighbors based on all data we could get\n",
        "full_k_neigh = KNeighborsClassifier(n_neighbors=3).fit(X_train, y_train)\n",
        "\n",
        "full_k_neigh_pred = full_k_neigh.predict(X_test)\n",
        "\n",
        "cm = confusion_matrix(y_test, full_k_neigh_pred)\n",
        "\n",
        "TN, FP, FN, TP = confusion_matrix(y_test, full_k_neigh_pred).ravel()\n",
        "\n",
        "print('True Positive(TP)  = ', TP)\n",
        "print('False Positive(FP) = ', FP)\n",
        "print('True Negative(TN)  = ', TN)\n",
        "print('False Negative(FN) = ', FN)\n",
        "\n",
        "accuracy =  (TP + TN) / (TP + FP + TN + FN)\n",
        "\n",
        "print('Accuracy of the binary classifier = {:0.3f}'.format(accuracy))\n",
        "\n",
        "full_kmatr = confusion_matrix(y_test, full_k_neigh_pred, labels=full_k_neigh.classes_)\n",
        "cmplot = ConfusionMatrixDisplay(confusion_matrix=full_kmatr,\n",
        "                              display_labels=full_k_neigh.classes_)\n",
        "cmplot.plot()"
      ],
      "metadata": {
        "colab": {
          "base_uri": "https://localhost:8080/",
          "height": 386
        },
        "id": "wKqwB6u5DriO",
        "outputId": "2fd98fea-294d-4419-f3e3-ac33522f86e0",
        "cellView": "form"
      },
      "execution_count": null,
      "outputs": [
        {
          "output_type": "stream",
          "name": "stdout",
          "text": [
            "True Positive(TP)  =  15860\n",
            "False Positive(FP) =  13585\n",
            "True Negative(TN)  =  12748\n",
            "False Negative(FN) =  11357\n",
            "Accuracy of the binary classifier = 0.534\n"
          ]
        },
        {
          "output_type": "execute_result",
          "data": {
            "text/plain": [
              "<sklearn.metrics._plot.confusion_matrix.ConfusionMatrixDisplay at 0x7f74e0de1160>"
            ]
          },
          "metadata": {},
          "execution_count": 49
        },
        {
          "output_type": "display_data",
          "data": {
            "text/plain": [
              "<Figure size 432x288 with 2 Axes>"
            ],
            "image/png": "[encoded data removed]"
          },
          "metadata": {
            "needs_background": "light"
          }
        }
      ]
    },
    {
      "cell_type": "code",
      "source": [
        "#@title Decision Tree based on all data we could get\n",
        "full_treeclf = DecisionTreeClassifier().fit(X_train, y_train)\n",
        "\n",
        "full_treeclf_pred = full_treeclf.predict(X_test)\n",
        "\n",
        "cm = confusion_matrix(y_test, full_treeclf_pred)\n",
        "\n",
        "TN, FP, FN, TP = confusion_matrix(y_test, full_treeclf_pred).ravel()\n",
        "\n",
        "print('True Positive(TP)  = ', TP)\n",
        "print('False Positive(FP) = ', FP)\n",
        "print('True Negative(TN)  = ', TN)\n",
        "print('False Negative(FN) = ', FN)\n",
        "\n",
        "accuracy =  (TP + TN) / (TP + FP + TN + FN)\n",
        "\n",
        "print('Accuracy of the binary classifier = {:0.3f}'.format(accuracy))\n",
        "\n",
        "full_tree_matr = confusion_matrix(y_test, full_treeclf_pred, labels=full_treeclf.classes_)\n",
        "cmplot = ConfusionMatrixDisplay(confusion_matrix=full_tree_matr,\n",
        "                              display_labels=full_treeclf.classes_)\n",
        "cmplot.plot()"
      ],
      "metadata": {
        "colab": {
          "base_uri": "https://localhost:8080/",
          "height": 386
        },
        "id": "Ht4XBzMyFcd8",
        "outputId": "12562b0a-6f88-4998-8b68-bacf45ab992b",
        "cellView": "form"
      },
      "execution_count": null,
      "outputs": [
        {
          "output_type": "stream",
          "name": "stdout",
          "text": [
            "True Positive(TP)  =  15171\n",
            "False Positive(FP) =  14237\n",
            "True Negative(TN)  =  12096\n",
            "False Negative(FN) =  12046\n",
            "Accuracy of the binary classifier = 0.509\n"
          ]
        },
        {
          "output_type": "execute_result",
          "data": {
            "text/plain": [
              "<sklearn.metrics._plot.confusion_matrix.ConfusionMatrixDisplay at 0x7f74e0eeb6a0>"
            ]
          },
          "metadata": {},
          "execution_count": 50
        },
        {
          "output_type": "display_data",
          "data": {
            "text/plain": [
              "<Figure size 432x288 with 2 Axes>"
            ],
            "image/png": "[encoded data removed]"
          },
          "metadata": {
            "needs_background": "light"
          }
        }
      ]
    },
    {
      "cell_type": "code",
      "source": [
        "#@title Logistic Regression based on all data we could get\n",
        "full_logreg = LogisticRegression().fit(X_train, y_train)\n",
        "\n",
        "full_logreg_pred = full_logreg.predict(X_test)\n",
        "\n",
        "cm = confusion_matrix(y_test, full_logreg_pred)\n",
        "\n",
        "TN, FP, FN, TP = confusion_matrix(y_test, full_logreg_pred).ravel()\n",
        "\n",
        "print('True Positive(TP)  = ', TP)\n",
        "print('False Positive(FP) = ', FP)\n",
        "print('True Negative(TN)  = ', TN)\n",
        "print('False Negative(FN) = ', FN)\n",
        "\n",
        "accuracy =  (TP + TN) / (TP + FP + TN + FN)\n",
        "\n",
        "print('Accuracy of the binary classifier = {:0.3f}'.format(accuracy))\n",
        "\n",
        "full_regmat = confusion_matrix(y_test, full_logreg_pred, labels=full_logreg.classes_)\n",
        "cmplot = ConfusionMatrixDisplay(confusion_matrix=full_regmat,\n",
        "                              display_labels=full_logreg.classes_)\n",
        "cmplot.plot()"
      ],
      "metadata": {
        "colab": {
          "base_uri": "https://localhost:8080/",
          "height": 386
        },
        "id": "_cshXm13F0xa",
        "outputId": "76e6e1d8-f141-47d0-ab66-466adeca954d",
        "cellView": "form"
      },
      "execution_count": null,
      "outputs": [
        {
          "output_type": "stream",
          "name": "stdout",
          "text": [
            "True Positive(TP)  =  16519\n",
            "False Positive(FP) =  13226\n",
            "True Negative(TN)  =  13107\n",
            "False Negative(FN) =  10698\n",
            "Accuracy of the binary classifier = 0.553\n"
          ]
        },
        {
          "output_type": "execute_result",
          "data": {
            "text/plain": [
              "<sklearn.metrics._plot.confusion_matrix.ConfusionMatrixDisplay at 0x7f74e1017ca0>"
            ]
          },
          "metadata": {},
          "execution_count": 51
        },
        {
          "output_type": "display_data",
          "data": {
            "text/plain": [
              "<Figure size 432x288 with 2 Axes>"
            ],
            "image/png": "[encoded data removed]"
          },
          "metadata": {
            "needs_background": "light"
          }
        }
      ]
    },
    {
      "cell_type": "markdown",
      "source": [
        "As we might see all of this is not nearly enough to get proper predictions, as models aren't really changing.<br>\n",
        "Thus, we conclude that classic ML classification algorithms could not be applied to the NLP field, because they lack language understanding and semantics.<br> We could train all of the algorithms above with word vectors, but this solution requires a lot of time and performance.<br> So instead we'll take a look at current SOTA models used in NLP field.<br> Them being transformer models."
      ],
      "metadata": {
        "id": "RhUraIoSpLAD"
      }
    },
    {
      "cell_type": "markdown",
      "source": [
        "#PART III Natural Language Models\n",
        "We wanted sentiment analysis task to be solved, that is why we implemented 2 BERT models to check how they'll solve it<br>\n"
      ],
      "metadata": {
        "id": "4O9LJ_iVAd-4"
      }
    },
    {
      "cell_type": "markdown",
      "source": [
        "You can work with any of those as they can be launched separately."
      ],
      "metadata": {
        "id": "quJX-hzx6-zB"
      }
    },
    {
      "cell_type": "markdown",
      "source": [
        "##RuBERT built for sentiment analysis"
      ],
      "metadata": {
        "id": "qOcUmbp6LOmd"
      }
    },
    {
      "cell_type": "markdown",
      "source": [
        "First of all we need to install the necessary library to work with transformer models available at <a href='https://huggingface.co/'>huggingface.co</a>"
      ],
      "metadata": {
        "id": "bH6t2Xqw7yNL"
      }
    },
    {
      "cell_type": "code",
      "source": [
        "!pip install transformers"
      ],
      "metadata": {
        "colab": {
          "base_uri": "https://localhost:8080/"
        },
        "id": "P740yAjRNnr5",
        "outputId": "6257daf6-4c49-4447-9a44-713ac1492824"
      },
      "execution_count": null,
      "outputs": [
        {
          "output_type": "stream",
          "name": "stdout",
          "text": [
            "Looking in indexes: https://pypi.org/simple, https://us-python.pkg.dev/colab-wheels/public/simple/\n",
            "Requirement already satisfied: transformers in /usr/local/lib/python3.8/dist-packages (4.25.1)\n",
            "Requirement already satisfied: tqdm>=4.27 in /usr/local/lib/python3.8/dist-packages (from transformers) (4.64.1)\n",
            "Requirement already satisfied: requests in /usr/local/lib/python3.8/dist-packages (from transformers) (2.23.0)\n",
            "Requirement already satisfied: pyyaml>=5.1 in /usr/local/lib/python3.8/dist-packages (from transformers) (6.0)\n",
            "Requirement already satisfied: tokenizers!=0.11.3,<0.14,>=0.11.1 in /usr/local/lib/python3.8/dist-packages (from transformers) (0.13.2)\n",
            "Requirement already satisfied: filelock in /usr/local/lib/python3.8/dist-packages (from transformers) (3.8.2)\n",
            "Requirement already satisfied: huggingface-hub<1.0,>=0.10.0 in /usr/local/lib/python3.8/dist-packages (from transformers) (0.11.1)\n",
            "Requirement already satisfied: regex!=2019.12.17 in /usr/local/lib/python3.8/dist-packages (from transformers) (2022.6.2)\n",
            "Requirement already satisfied: packaging>=20.0 in /usr/local/lib/python3.8/dist-packages (from transformers) (21.3)\n",
            "Requirement already satisfied: numpy>=1.17 in /usr/local/lib/python3.8/dist-packages (from transformers) (1.21.6)\n",
            "Requirement already satisfied: typing-extensions>=3.7.4.3 in /usr/local/lib/python3.8/dist-packages (from huggingface-hub<1.0,>=0.10.0->transformers) (4.4.0)\n",
            "Requirement already satisfied: pyparsing!=3.0.5,>=2.0.2 in /usr/local/lib/python3.8/dist-packages (from packaging>=20.0->transformers) (3.0.9)\n",
            "Requirement already satisfied: certifi>=2017.4.17 in /usr/local/lib/python3.8/dist-packages (from requests->transformers) (2022.12.7)\n",
            "Requirement already satisfied: chardet<4,>=3.0.2 in /usr/local/lib/python3.8/dist-packages (from requests->transformers) (3.0.4)\n",
            "Requirement already satisfied: urllib3!=1.25.0,!=1.25.1,<1.26,>=1.21.1 in /usr/local/lib/python3.8/dist-packages (from requests->transformers) (1.24.3)\n",
            "Requirement already satisfied: idna<3,>=2.5 in /usr/local/lib/python3.8/dist-packages (from requests->transformers) (2.10)\n"
          ]
        }
      ]
    },
    {
      "cell_type": "markdown",
      "source": [
        "We've found a model that was trained exactly on the dataset we are wotking with, so let's use it to our task\n",
        "it has to be downloaded along with tokenizer"
      ],
      "metadata": {
        "id": "vq2RmO3H8SiN"
      }
    },
    {
      "cell_type": "code",
      "source": [
        "import torch\n",
        "from transformers import AutoModelForSequenceClassification\n",
        "from transformers import BertTokenizerFast\n",
        "\n",
        "tokenizer = BertTokenizerFast.from_pretrained('blanchefort/rubert-base-cased-sentiment-mokoron')\n",
        "model = AutoModelForSequenceClassification.from_pretrained('blanchefort/rubert-base-cased-sentiment-mokoron', return_dict=True)\n",
        "\n",
        "@torch.no_grad()\n",
        "def predict(text):\n",
        "    inputs = tokenizer(text, max_length=512, padding=True, truncation=True, return_tensors='pt')\n",
        "    outputs = model(**inputs)\n",
        "    predicted = torch.nn.functional.softmax(outputs.logits, dim=1)\n",
        "    predicted = torch.argmax(predicted, dim=1).numpy()\n",
        "    return predicted"
      ],
      "metadata": {
        "id": "EahPODGbNmGZ"
      },
      "execution_count": null,
      "outputs": []
    },
    {
      "cell_type": "markdown",
      "source": [
        "Now we work with data, all we need is text and type.<br> We change our classes to suit the classes model trained on, description can be found <a href='https://huggingface.co/blanchefort/rubert-base-cased-sentiment-mokoron'>here</a> "
      ],
      "metadata": {
        "id": "yEV-0URa9SUP"
      }
    },
    {
      "cell_type": "code",
      "source": [
        "new_y = pd.concat([positive, negative])\n",
        "new_y = new_y.dropna().drop_duplicates()\n",
        "new_y['ttype'].value_counts()\n",
        "new_y.loc[(new_y.ttype == 1), ('ttype')] = 0\n",
        "new_y.loc[(new_y.ttype == -1), ('ttype')] = 1\n",
        "language_X = new_y['ttext']\n",
        "language_Y = new_y['ttype']"
      ],
      "metadata": {
        "id": "BSuXcPF2O-Or"
      },
      "execution_count": null,
      "outputs": []
    },
    {
      "cell_type": "markdown",
      "source": [
        "split the data"
      ],
      "metadata": {
        "id": "vVPlaSsh9kcV"
      }
    },
    {
      "cell_type": "code",
      "source": [
        "X_train, X_test, y_train, y_test = train_test_split(language_X, language_Y , test_size=0.25, random_state=42)"
      ],
      "metadata": {
        "id": "Zs7WZvILOKZV"
      },
      "execution_count": null,
      "outputs": []
    },
    {
      "cell_type": "markdown",
      "source": [
        "Now we get predictions and calculate the metrics"
      ],
      "metadata": {
        "id": "SM2YAdae9vS8"
      }
    },
    {
      "cell_type": "code",
      "source": [
        "#@title it is done the same way as before\n",
        "language_y_pred = []\n",
        "for que in X_test:\n",
        "    language_y_pred.append(predict(que))\n",
        "\n",
        "cm = confusion_matrix(y_test, language_y_pred)\n",
        "\n",
        "TN, FP, FN, TP = confusion_matrix(y_test, language_y_pred).ravel()\n",
        "\n",
        "print('True Positive(TP)  = ', TP)\n",
        "print('False Positive(FP) = ', FP)\n",
        "print('True Negative(TN)  = ', TN)\n",
        "print('False Negative(FN) = ', FN)\n",
        "\n",
        "accuracy =  (TP + TN) / (TP + FP + TN + FN)\n",
        "\n",
        "print('Accuracy of the binary classifier = {:0.3f}'.format(accuracy))\n",
        "\n",
        "langmat = confusion_matrix(y_test, language_y_pred,)\n",
        "cmplot = ConfusionMatrixDisplay(confusion_matrix=langmat,)\n",
        "cmplot.plot()"
      ],
      "metadata": {
        "colab": {
          "base_uri": "https://localhost:8080/",
          "height": 386
        },
        "id": "XJArOOB-OTqt",
        "outputId": "02cfc1ab-32c5-4762-c8f1-fe5825a129fe",
        "cellView": "form"
      },
      "execution_count": null,
      "outputs": [
        {
          "output_type": "stream",
          "name": "stdout",
          "text": [
            "True Positive(TP)  =  28079\n",
            "False Positive(FP) =  51\n",
            "True Negative(TN)  =  28550\n",
            "False Negative(FN) =  29\n",
            "Accuracy of the binary classifier = 0.999\n"
          ]
        },
        {
          "output_type": "execute_result",
          "data": {
            "text/plain": [
              "<sklearn.metrics._plot.confusion_matrix.ConfusionMatrixDisplay at 0x7f73ecbfcb20>"
            ]
          },
          "metadata": {},
          "execution_count": 60
        },
        {
          "output_type": "display_data",
          "data": {
            "text/plain": [
              "<Figure size 432x288 with 2 Axes>"
            ],
            "image/png": "[encoded data removed]"
          },
          "metadata": {
            "needs_background": "light"
          }
        }
      ]
    },
    {
      "cell_type": "markdown",
      "source": [
        "As we can see here, the model is rather good, more than good it IS THE BEST! <br>But why actually. To be fair this model should be tested on different data not the one we use for our metrics, because there is a chance that our test examples were used during the training and the model just \"remembers\" them. <br>That is why we apply training and testing on different sets of examples. But this time we had no control over model training, and even if its good, we have to find another way to solve this task as these metrcis aren't actually that great.\n",
        "<br>**And that leads us to** "
      ],
      "metadata": {
        "id": "BM02hjRE98W7"
      }
    },
    {
      "cell_type": "markdown",
      "source": [
        "##Our own **tiny** dive **to** the **RuBERT** models' implementation"
      ],
      "metadata": {
        "id": "Hn7evQYgbOGf"
      }
    },
    {
      "cell_type": "markdown",
      "source": [
        "First of all we need to install the necessary library to work with transformer models available at <a href='https://huggingface.co/'>huggingface.co</a>"
      ],
      "metadata": {
        "id": "vxrNqSKg_RjN"
      }
    },
    {
      "cell_type": "code",
      "source": [
        "!pip install transformers"
      ],
      "metadata": {
        "id": "3MoUwdSJbQUQ",
        "colab": {
          "base_uri": "https://localhost:8080/"
        },
        "outputId": "81b55fc4-fb69-4c24-b69c-1b5a807e36e1"
      },
      "execution_count": 2,
      "outputs": [
        {
          "output_type": "stream",
          "name": "stdout",
          "text": [
            "Looking in indexes: https://pypi.org/simple, https://us-python.pkg.dev/colab-wheels/public/simple/\n",
            "Collecting transformers\n",
            "  Downloading transformers-4.25.1-py3-none-any.whl (5.8 MB)\n",
            "\u001b[K     |████████████████████████████████| 5.8 MB 26.3 MB/s \n",
            "\u001b[?25hRequirement already satisfied: requests in /usr/local/lib/python3.8/dist-packages (from transformers) (2.23.0)\n",
            "Collecting huggingface-hub<1.0,>=0.10.0\n",
            "  Downloading huggingface_hub-0.11.1-py3-none-any.whl (182 kB)\n",
            "\u001b[K     |████████████████████████████████| 182 kB 53.2 MB/s \n",
            "\u001b[?25hRequirement already satisfied: numpy>=1.17 in /usr/local/lib/python3.8/dist-packages (from transformers) (1.21.6)\n",
            "Requirement already satisfied: packaging>=20.0 in /usr/local/lib/python3.8/dist-packages (from transformers) (21.3)\n",
            "Requirement already satisfied: filelock in /usr/local/lib/python3.8/dist-packages (from transformers) (3.8.2)\n",
            "Requirement already satisfied: regex!=2019.12.17 in /usr/local/lib/python3.8/dist-packages (from transformers) (2022.6.2)\n",
            "Collecting tokenizers!=0.11.3,<0.14,>=0.11.1\n",
            "  Downloading tokenizers-0.13.2-cp38-cp38-manylinux_2_17_x86_64.manylinux2014_x86_64.whl (7.6 MB)\n",
            "\u001b[K     |████████████████████████████████| 7.6 MB 52.2 MB/s \n",
            "\u001b[?25hRequirement already satisfied: tqdm>=4.27 in /usr/local/lib/python3.8/dist-packages (from transformers) (4.64.1)\n",
            "Requirement already satisfied: pyyaml>=5.1 in /usr/local/lib/python3.8/dist-packages (from transformers) (6.0)\n",
            "Requirement already satisfied: typing-extensions>=3.7.4.3 in /usr/local/lib/python3.8/dist-packages (from huggingface-hub<1.0,>=0.10.0->transformers) (4.4.0)\n",
            "Requirement already satisfied: pyparsing!=3.0.5,>=2.0.2 in /usr/local/lib/python3.8/dist-packages (from packaging>=20.0->transformers) (3.0.9)\n",
            "Requirement already satisfied: urllib3!=1.25.0,!=1.25.1,<1.26,>=1.21.1 in /usr/local/lib/python3.8/dist-packages (from requests->transformers) (1.24.3)\n",
            "Requirement already satisfied: certifi>=2017.4.17 in /usr/local/lib/python3.8/dist-packages (from requests->transformers) (2022.12.7)\n",
            "Requirement already satisfied: idna<3,>=2.5 in /usr/local/lib/python3.8/dist-packages (from requests->transformers) (2.10)\n",
            "Requirement already satisfied: chardet<4,>=3.0.2 in /usr/local/lib/python3.8/dist-packages (from requests->transformers) (3.0.4)\n",
            "Installing collected packages: tokenizers, huggingface-hub, transformers\n",
            "Successfully installed huggingface-hub-0.11.1 tokenizers-0.13.2 transformers-4.25.1\n"
          ]
        }
      ]
    },
    {
      "cell_type": "markdown",
      "source": [
        "Our new model is trained to work with russian language with masked tokens prediction task, which basically means language understanding. We'll fine-tune it to our sentiment data and see how well the new model will solve our classification task."
      ],
      "metadata": {
        "id": "6p5fhV8u_pWa"
      }
    },
    {
      "cell_type": "code",
      "source": [
        "#@title first we import libraries\n",
        "import numpy as np\n",
        "import torch\n",
        "import transformers\n",
        "import pandas as pd\n",
        "import pandas as pd\n",
        "import re\n",
        "import matplotlib.pyplot as plt\n",
        "from collections import defaultdict, Counter\n",
        "from tqdm import tqdm\n",
        "from torch.utils.data import Dataset\n",
        "from transformers import BertTokenizer, BertForSequenceClassification\n",
        "from torch.utils.data import Dataset, DataLoader\n",
        "from transformers import AdamW, get_linear_schedule_with_warmup"
      ],
      "metadata": {
        "id": "8Y8LSIl-Ml8w",
        "cellView": "form"
      },
      "execution_count": 3,
      "outputs": []
    },
    {
      "cell_type": "markdown",
      "source": [
        "get our data processed"
      ],
      "metadata": {
        "id": "MvoscIhCAqs9"
      }
    },
    {
      "cell_type": "code",
      "source": [
        "names=[\"id\", \"tdate\", \"tmane\", \"ttext\", \"ttype\", \"trep\", \"trtv\", \"tfav\", \"tstcount\", \"tfol\", \"tfrien\", \"listcount\"]\n",
        "positive = pd.read_csv(\"positive.csv\", delimiter=\";\", header=None, names=names)\n",
        "negative = pd.read_csv(\"negative.csv\", delimiter=\";\", header=None, names=names)\n",
        "df = pd.concat([positive, negative])\n",
        "df = df.dropna().drop_duplicates()\n",
        "def regex(text):\n",
        "    return re.sub(\"[A-Za-z0-9!#$%&'()*+,./:;<=>?@[\\]^_`{|}~—\\\"\\-]+\", ' ', text)\n",
        "df.ttext = df.ttext.apply(regex)\n",
        "df"
      ],
      "metadata": {
        "id": "8rEZdW_kNxKZ",
        "colab": {
          "base_uri": "https://localhost:8080/",
          "height": 424
        },
        "outputId": "a549bd3d-aec5-41dc-df9f-2078691131bc"
      },
      "execution_count": 4,
      "outputs": [
        {
          "output_type": "execute_result",
          "data": {
            "text/plain": [
              "                        id       tdate            tmane  \\\n",
              "0       408906692374446080  1386325927  pleease_shut_up   \n",
              "1       408906692693221377  1386325927  alinakirpicheva   \n",
              "2       408906695083954177  1386325927        EvgeshaRe   \n",
              "3       408906695356973056  1386325927    ikonnikova_21   \n",
              "4       408906761416867842  1386325943        JumpyAlex   \n",
              "...                    ...         ...              ...   \n",
              "111918  425138243257253888  1390195830         Yanch_96   \n",
              "111919  425138339503943682  1390195853          tkit_on   \n",
              "111920  425138437684215808  1390195876         ckooker1   \n",
              "111921  425138490452344832  1390195889       LisaBeroud   \n",
              "111922  425138595251625984  1390195914       sukapavlov   \n",
              "\n",
              "                                                    ttext  ttype  trep  trtv  \\\n",
              "0         хоть я и школота  но поверь  у нас то же сам...      1     0     0   \n",
              "1       Да  все таки он немного похож на него  Но мой ...      1     0     0   \n",
              "2                    Ну ты идиотка  я испугалась за тебя       1     0     1   \n",
              "3            Кто то в углу сидит и погибает от голода ...      1     0     1   \n",
              "4         Вот что значит страшилка  \\nНо блин посмотре...      1     0     0   \n",
              "...                                                   ...    ...   ...   ...   \n",
              "111918            Но не каждый хочет что то исправлять        -1     0     0   \n",
              "111919  скучаю так   только   вправляет мозги  но я вс...     -1     0     0   \n",
              "111920          Вот и в школу  в говно это идти уже надо      -1     0     0   \n",
              "111921                      Тауриэль  не грусти    обнял      -1     0     1   \n",
              "111922  Такси везет меня на работу  Раздумываю приплат...     -1     0     0   \n",
              "\n",
              "        tfav  tstcount  tfol  tfrien  listcount  \n",
              "0          0      7569    62      61          0  \n",
              "1          0     11825    59      31          2  \n",
              "2          0      1273    26      27          0  \n",
              "3          0      1549    19      17          0  \n",
              "4          0       597    16      23          1  \n",
              "...      ...       ...   ...     ...        ...  \n",
              "111918     0      1138    32      46          0  \n",
              "111919     0      4822    38      32          0  \n",
              "111920     1       165    13      16          0  \n",
              "111921     0      2516   187     265          0  \n",
              "111922     0      7778   146      66          5  \n",
              "\n",
              "[226834 rows x 12 columns]"
            ],
            "text/html": [
              "\n",
              "  <div id=\"df-9e096046-29a1-451c-84ea-03dacdfb0ce1\">\n",
              "    <div class=\"colab-df-container\">\n",
              "      <div>\n",
              "<style scoped>\n",
              "    .dataframe tbody tr th:only-of-type {\n",
              "        vertical-align: middle;\n",
              "    }\n",
              "\n",
              "    .dataframe tbody tr th {\n",
              "        vertical-align: top;\n",
              "    }\n",
              "\n",
              "    .dataframe thead th {\n",
              "        text-align: right;\n",
              "    }\n",
              "</style>\n",
              "<table border=\"1\" class=\"dataframe\">\n",
              "  <thead>\n",
              "    <tr style=\"text-align: right;\">\n",
              "      <th></th>\n",
              "      <th>id</th>\n",
              "      <th>tdate</th>\n",
              "      <th>tmane</th>\n",
              "      <th>ttext</th>\n",
              "      <th>ttype</th>\n",
              "      <th>trep</th>\n",
              "      <th>trtv</th>\n",
              "      <th>tfav</th>\n",
              "      <th>tstcount</th>\n",
              "      <th>tfol</th>\n",
              "      <th>tfrien</th>\n",
              "      <th>listcount</th>\n",
              "    </tr>\n",
              "  </thead>\n",
              "  <tbody>\n",
              "    <tr>\n",
              "      <th>0</th>\n",
              "      <td>408906692374446080</td>\n",
              "      <td>1386325927</td>\n",
              "      <td>pleease_shut_up</td>\n",
              "      <td>хоть я и школота  но поверь  у нас то же сам...</td>\n",
              "      <td>1</td>\n",
              "      <td>0</td>\n",
              "      <td>0</td>\n",
              "      <td>0</td>\n",
              "      <td>7569</td>\n",
              "      <td>62</td>\n",
              "      <td>61</td>\n",
              "      <td>0</td>\n",
              "    </tr>\n",
              "    <tr>\n",
              "      <th>1</th>\n",
              "      <td>408906692693221377</td>\n",
              "      <td>1386325927</td>\n",
              "      <td>alinakirpicheva</td>\n",
              "      <td>Да  все таки он немного похож на него  Но мой ...</td>\n",
              "      <td>1</td>\n",
              "      <td>0</td>\n",
              "      <td>0</td>\n",
              "      <td>0</td>\n",
              "      <td>11825</td>\n",
              "      <td>59</td>\n",
              "      <td>31</td>\n",
              "      <td>2</td>\n",
              "    </tr>\n",
              "    <tr>\n",
              "      <th>2</th>\n",
              "      <td>408906695083954177</td>\n",
              "      <td>1386325927</td>\n",
              "      <td>EvgeshaRe</td>\n",
              "      <td>Ну ты идиотка  я испугалась за тебя</td>\n",
              "      <td>1</td>\n",
              "      <td>0</td>\n",
              "      <td>1</td>\n",
              "      <td>0</td>\n",
              "      <td>1273</td>\n",
              "      <td>26</td>\n",
              "      <td>27</td>\n",
              "      <td>0</td>\n",
              "    </tr>\n",
              "    <tr>\n",
              "      <th>3</th>\n",
              "      <td>408906695356973056</td>\n",
              "      <td>1386325927</td>\n",
              "      <td>ikonnikova_21</td>\n",
              "      <td>Кто то в углу сидит и погибает от голода ...</td>\n",
              "      <td>1</td>\n",
              "      <td>0</td>\n",
              "      <td>1</td>\n",
              "      <td>0</td>\n",
              "      <td>1549</td>\n",
              "      <td>19</td>\n",
              "      <td>17</td>\n",
              "      <td>0</td>\n",
              "    </tr>\n",
              "    <tr>\n",
              "      <th>4</th>\n",
              "      <td>408906761416867842</td>\n",
              "      <td>1386325943</td>\n",
              "      <td>JumpyAlex</td>\n",
              "      <td>Вот что значит страшилка  \\nНо блин посмотре...</td>\n",
              "      <td>1</td>\n",
              "      <td>0</td>\n",
              "      <td>0</td>\n",
              "      <td>0</td>\n",
              "      <td>597</td>\n",
              "      <td>16</td>\n",
              "      <td>23</td>\n",
              "      <td>1</td>\n",
              "    </tr>\n",
              "    <tr>\n",
              "      <th>...</th>\n",
              "      <td>...</td>\n",
              "      <td>...</td>\n",
              "      <td>...</td>\n",
              "      <td>...</td>\n",
              "      <td>...</td>\n",
              "      <td>...</td>\n",
              "      <td>...</td>\n",
              "      <td>...</td>\n",
              "      <td>...</td>\n",
              "      <td>...</td>\n",
              "      <td>...</td>\n",
              "      <td>...</td>\n",
              "    </tr>\n",
              "    <tr>\n",
              "      <th>111918</th>\n",
              "      <td>425138243257253888</td>\n",
              "      <td>1390195830</td>\n",
              "      <td>Yanch_96</td>\n",
              "      <td>Но не каждый хочет что то исправлять</td>\n",
              "      <td>-1</td>\n",
              "      <td>0</td>\n",
              "      <td>0</td>\n",
              "      <td>0</td>\n",
              "      <td>1138</td>\n",
              "      <td>32</td>\n",
              "      <td>46</td>\n",
              "      <td>0</td>\n",
              "    </tr>\n",
              "    <tr>\n",
              "      <th>111919</th>\n",
              "      <td>425138339503943682</td>\n",
              "      <td>1390195853</td>\n",
              "      <td>tkit_on</td>\n",
              "      <td>скучаю так   только   вправляет мозги  но я вс...</td>\n",
              "      <td>-1</td>\n",
              "      <td>0</td>\n",
              "      <td>0</td>\n",
              "      <td>0</td>\n",
              "      <td>4822</td>\n",
              "      <td>38</td>\n",
              "      <td>32</td>\n",
              "      <td>0</td>\n",
              "    </tr>\n",
              "    <tr>\n",
              "      <th>111920</th>\n",
              "      <td>425138437684215808</td>\n",
              "      <td>1390195876</td>\n",
              "      <td>ckooker1</td>\n",
              "      <td>Вот и в школу  в говно это идти уже надо</td>\n",
              "      <td>-1</td>\n",
              "      <td>0</td>\n",
              "      <td>0</td>\n",
              "      <td>1</td>\n",
              "      <td>165</td>\n",
              "      <td>13</td>\n",
              "      <td>16</td>\n",
              "      <td>0</td>\n",
              "    </tr>\n",
              "    <tr>\n",
              "      <th>111921</th>\n",
              "      <td>425138490452344832</td>\n",
              "      <td>1390195889</td>\n",
              "      <td>LisaBeroud</td>\n",
              "      <td>Тауриэль  не грусти    обнял</td>\n",
              "      <td>-1</td>\n",
              "      <td>0</td>\n",
              "      <td>1</td>\n",
              "      <td>0</td>\n",
              "      <td>2516</td>\n",
              "      <td>187</td>\n",
              "      <td>265</td>\n",
              "      <td>0</td>\n",
              "    </tr>\n",
              "    <tr>\n",
              "      <th>111922</th>\n",
              "      <td>425138595251625984</td>\n",
              "      <td>1390195914</td>\n",
              "      <td>sukapavlov</td>\n",
              "      <td>Такси везет меня на работу  Раздумываю приплат...</td>\n",
              "      <td>-1</td>\n",
              "      <td>0</td>\n",
              "      <td>0</td>\n",
              "      <td>0</td>\n",
              "      <td>7778</td>\n",
              "      <td>146</td>\n",
              "      <td>66</td>\n",
              "      <td>5</td>\n",
              "    </tr>\n",
              "  </tbody>\n",
              "</table>\n",
              "<p>226834 rows × 12 columns</p>\n",
              "</div>\n",
              "      <button class=\"colab-df-convert\" onclick=\"convertToInteractive('df-9e096046-29a1-451c-84ea-03dacdfb0ce1')\"\n",
              "              title=\"Convert this dataframe to an interactive table.\"\n",
              "              style=\"display:none;\">\n",
              "        \n",
              "  <svg xmlns=\"http://www.w3.org/2000/svg\" height=\"24px\"viewBox=\"0 0 24 24\"\n",
              "       width=\"24px\">\n",
              "    <path d=\"M0 0h24v24H0V0z\" fill=\"none\"/>\n",
              "    <path d=\"M18.56 5.44l.94 2.06.94-2.06 2.06-.94-2.06-.94-.94-2.06-.94 2.06-2.06.94zm-11 1L8.5 8.5l.94-2.06 2.06-.94-2.06-.94L8.5 2.5l-.94 2.06-2.06.94zm10 10l.94 2.06.94-2.06 2.06-.94-2.06-.94-.94-2.06-.94 2.06-2.06.94z\"/><path d=\"M17.41 7.96l-1.37-1.37c-.4-.4-.92-.59-1.43-.59-.52 0-1.04.2-1.43.59L10.3 9.45l-7.72 7.72c-.78.78-.78 2.05 0 2.83L4 21.41c.39.39.9.59 1.41.59.51 0 1.02-.2 1.41-.59l7.78-7.78 2.81-2.81c.8-.78.8-2.07 0-2.86zM5.41 20L4 18.59l7.72-7.72 1.47 1.35L5.41 20z\"/>\n",
              "  </svg>\n",
              "      </button>\n",
              "      \n",
              "  <style>\n",
              "    .colab-df-container {\n",
              "      display:flex;\n",
              "      flex-wrap:wrap;\n",
              "      gap: 12px;\n",
              "    }\n",
              "\n",
              "    .colab-df-convert {\n",
              "      background-color: #E8F0FE;\n",
              "      border: none;\n",
              "      border-radius: 50%;\n",
              "      cursor: pointer;\n",
              "      display: none;\n",
              "      fill: #1967D2;\n",
              "      height: 32px;\n",
              "      padding: 0 0 0 0;\n",
              "      width: 32px;\n",
              "    }\n",
              "\n",
              "    .colab-df-convert:hover {\n",
              "      background-color: #E2EBFA;\n",
              "      box-shadow: 0px 1px 2px rgba(60, 64, 67, 0.3), 0px 1px 3px 1px rgba(60, 64, 67, 0.15);\n",
              "      fill: #174EA6;\n",
              "    }\n",
              "\n",
              "    [theme=dark] .colab-df-convert {\n",
              "      background-color: #3B4455;\n",
              "      fill: #D2E3FC;\n",
              "    }\n",
              "\n",
              "    [theme=dark] .colab-df-convert:hover {\n",
              "      background-color: #434B5C;\n",
              "      box-shadow: 0px 1px 3px 1px rgba(0, 0, 0, 0.15);\n",
              "      filter: drop-shadow(0px 1px 2px rgba(0, 0, 0, 0.3));\n",
              "      fill: #FFFFFF;\n",
              "    }\n",
              "  </style>\n",
              "\n",
              "      <script>\n",
              "        const buttonEl =\n",
              "          document.querySelector('#df-9e096046-29a1-451c-84ea-03dacdfb0ce1 button.colab-df-convert');\n",
              "        buttonEl.style.display =\n",
              "          google.colab.kernel.accessAllowed ? 'block' : 'none';\n",
              "\n",
              "        async function convertToInteractive(key) {\n",
              "          const element = document.querySelector('#df-9e096046-29a1-451c-84ea-03dacdfb0ce1');\n",
              "          const dataTable =\n",
              "            await google.colab.kernel.invokeFunction('convertToInteractive',\n",
              "                                                     [key], {});\n",
              "          if (!dataTable) return;\n",
              "\n",
              "          const docLinkHtml = 'Like what you see? Visit the ' +\n",
              "            '<a target=\"_blank\" href=https://colab.research.google.com/notebooks/data_table.ipynb>data table notebook</a>'\n",
              "            + ' to learn more about interactive tables.';\n",
              "          element.innerHTML = '';\n",
              "          dataTable['output_type'] = 'display_data';\n",
              "          await google.colab.output.renderOutput(dataTable, element);\n",
              "          const docLink = document.createElement('div');\n",
              "          docLink.innerHTML = docLinkHtml;\n",
              "          element.appendChild(docLink);\n",
              "        }\n",
              "      </script>\n",
              "    </div>\n",
              "  </div>\n",
              "  "
            ]
          },
          "metadata": {},
          "execution_count": 4
        }
      ]
    },
    {
      "cell_type": "markdown",
      "source": [
        "Now we create dataset class that'll be used in our training"
      ],
      "metadata": {
        "id": "JBzM-EtUAtIo"
      }
    },
    {
      "cell_type": "code",
      "source": [
        "class CustomDataset(Dataset):\n",
        "\n",
        "  def __init__(self, texts, targets, tokenizer, max_len=512):\n",
        "    self.texts = texts\n",
        "    self.targets = targets\n",
        "    self.tokenizer = tokenizer\n",
        "    self.max_len = max_len\n",
        "\n",
        "  def __len__(self):\n",
        "    return len(self.texts)\n",
        "\n",
        "  def __getitem__(self, idx):\n",
        "    text = str(self.texts[idx])\n",
        "    target = self.targets[idx]\n",
        "\n",
        "    encoding = self.tokenizer.encode_plus(\n",
        "        text,\n",
        "        add_special_tokens=True,\n",
        "        max_length=self.max_len,\n",
        "        return_token_type_ids=False,\n",
        "        padding='max_length',\n",
        "        return_attention_mask=True,\n",
        "        return_tensors='pt',\n",
        "        truncation=True\n",
        "    )\n",
        "\n",
        "    return {\n",
        "      'text': text,\n",
        "      'input_ids': encoding['input_ids'].flatten(),\n",
        "      'attention_mask': encoding['attention_mask'].flatten(),\n",
        "      'targets': torch.tensor(target, dtype=torch.long)\n",
        "    }"
      ],
      "metadata": {
        "id": "DUwyDj-HMnZZ"
      },
      "execution_count": 5,
      "outputs": []
    },
    {
      "cell_type": "markdown",
      "source": [
        "And classifier itself with 2 classes"
      ],
      "metadata": {
        "id": "kf0xdUWlA2ve"
      }
    },
    {
      "cell_type": "code",
      "source": [
        "class BertClassifier:\n",
        "    def __init__(self, model_path, tokenizer_path, n_classes=2, epochs=1, model_save_path='/content/bert.pt'):\n",
        "        self.model = BertForSequenceClassification.from_pretrained(model_path)\n",
        "        self.tokenizer = BertTokenizer.from_pretrained(tokenizer_path)\n",
        "        self.device = torch.device(\"cuda:0\" if torch.cuda.is_available() else \"cpu\")\n",
        "        self.model_save_path=model_save_path\n",
        "        self.max_len = 512\n",
        "        self.epochs = epochs\n",
        "        self.out_features = self.model.bert.encoder.layer[1].output.dense.out_features\n",
        "        self.model.classifier = torch.nn.Linear(self.out_features, n_classes)\n",
        "        self.model.to(self.device)\n",
        "    \n",
        "    def preparation(self, X_train, y_train, X_valid, y_valid):\n",
        "        # create datasets\n",
        "        self.train_set = CustomDataset(X_train, y_train, self.tokenizer)\n",
        "        self.valid_set = CustomDataset(X_valid, y_valid, self.tokenizer)\n",
        "\n",
        "        # create data loaders\n",
        "        self.train_loader = DataLoader(self.train_set, batch_size=2, shuffle=True)\n",
        "        self.valid_loader = DataLoader(self.valid_set, batch_size=2, shuffle=True)\n",
        "\n",
        "        # helpers initialization\n",
        "        self.optimizer = AdamW(self.model.parameters(), lr=2e-5, correct_bias=False)\n",
        "        self.scheduler = get_linear_schedule_with_warmup(\n",
        "                self.optimizer,\n",
        "                num_warmup_steps=0,\n",
        "                num_training_steps=len(self.train_loader) * self.epochs\n",
        "            )\n",
        "        self.loss_fn = torch.nn.CrossEntropyLoss().to(self.device)\n",
        "            \n",
        "    def fit(self):\n",
        "        self.model = self.model.train()\n",
        "        losses = []\n",
        "        correct_predictions = 0\n",
        "\n",
        "        for data in tqdm(self.train_loader):\n",
        "            input_ids = data[\"input_ids\"].to(self.device)\n",
        "            attention_mask = data[\"attention_mask\"].to(self.device)\n",
        "            targets = data[\"targets\"].to(self.device)\n",
        "\n",
        "            outputs = self.model(\n",
        "                input_ids=input_ids,\n",
        "                attention_mask=attention_mask\n",
        "                )\n",
        "\n",
        "            preds = torch.argmax(outputs.logits, dim=1)\n",
        "            loss = self.loss_fn(outputs.logits, targets)\n",
        "\n",
        "            correct_predictions += torch.sum(preds == targets)\n",
        "\n",
        "            losses.append(loss.item())\n",
        "            \n",
        "            loss.backward()\n",
        "            torch.nn.utils.clip_grad_norm_(self.model.parameters(), max_norm=1.0)\n",
        "            self.optimizer.step()\n",
        "            self.scheduler.step()\n",
        "            self.optimizer.zero_grad()\n",
        "\n",
        "        train_acc = correct_predictions.double() / len(self.train_set)\n",
        "        train_loss = np.mean(losses)\n",
        "        return train_acc, train_loss\n",
        "    \n",
        "    def eval(self):\n",
        "        print('eval')\n",
        "        self.model = self.model.eval()\n",
        "        losses = []\n",
        "        correct_predictions = 0\n",
        "\n",
        "        with torch.no_grad():\n",
        "            for data in self.valid_loader:\n",
        "                input_ids = data[\"input_ids\"].to(self.device)\n",
        "                attention_mask = data[\"attention_mask\"].to(self.device)\n",
        "                targets = data[\"targets\"].to(self.device)\n",
        "\n",
        "                outputs = self.model(\n",
        "                    input_ids=input_ids,\n",
        "                    attention_mask=attention_mask\n",
        "                    )\n",
        "\n",
        "                preds = torch.argmax(outputs.logits, dim=1)\n",
        "                loss = self.loss_fn(outputs.logits, targets)\n",
        "                correct_predictions += torch.sum(preds == targets)\n",
        "                losses.append(loss.item())\n",
        "        \n",
        "        val_acc = correct_predictions.double() / len(self.valid_set)\n",
        "        val_loss = np.mean(losses)\n",
        "        return val_acc, val_loss\n",
        "    \n",
        "    def train(self):\n",
        "        best_accuracy = 0\n",
        "        for epoch in range(self.epochs):\n",
        "            print(f'Epoch {epoch + 1}/{self.epochs}')\n",
        "            train_acc, train_loss = self.fit()\n",
        "            print(f'Train loss {train_loss} accuracy {train_acc}')\n",
        "            val_acc, val_loss = self.eval()\n",
        "            print(f'Val loss {val_loss} accuracy {val_acc}')\n",
        "            print('-' * 10)\n",
        "\n",
        "            if val_acc > best_accuracy:\n",
        "                torch.save(self.model, '/content/bert.pt')\n",
        "                best_accuracy = val_acc\n",
        "        self.model = torch.load(self.model_save_path)\n",
        "    \n",
        "    def predict(self, text):\n",
        "        encoding = self.tokenizer.encode_plus(\n",
        "            text,\n",
        "            add_special_tokens=True,\n",
        "            max_length=self.max_len,\n",
        "            return_token_type_ids=False,\n",
        "            truncation=True,\n",
        "            padding='max_length',\n",
        "            return_attention_mask=True,\n",
        "            return_tensors='pt',\n",
        "        )\n",
        "        \n",
        "        out = {\n",
        "              'text': text,\n",
        "              'input_ids': encoding['input_ids'].flatten(),\n",
        "              'attention_mask': encoding['attention_mask'].flatten()\n",
        "          }\n",
        "        \n",
        "        input_ids = out[\"input_ids\"].to(self.device)\n",
        "        attention_mask = out[\"attention_mask\"].to(self.device)\n",
        "        \n",
        "        outputs = self.model(\n",
        "            input_ids=input_ids.unsqueeze(0),\n",
        "            attention_mask=attention_mask.unsqueeze(0)\n",
        "        )\n",
        "        \n",
        "        prediction = torch.argmax(outputs.logits, dim=1).cpu().numpy()[0]\n",
        "\n",
        "        return prediction"
      ],
      "metadata": {
        "id": "mcP_wmeOMohY"
      },
      "execution_count": 6,
      "outputs": []
    },
    {
      "cell_type": "markdown",
      "source": [
        "Now we download our model and tokenizer from <a href = 'https://huggingface.co/cointegrated/rubert-tiny2'>here</a><br>\n",
        "The model we chose is a small version of BERT and we chose it to see quick implementation and solution of our task, so our model might not get THE BEST results for this task, but that is also not our aim here, we just want to see how the new language models act in the NLP field.\n",
        "<br>We set the number of classes equals to 2. And 3 epochs to see how well it'll train"
      ],
      "metadata": {
        "id": "ziyun8d2BE0V"
      }
    },
    {
      "cell_type": "code",
      "source": [
        "classifier = BertClassifier(\n",
        "        model_path='cointegrated/rubert-tiny2',\n",
        "        tokenizer_path='cointegrated/rubert-tiny2',\n",
        "        n_classes=2,\n",
        "        epochs=3,\n",
        "        model_save_path='/content/bert.pt'\n",
        ")"
      ],
      "metadata": {
        "colab": {
          "base_uri": "https://localhost:8080/",
          "height": 284,
          "referenced_widgets": [
            "0053c2680e914ba28d1a0dfecbfd038b",
            "68a0ed3e0f6f403cbb272acbab65942c",
            "d86d7b7083b14cb28e0399bb6f87586c",
            "9efc85be039849dd8d44f8899f617fc8",
            "8b589e249b4f47d7be80b432dc238e5e",
            "ee38a02210454f66b4d95005dedea538",
            "136eddf6f9154e26809283e5ccc8acc5",
            "68521f0e36c94ff6b88b7272d735fe15",
            "18fd26f99bd544c9be269edca79bb0a6",
            "0066dd7c710849aa843fe80db6550810",
            "878fd8aacb1f4957a6455b5543a8b5d6",
            "8443c251eaeb41729245948eeb0f4eb1",
            "32d14624e4da4e56a26ae7d0e9c82768",
            "d38426f73c024226a42944b915dfc7c0",
            "199f8b97cf5f4d10a2315ab75ecbf781",
            "1e97dd1ebe22489082fb0c8ac1353257",
            "d4c33300c78b43999cf9958c160ff266",
            "5632ecf91eff4a75b9e4d452dd0e74ab",
            "2084e22999834126a4d7d5b5ea9227ce",
            "3093181c96614ac68d5469a00e750353",
            "f19e96f0de074b108437b822599ab6f7",
            "4a9700ec2cc84f5dacced64eb4195f7e",
            "90225190398e4647b8172a554b1b33b3",
            "7aab511d203a48b6a2424fdf7b9bfaf8",
            "b11d53c64da2474da31e52f06ad7e3d8",
            "26e70678aa064573a6d632a1f67ced9c",
            "0b392fc2632a47799c1262252e82f126",
            "9e931cd64e734fc8bcae16ffe4199cdc",
            "3cb366408424499992542a510dd5f66c",
            "5f468f45f15b4fdb9aec7d8a72bee525",
            "3db152e080924421923a2e606488f7c9",
            "2e19b8c33c964077934be0ad8e890147",
            "a2dfcc0a729f45458c6059bcfb4ff701",
            "c8bd6c45bc4b47ca88bb299a9c94fbb9",
            "7d1e805abe8f4b31b6143766aad2d75d",
            "e837117167ea4230bb8a50157359b464",
            "e2edfb59619044a08a83e99a06be3d26",
            "f637be9ba3694e1d8c3d57ef389864c3",
            "8e7de611886540359ce3d326b5f8c36a",
            "6cd098c03cbe4d558165043a15755491",
            "0ec5c836e0774a61b32f47b0dbe95c1a",
            "c0653a0ac4af482f86c45c55d8a84606",
            "522eac6139a64c31b8eea36e7a16d7a7",
            "9e72f3c2c20646b4888f37119131a782",
            "ce7009064f9f4437abb9ba7e42bc66e9",
            "ace6668762ec4a9197304811fa7edafd",
            "6d0984c4ad454324b66865579dcf1b65",
            "233374c048074106848f2a9271069b36",
            "1c949e1f12b44cf2bc81211b9a0fb008",
            "56a345e7561e497898927c12eb892e00",
            "8605e27aee3b417ca6f0fbeb62f41a39",
            "0b2763ca35614e1fb5ec425b6d5b1f2b",
            "214b8d2b76ec4b0baedd739b75a871d2",
            "08fea034cc7a438895e74e6bdf8d8f72",
            "3aa64be18aff41b188c80e4b4e025c38"
          ]
        },
        "id": "4RscLn4eMqCn",
        "outputId": "453916cf-28de-4b78-d647-a1a93dc3d645"
      },
      "execution_count": 7,
      "outputs": [
        {
          "output_type": "display_data",
          "data": {
            "text/plain": [
              "Downloading:   0%|          | 0.00/715 [00:00<?, ?B/s]"
            ],
            "application/vnd.jupyter.widget-view+json": {
              "version_major": 2,
              "version_minor": 0,
              "model_id": "0053c2680e914ba28d1a0dfecbfd038b"
            }
          },
          "metadata": {}
        },
        {
          "output_type": "display_data",
          "data": {
            "text/plain": [
              "Downloading:   0%|          | 0.00/118M [00:00<?, ?B/s]"
            ],
            "application/vnd.jupyter.widget-view+json": {
              "version_major": 2,
              "version_minor": 0,
              "model_id": "8443c251eaeb41729245948eeb0f4eb1"
            }
          },
          "metadata": {}
        },
        {
          "output_type": "stream",
          "name": "stderr",
          "text": [
            "Some weights of the model checkpoint at cointegrated/rubert-tiny2 were not used when initializing BertForSequenceClassification: ['cls.seq_relationship.bias', 'cls.predictions.transform.LayerNorm.weight', 'cls.predictions.decoder.bias', 'cls.predictions.transform.LayerNorm.bias', 'cls.predictions.bias', 'cls.predictions.transform.dense.bias', 'cls.predictions.transform.dense.weight', 'cls.predictions.decoder.weight', 'cls.seq_relationship.weight']\n",
            "- This IS expected if you are initializing BertForSequenceClassification from the checkpoint of a model trained on another task or with another architecture (e.g. initializing a BertForSequenceClassification model from a BertForPreTraining model).\n",
            "- This IS NOT expected if you are initializing BertForSequenceClassification from the checkpoint of a model that you expect to be exactly identical (initializing a BertForSequenceClassification model from a BertForSequenceClassification model).\n",
            "Some weights of BertForSequenceClassification were not initialized from the model checkpoint at cointegrated/rubert-tiny2 and are newly initialized: ['classifier.weight', 'classifier.bias']\n",
            "You should probably TRAIN this model on a down-stream task to be able to use it for predictions and inference.\n"
          ]
        },
        {
          "output_type": "display_data",
          "data": {
            "text/plain": [
              "Downloading:   0%|          | 0.00/1.08M [00:00<?, ?B/s]"
            ],
            "application/vnd.jupyter.widget-view+json": {
              "version_major": 2,
              "version_minor": 0,
              "model_id": "90225190398e4647b8172a554b1b33b3"
            }
          },
          "metadata": {}
        },
        {
          "output_type": "display_data",
          "data": {
            "text/plain": [
              "Downloading:   0%|          | 0.00/112 [00:00<?, ?B/s]"
            ],
            "application/vnd.jupyter.widget-view+json": {
              "version_major": 2,
              "version_minor": 0,
              "model_id": "c8bd6c45bc4b47ca88bb299a9c94fbb9"
            }
          },
          "metadata": {}
        },
        {
          "output_type": "display_data",
          "data": {
            "text/plain": [
              "Downloading:   0%|          | 0.00/401 [00:00<?, ?B/s]"
            ],
            "application/vnd.jupyter.widget-view+json": {
              "version_major": 2,
              "version_minor": 0,
              "model_id": "ce7009064f9f4437abb9ba7e42bc66e9"
            }
          },
          "metadata": {}
        }
      ]
    },
    {
      "cell_type": "markdown",
      "source": [
        "Now we change our labels to 0 and 1<br>\n",
        "0 being positive class<br>\n",
        "1 being negative class"
      ],
      "metadata": {
        "id": "IiTyAfgeBYfc"
      }
    },
    {
      "cell_type": "code",
      "source": [
        "df.loc[(df.ttype == 1), ('ttype')] = 0\n",
        "df.loc[(df.ttype == -1), ('ttype')] = 1\n",
        "X = df['ttext']\n",
        "Y = df['ttype']"
      ],
      "metadata": {
        "id": "IktohIVQQPP9"
      },
      "execution_count": 8,
      "outputs": []
    },
    {
      "cell_type": "code",
      "source": [
        "#@title now we split the data\n",
        "from sklearn.model_selection import train_test_split\n",
        "\n",
        "X_train, X_test, y_train, y_test = train_test_split(X, Y , test_size=0.25, random_state=42)"
      ],
      "metadata": {
        "id": "Y4wBr0YjQBt9",
        "cellView": "form"
      },
      "execution_count": 9,
      "outputs": []
    },
    {
      "cell_type": "code",
      "source": [
        "#@title prepare it for training\n",
        "classifier.preparation(\n",
        "        X_train=list(X_train),\n",
        "        y_train=list(y_train),\n",
        "        X_valid=list(X_test),\n",
        "        y_valid=list(y_test)\n",
        "    )"
      ],
      "metadata": {
        "colab": {
          "base_uri": "https://localhost:8080/"
        },
        "id": "4CcCokn9MvMv",
        "outputId": "e7b2791d-d9fe-4cc0-b0b0-4da2faa5a32d",
        "cellView": "form"
      },
      "execution_count": 10,
      "outputs": [
        {
          "output_type": "stream",
          "name": "stderr",
          "text": [
            "/usr/local/lib/python3.8/dist-packages/transformers/optimization.py:306: FutureWarning: This implementation of AdamW is deprecated and will be removed in a future version. Use the PyTorch implementation torch.optim.AdamW instead, or set `no_deprecation_warning=True` to disable this warning\n",
            "  warnings.warn(\n"
          ]
        }
      ]
    },
    {
      "cell_type": "markdown",
      "source": [
        "and training the classifier<br>\n",
        "It will take some time"
      ],
      "metadata": {
        "id": "QYa2OlKHB3R4"
      }
    },
    {
      "cell_type": "code",
      "source": [
        "classifier.train()"
      ],
      "metadata": {
        "colab": {
          "base_uri": "https://localhost:8080/"
        },
        "id": "CzYvcqNPMwbm",
        "outputId": "a0b982d7-2fb1-42ef-ce52-6c824413da6c"
      },
      "execution_count": 11,
      "outputs": [
        {
          "output_type": "stream",
          "name": "stdout",
          "text": [
            "Epoch 1/3\n"
          ]
        },
        {
          "output_type": "stream",
          "name": "stderr",
          "text": [
            "100%|██████████| 85063/85063 [40:51<00:00, 34.69it/s]\n"
          ]
        },
        {
          "output_type": "stream",
          "name": "stdout",
          "text": [
            "Train loss 0.822440632652149 accuracy 0.733131520940485\n",
            "eval\n",
            "Val loss 0.8210741760943127 accuracy 0.7561410005466505\n",
            "----------\n",
            "Epoch 2/3\n"
          ]
        },
        {
          "output_type": "stream",
          "name": "stderr",
          "text": [
            "100%|██████████| 85063/85063 [40:49<00:00, 34.72it/s]\n"
          ]
        },
        {
          "output_type": "stream",
          "name": "stdout",
          "text": [
            "Train loss 0.7861066420281284 accuracy 0.7849875091844233\n",
            "eval\n",
            "Val loss 0.9189490165077137 accuracy 0.7650284787247175\n",
            "----------\n",
            "Epoch 3/3\n"
          ]
        },
        {
          "output_type": "stream",
          "name": "stderr",
          "text": [
            "100%|██████████| 85063/85063 [40:49<00:00, 34.73it/s]\n"
          ]
        },
        {
          "output_type": "stream",
          "name": "stdout",
          "text": [
            "Train loss 0.7401721163552887 accuracy 0.8116561351947098\n",
            "eval\n",
            "Val loss 0.952934950822718 accuracy 0.7660688779558801\n",
            "----------\n"
          ]
        }
      ]
    },
    {
      "cell_type": "code",
      "source": [
        "#@title Now we'll check our predictions\n",
        "predictions = [classifier.predict(x) for x in X_test]"
      ],
      "metadata": {
        "id": "4YglEcQdM9l1",
        "cellView": "form"
      },
      "execution_count": 12,
      "outputs": []
    },
    {
      "cell_type": "code",
      "source": [
        "#@title get our metrics\n",
        "from sklearn.metrics import precision_recall_fscore_support\n",
        "\n",
        "precision, recall, f1score = precision_recall_fscore_support(y_test, predictions,average='macro')[:3]\n",
        "\n",
        "print(f'precision: {precision}, recall: {recall}, f1score: {f1score}')"
      ],
      "metadata": {
        "id": "xwT0x6X1NFqd",
        "cellView": "form",
        "colab": {
          "base_uri": "https://localhost:8080/"
        },
        "outputId": "5306b8b8-a24f-44fa-e9f4-4d9088f0d86f"
      },
      "execution_count": 13,
      "outputs": [
        {
          "output_type": "stream",
          "name": "stdout",
          "text": [
            "precision: 0.7660962142331966, recall: 0.7661100685544979, f1score: 0.7660680137073965\n"
          ]
        }
      ]
    },
    {
      "cell_type": "code",
      "source": [
        "#@title and check the results the same way as before\n",
        "from sklearn.metrics import confusion_matrix, ConfusionMatrixDisplay\n",
        "cm = confusion_matrix(y_test, predictions)\n",
        "\n",
        "TN, FP, FN, TP = confusion_matrix(y_test, predictions).ravel()\n",
        "\n",
        "print('True Positive(TP)  = ', TP)\n",
        "print('False Positive(FP) = ', FP)\n",
        "print('True Negative(TN)  = ', TN)\n",
        "print('False Negative(FN) = ', FN)\n",
        "\n",
        "accuracy =  (TP + TN) / (TP + FP + TN + FN)\n",
        "\n",
        "print('Accuracy of the binary classifier = {:0.3f}'.format(accuracy))\n",
        "\n",
        "tinymat = confusion_matrix(y_test, predictions,)\n",
        "cmplot = ConfusionMatrixDisplay(confusion_matrix=tinymat,)\n",
        "cmplot.plot()"
      ],
      "metadata": {
        "id": "vXP9kqL7NGFN",
        "cellView": "form",
        "colab": {
          "base_uri": "https://localhost:8080/",
          "height": 383
        },
        "outputId": "a77d2830-36be-44b3-8ba9-0f4849f603ed"
      },
      "execution_count": 14,
      "outputs": [
        {
          "output_type": "stream",
          "name": "stdout",
          "text": [
            "True Positive(TP)  =  21667\n",
            "False Positive(FP) =  6825\n",
            "True Negative(TN)  =  21776\n",
            "False Negative(FN) =  6441\n",
            "Accuracy of the binary classifier = 0.766\n"
          ]
        },
        {
          "output_type": "execute_result",
          "data": {
            "text/plain": [
              "<sklearn.metrics._plot.confusion_matrix.ConfusionMatrixDisplay at 0x7fb2c68ad1c0>"
            ]
          },
          "metadata": {},
          "execution_count": 14
        },
        {
          "output_type": "display_data",
          "data": {
            "text/plain": [
              "<Figure size 432x288 with 2 Axes>"
            ],
            "image/png": "[encoded data removed]"
          },
          "metadata": {
            "needs_background": "light"
          }
        }
      ]
    },
    {
      "cell_type": "markdown",
      "source": [
        "As we can see, we got high accuracy on the main diagonal of the matrix(in yellow) <br>Antidiagonal shows low error (in purple)\n",
        "<br>Basically we got the accuracy of 75% in 3 epochs, we can change the model for large rubert and change the number of epochs based on the practical results of several training to get the best accuracy possible, but as stated before that was never our aim. Our aim was to \n",
        "*   Check the morphological hypothesis;\n",
        "*   Train classic classification models;\n",
        "*   See how good or bad they can be used in NLP field;\n",
        "*   See current SOTA technologies in this field and implement them to solve the task\n",
        "<br> All of that was conducted in our research.\n",
        "\n"
      ],
      "metadata": {
        "id": "vUMYrGBiCOp2"
      }
    }
  ]
}